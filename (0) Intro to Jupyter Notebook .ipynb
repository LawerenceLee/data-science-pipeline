{
 "cells": [
  {
   "cell_type": "markdown",
   "metadata": {},
   "source": [
    "# Using Jupyter Notebook"
   ]
  },
  {
   "cell_type": "markdown",
   "metadata": {},
   "source": [
    "> Jupyter Notebook is not literally a notebook but pretty close to one. \n",
    "\n",
    "> In each cell you can write code or Markdown; this is written in Markdown.\n",
    "\n",
    "> To edit Markdown and code cells, double click the cell, edit the cell and press shift+enter to run the Markdown or code."
   ]
  },
  {
   "cell_type": "code",
   "execution_count": 1,
   "metadata": {
    "collapsed": false
   },
   "outputs": [
    {
     "data": {
      "text/plain": [
       "8"
      ]
     },
     "execution_count": 1,
     "metadata": {},
     "output_type": "execute_result"
    }
   ],
   "source": [
    "4+4"
   ]
  },
  {
   "cell_type": "code",
   "execution_count": 2,
   "metadata": {
    "collapsed": false
   },
   "outputs": [
    {
     "name": "stdout",
     "output_type": "stream",
     "text": [
      "dhexonian\n"
     ]
    }
   ],
   "source": [
    "print \"dhexonian\""
   ]
  },
  {
   "cell_type": "code",
   "execution_count": 3,
   "metadata": {
    "collapsed": false
   },
   "outputs": [
    {
     "name": "stdout",
     "output_type": "stream",
     "text": [
      "0\n",
      "1\n",
      "2\n",
      "3\n",
      "4\n"
     ]
    }
   ],
   "source": [
    "for i in range(5): \n",
    "    print i"
   ]
  },
  {
   "cell_type": "markdown",
   "metadata": {},
   "source": [
    "You can also write LaTex. Wrap your LaTex with $$ and we're good to go!"
   ]
  },
  {
   "cell_type": "markdown",
   "metadata": {},
   "source": [
    "$$c = \\sqrt{a^2 + b^2}$$\n"
   ]
  },
  {
   "cell_type": "markdown",
   "metadata": {},
   "source": [
    "You can also write terminal commands in the code cell and execute them! Just use a bang/exclamation mark before the command. \n",
    "\n",
    "Note that I am working in Unix environment so the terminal commands below might not work on your workstation depending on your operating system."
   ]
  },
  {
   "cell_type": "code",
   "execution_count": 5,
   "metadata": {
    "collapsed": false
   },
   "outputs": [
    {
     "name": "stdout",
     "output_type": "stream",
     "text": [
      "(0) Intro to Jupyter Notebook .ipynb \u001b[34mdata_files\u001b[m\u001b[m\r\n",
      "README.md\r\n"
     ]
    }
   ],
   "source": [
    "!ls # return directory contents via ls"
   ]
  },
  {
   "cell_type": "code",
   "execution_count": 6,
   "metadata": {
    "collapsed": false
   },
   "outputs": [
    {
     "name": "stdout",
     "output_type": "stream",
     "text": [
      "# What is dhexonian pipeline? \r\n",
      "\r\n",
      "This repository is dedicated to helping newcomers to data science who desire a basic primer to get swiftly situated and practicing data science. I don't intend for this resource to be comprehensive. A much more thorough primer covering basic statistics, probability, linear algebra, machine learning and more will be covered in a MOOC format that I intend to release upon near completion. Please stay tuned for that.  \r\n",
      "\r\n",
      "### Goal \r\n",
      "\r\n",
      "If you come out of this tutorial thinking that you now have a good feeling for how to tackle a data science problem and can abstractly describe a pipeline to do so, then I feel this tutorial has satisfied its purpose. \r\n",
      "\r\n",
      "## Getting Started\r\n",
      "\r\n",
      "Please get started by cloning this repository locally to your workstation. All of the working files are Jupyter Notebook files denoted by the .ipynb extension. If you are unfamiliar with Jupyter Notebooks, please check out this [YouTube video](https://www.youtube.com/watch?v=HW29067qVWk). The notebooks work together with the data files housed adjacent to the repository folder and entitled \"data_files\". Rest assured, they are very light-weight files (under 5MB) so feel free to clone the entire repository. \r\n",
      "\r\n",
      "### Prerequisites\r\n",
      "\r\n",
      "- Python 2.7x Installed (Note 3.x posesses similar syntax)\r\n",
      "- Working knowledge of Python \r\n",
      "- Jupyter Notebook \r\n",
      "\r\n",
      "I also recommend having a virtual environment for this tutorial. Please consider using [Virtualenv](https://virtualenv.pypa.io/en/stable/) or [Anaconda](https://www.continuum.io/downloads). \r\n",
      "\r\n",
      "### Recommended Resources \r\n",
      "\r\n",
      "The tutorial moves swiftly as it assumes working knowledge of the Python programming language, Pandas and NumPy. Please consider these resources to fill in some of the deliberate omissions in this tutorial. \r\n",
      "\r\n",
      "- [Learn Python Quickly](https://learnpythonthehardway.org/)\r\n",
      "- [Learn Pandas and NumPy](https://www.youtube.com/watch?v=HW29067qVWk)\r\n",
      "\r\n",
      "### Required Python Libraries \r\n",
      "\r\n",
      "- ipykernel==4.5.2\r\n",
      "- ipython==5.1.0\r\n",
      "- jupyter==1.0.0\r\n",
      "- matplotlib==1.5.3\r\n",
      "- nbconvert==5.0.0\r\n",
      "- numpy==1.11.3\r\n",
      "- pandas==0.19.2\r\n",
      "- pickleshare==0.7.4\r\n",
      "- pyparsing==2.1.10\r\n",
      "- python-dateutil==2.6.0\r\n",
      "- requests==2.12.4\r\n",
      "- scikit-learn==0.18.1\r\n",
      "- scipy==0.18.1\r\n",
      "- seaborn==0.7.1\r\n",
      "- statsmodels==0.6.1\r\n",
      "\r\n",
      "If your virtual environment is through Anaconda, then use conda install command to get the necessary packages. If you use Virtualenv, then you can use the pip install command. Documentation for both package managers are robust, so please refer to those as needed. \r\n",
      "\r\n",
      "## Versioning\r\n",
      "\r\n",
      "I intend to create a separate Python 3.x version of this repository. Note that syntax difference is minimal for this tutorial. \r\n",
      "\r\n",
      "## Authors / Contributing\r\n",
      "\r\n",
      "* **D.H. Kim** - *Initial Work* - [dhexonian](https://github.com/dhexonian)\r\n",
      "Ping me if you want to contribute to building a formal pipeline/guide to learn data science.\r\n",
      "\r\n",
      "## License\r\n",
      "\r\n",
      "This project is free to distribute and utilize with good intent. \r\n",
      "If you feel you have benefited from the tutorials, please consider giving me feedback via my contacts below. \r\n",
      "\r\n",
      "## Contact\r\n",
      "Please consider following me on Twitter @dhexonian and Medium @dhexonian. \r\n",
      "I'd love to hear about how I can best serve the learning community. \r\n",
      "\r\n",
      "## Acknowledgments\r\n",
      "\r\n",
      "To my family for being patient and loving. \r\n"
     ]
    }
   ],
   "source": [
    "!cat README.md # return README.md content via cat"
   ]
  },
  {
   "cell_type": "markdown",
   "metadata": {},
   "source": [
    "<b>With Markdown, you can do so much. Here is the [cheat sheet](https://github.com/adam-p/markdown-here/wiki/Markdown-Cheatsheet#h1) for markdown.</b>"
   ]
  },
  {
   "cell_type": "markdown",
   "metadata": {},
   "source": [
    "# We're Done!"
   ]
  },
  {
   "cell_type": "markdown",
   "metadata": {},
   "source": [
    "This tutorial closely follows my Medium blog [@dhexonian](http://medium.com/@dhexonian).\n",
    "\n",
    "If you have any questions or requests please Tweet those to me, also [@dhexonian](https://twitter.com/dhexonian) "
   ]
  }
 ],
 "metadata": {
  "kernelspec": {
   "display_name": "Python 2",
   "language": "python",
   "name": "python2"
  },
  "language_info": {
   "codemirror_mode": {
    "name": "ipython",
    "version": 2
   },
   "file_extension": ".py",
   "mimetype": "text/x-python",
   "name": "python",
   "nbconvert_exporter": "python",
   "pygments_lexer": "ipython2",
   "version": "2.7.10"
  }
 },
 "nbformat": 4,
 "nbformat_minor": 2
}
