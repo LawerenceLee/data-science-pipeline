{
 "cells": [
  {
   "cell_type": "markdown",
   "metadata": {},
   "source": [
    "# Goal Setting "
   ]
  },
  {
   "cell_type": "markdown",
   "metadata": {},
   "source": [
    "So far we've done some data exploration, visualization and data munging but all for what. We've missed the most important factor in the pipeline which is defining the goal of all this hard work. \n",
    "\n",
    "Luckily we haven't really made any wasted effort. No matter what the data science problem or objective is we'd like to read, understand, visualize and munge the data. And often it's the case that preliminary due diligence on the data can inspire new interesting questions that we'd like to answer."
   ]
  },
  {
   "cell_type": "markdown",
   "metadata": {},
   "source": [
    "> Most of the time we have "
   ]
  },
  {
   "cell_type": "markdown",
   "metadata": {},
   "source": [
    "### Coming Up With Interesting Questions on The Numbers Data"
   ]
  },
  {
   "cell_type": "markdown",
   "metadata": {},
   "source": [
    "1. Can we predict movie total gross revenue based on factors pre-determined by the production companies? \n",
    "2. Can we predict critic or audience rating? \n",
    "3. Which movies are statistical anomalies based on their box office performance? \n",
    "4. Does the notoriety of production companies influence  \n",
    "5. Does the release date have a significant impact on total gross revenue \n",
    "6. Can PG movies do well? What's the distribution of PG movies and their total gross revenue performance vs. other MPAA ratings? "
   ]
  },
  {
   "cell_type": "markdown",
   "metadata": {},
   "source": [
    "> You can spend all day asking interesting questions"
   ]
  },
  {
   "cell_type": "markdown",
   "metadata": {
    "collapsed": true
   },
   "source": [
    "Let's stick to answering one question. And I choose... question 1. Suppose that we work for a production company like 21st Century Fox, and we'd like to optimize what we can plan (i.e. budget, release date, etc.) to maximize revenue."
   ]
  },
  {
   "cell_type": "markdown",
   "metadata": {
    "collapsed": true
   },
   "source": [
    "> Can we recreate the moneyball of Hollywood? Let's try to beat [Ryan Kavanaugh](https://en.wikipedia.org/wiki/Ryan_Kavanaugh)! who is considered wildly successful in film production."
   ]
  },
  {
   "cell_type": "markdown",
   "metadata": {},
   "source": [
    "### Summoning Domain Knowledge"
   ]
  },
  {
   "cell_type": "markdown",
   "metadata": {},
   "source": [
    "* Some data and/or industry verticals are really difficult to understand without expertise."
   ]
  },
  {
   "cell_type": "markdown",
   "metadata": {},
   "source": [
    "* It could be useful to do some due diligence on the industry to understand your data."
   ]
  },
  {
   "cell_type": "markdown",
   "metadata": {},
   "source": [
    "Luckily we as movie-goers have good knowledge of the data that we have. However consider working with a medical data set where we have no domain knowledge of medicine. It'd be great to have a domain expert on staff working closely with you to make sure you are thinking the right way."
   ]
  },
  {
   "cell_type": "markdown",
   "metadata": {},
   "source": [
    "### Thinking About Measure of Success"
   ]
  },
  {
   "cell_type": "markdown",
   "metadata": {},
   "source": [
    "* What calls for a successful data science project? As much as we'd like to believe we're doing this for fun, there's probably an organizational goal and objective to our projects."
   ]
  },
  {
   "cell_type": "markdown",
   "metadata": {},
   "source": [
    "* I won't yet define what denotes success with our project, but this is just something to be mindful of."
   ]
  },
  {
   "cell_type": "markdown",
   "metadata": {
    "collapsed": true
   },
   "source": [
    "### Time and $$$ Budget Considerations"
   ]
  },
  {
   "cell_type": "markdown",
   "metadata": {},
   "source": [
    "* There are real world deadlines. Let's make sure we plan ahead and don't go overboard on time."
   ]
  },
  {
   "cell_type": "markdown",
   "metadata": {
    "collapsed": true
   },
   "source": [
    "* Data science projects no matter how interesting have a price attached in terms of technical labor as well as computing costs. Let's not facilitate the company going bankrupt."
   ]
  },
  {
   "cell_type": "markdown",
   "metadata": {},
   "source": [
    "\n",
    "# We're Done!"
   ]
  },
  {
   "cell_type": "markdown",
   "metadata": {},
   "source": [
    "This tutorial closely follows my Medium blog [@dhexonian](http://medium.com/@dhexonian).\n",
    "\n",
    "If you have any questions or requests please Tweet those to me, also [@dhexonian](https://twitter.com/dhexonian) "
   ]
  }
 ],
 "metadata": {
  "kernelspec": {
   "display_name": "Python 2",
   "language": "python",
   "name": "python2"
  },
  "language_info": {
   "codemirror_mode": {
    "name": "ipython",
    "version": 2
   },
   "file_extension": ".py",
   "mimetype": "text/x-python",
   "name": "python",
   "nbconvert_exporter": "python",
   "pygments_lexer": "ipython2",
   "version": "2.7.10"
  }
 },
 "nbformat": 4,
 "nbformat_minor": 2
}
