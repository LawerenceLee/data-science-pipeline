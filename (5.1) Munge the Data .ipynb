{
 "cells": [
  {
   "cell_type": "markdown",
   "metadata": {},
   "source": [
    "# Data Pre-Processing"
   ]
  },
  {
   "cell_type": "markdown",
   "metadata": {},
   "source": [
    "This is a really difficult part in data science because it's open ended which means there isn't really a strict benchmark or way to pre-process data. There are certain rule of thumbs I will point out for data pre-processing and intuition that guides the discussion. Many times it's the case that your data science goals drive how you pre-process the data. Sometimes certain types or levels of pre-processing are obvious such as when we have empty entries or rows and columns of data alltogether.\n",
    "\n",
    "We'll move swiftly through the pipeline to grab an intuition at data pre-processing and defer detailed discussions to another module."
   ]
  },
  {
   "cell_type": "markdown",
   "metadata": {},
   "source": [
    "> There are 6 different data pre-processing recipes for machine learning that you will frequent.\n",
    "- Case by Case Data Preparation\n",
    "- Data Imputing\n",
    "- Feature Scaling \n",
    "- Binarizing Categorical Variables\n",
    "- Normalizing"
   ]
  },
  {
   "cell_type": "markdown",
   "metadata": {},
   "source": [
    "We mentioned in the previous module that we are ditching the Facebook dataset and opting for a new one just for freshness. We're also going to start from scratch and go through the entire pipeline that was outlined up to this module for review purposes."
   ]
  },
  {
   "cell_type": "markdown",
   "metadata": {},
   "source": [
    "## Introducing the new dataset"
   ]
  },
  {
   "cell_type": "markdown",
   "metadata": {},
   "source": [
    "The dataset is called \"the_numbers_raw.csv\", and it's named after a movie information website called \"The Numbers.\" I'm actually really familiar with this dataset because I procured a small sample of the website. You can probably procure tens of thousands of movies, but I opted for 500 movies just for instructional purposes."
   ]
  },
  {
   "cell_type": "markdown",
   "metadata": {},
   "source": [
    "\"[The Numbers](http://www.the-numbers.com/) was officially launched on October 17th, 1997 as a free resource for industry professionals, the investment community, and movie fans to track business information on movies. Since its humble early beginnings, with just 300 tracked movies, the site has grown to become the largest freely available database of movie industry information on the web.\" - From Their Website"
   ]
  },
  {
   "cell_type": "markdown",
   "metadata": {
    "collapsed": true
   },
   "source": [
    "If you are curious as to how I procured the data, please see the optional file <a href=\"./optional/the numbers web scraper.ipynb\">\"the numbers web scraper.ipynb\"</a>"
   ]
  },
  {
   "cell_type": "markdown",
   "metadata": {},
   "source": [
    "### Noting the Path, Size and Structure of the File"
   ]
  },
  {
   "cell_type": "code",
   "execution_count": 1,
   "metadata": {
    "collapsed": true
   },
   "outputs": [],
   "source": [
    "file_path = './data_files/the_numbers_raw.csv'"
   ]
  },
  {
   "cell_type": "code",
   "execution_count": 2,
   "metadata": {
    "collapsed": false
   },
   "outputs": [
    {
     "name": "stdout",
     "output_type": "stream",
     "text": [
      "-rw-r--r--  1 dhexonian  staff  313580 Feb 25 04:05 ./data_files/the_numbers_raw.csv\r\n"
     ]
    }
   ],
   "source": [
    "!ls -l $file_path # it's 56.5 kilobytes so we're good to read in the file "
   ]
  },
  {
   "cell_type": "code",
   "execution_count": 3,
   "metadata": {
    "collapsed": false
   },
   "outputs": [
    {
     "name": "stdout",
     "output_type": "stream",
     "text": [
      "Release Date,Title,Production Budget,Domestic Gross,Worldwide Gross,Url,Genre,Runtime,MPAA,Production Companies,Release,Domestic DVD Sales,Domestic Blu-ray Sales,Total Domestic Video Sales,Critic Rating,Wknd 1 Rank,Wknd 1 Gross,Wknd 1 %Change,Wknd 1 # Theaters,Wknd 1 GPT,Week 1 TG,Wknd 2 Rank,Wknd 2 Gross,Wknd 2 %Change,Wknd 2 # Theaters,Wknd 2 GPT,Week 2 TG,Wknd 3 Rank,Wknd 3 Gross,Wknd 3 %Change,Wknd 3 # Theaters,Wknd 3 GPT,Week 3 TG,Wknd 4 Rank,Wknd 4 Gross,Wknd 4 %Change,Wknd 4 # Theaters,Wknd 4 GPT,Week 4 TG\r\n",
      "12/18/2009,Avatar,\"$425,000,000\",\"$760,507,625\",\"$2,783,918,982\",http://www.the-numbers.com/movie/Avatar#tab=summary,Action,162 minutes,\"PG-13 for intense epic battle sequences and warfare, sensuality, language and some smoking.(Rating bulletin 2133, 8/11/2010)\",\"Dune Entertainment, 20th Century Fox, Ingenious Film Partners\",\"December 18th, 2009 (Wide) by 20th Century FoxDecember 18th, 2009 (IMAX) by 20th Century FoxAugust 27th, 2010 (IMAX) by 20th Century Fox, released as Avatar Special Edition: An IMAX 3D Experience\",\"$232,620,406\",\"$161,906,125\",\"$394,526,531\",\"[Critics\r\n"
     ]
    }
   ],
   "source": [
    "!head -2 $file_path # read the first few lines of the file "
   ]
  },
  {
   "cell_type": "markdown",
   "metadata": {},
   "source": [
    "### Initial Impressions\n",
    "\n",
    "- It looks like this file's first row consists of column names and the data starts from the second row.\n",
    "- The data looks to be comma delimited unlike our previous semi-colon delimited Facebook data \n",
    "- The data looks clean. There doesn't seem to be any supporting comments written in the data that we have to remove. \n",
    "- Seems like there's some data munging to be done. Note the $ and % signs that are going to be undesirable when doing data analysis."
   ]
  },
  {
   "cell_type": "markdown",
   "metadata": {},
   "source": [
    "### Importing the necessary packages"
   ]
  },
  {
   "cell_type": "code",
   "execution_count": 4,
   "metadata": {
    "collapsed": true
   },
   "outputs": [],
   "source": [
    "import pandas as pd \n",
    "import numpy as np \n",
    "from pandas import Series, DataFrame\n",
    "import matplotlib.pyplot as plt       \n",
    "from dateutil.parser import parse \n",
    "import re \n",
    "%matplotlib inline                    "
   ]
  },
  {
   "cell_type": "markdown",
   "metadata": {},
   "source": [
    "### Reading and Understand Your Data"
   ]
  },
  {
   "cell_type": "code",
   "execution_count": 5,
   "metadata": {
    "collapsed": false
   },
   "outputs": [],
   "source": [
    "file_path = './data_files/the_numbers_raw.csv'\n",
    "df = pd.read_csv(file_path)"
   ]
  },
  {
   "cell_type": "code",
   "execution_count": 308,
   "metadata": {
    "collapsed": false
   },
   "outputs": [
    {
     "data": {
      "text/plain": [
       "Index([u'Release Date', u'Title', u'Production Budget', u'Domestic Gross',\n",
       "       u'Worldwide Gross', u'Url', u'Genre', u'Runtime', u'MPAA',\n",
       "       u'Production Companies', u'Release', u'Domestic DVD Sales',\n",
       "       u'Domestic Blu-ray Sales', u'Total Domestic Video Sales',\n",
       "       u'Critic Rating', u'Wknd 1 Rank', u'Wknd 1 Gross', u'Wknd 1 %Change',\n",
       "       u'Wknd 1 # Theaters', u'Wknd 1 GPT', u'Week 1 TG', u'Wknd 2 Rank',\n",
       "       u'Wknd 2 Gross', u'Wknd 2 %Change', u'Wknd 2 # Theaters', u'Wknd 2 GPT',\n",
       "       u'Week 2 TG', u'Wknd 3 Rank', u'Wknd 3 Gross', u'Wknd 3 %Change',\n",
       "       u'Wknd 3 # Theaters', u'Wknd 3 GPT', u'Week 3 TG', u'Wknd 4 Rank',\n",
       "       u'Wknd 4 Gross', u'Wknd 4 %Change', u'Wknd 4 # Theaters', u'Wknd 4 GPT',\n",
       "       u'Week 4 TG'],\n",
       "      dtype='object')"
      ]
     },
     "execution_count": 308,
     "metadata": {},
     "output_type": "execute_result"
    }
   ],
   "source": [
    "df.columns # note what kind of columns we have "
   ]
  },
  {
   "cell_type": "markdown",
   "metadata": {},
   "source": [
    "Just for clarity in terms of understand our columns, TG stands for Total Gross and GPT stands for Gross Per Theater. GPT is simply TG / # Theaters."
   ]
  },
  {
   "cell_type": "code",
   "execution_count": 309,
   "metadata": {
    "collapsed": false
   },
   "outputs": [
    {
     "data": {
      "text/plain": [
       "39"
      ]
     },
     "execution_count": 309,
     "metadata": {},
     "output_type": "execute_result"
    }
   ],
   "source": [
    "len(df.columns) # use len to understand just how many columns there are "
   ]
  },
  {
   "cell_type": "code",
   "execution_count": 310,
   "metadata": {
    "collapsed": false
   },
   "outputs": [
    {
     "data": {
      "text/plain": [
       "RangeIndex(start=0, stop=500, step=1)"
      ]
     },
     "execution_count": 310,
     "metadata": {},
     "output_type": "execute_result"
    }
   ],
   "source": [
    "df.index # use index to view our index "
   ]
  },
  {
   "cell_type": "code",
   "execution_count": 311,
   "metadata": {
    "collapsed": false
   },
   "outputs": [
    {
     "data": {
      "text/plain": [
       "500"
      ]
     },
     "execution_count": 311,
     "metadata": {},
     "output_type": "execute_result"
    }
   ],
   "source": [
    "len(df.index) # confirm we have 2183 rows of data"
   ]
  },
  {
   "cell_type": "markdown",
   "metadata": {},
   "source": [
    "With the shape method we can figure out the dimensions of our entire DataFrame alltogether"
   ]
  },
  {
   "cell_type": "code",
   "execution_count": 312,
   "metadata": {
    "collapsed": false
   },
   "outputs": [
    {
     "data": {
      "text/plain": [
       "(500, 39)"
      ]
     },
     "execution_count": 312,
     "metadata": {},
     "output_type": "execute_result"
    }
   ],
   "source": [
    "df.shape"
   ]
  },
  {
   "cell_type": "code",
   "execution_count": 313,
   "metadata": {
    "collapsed": false
   },
   "outputs": [
    {
     "data": {
      "text/html": [
       "<div>\n",
       "<table border=\"1\" class=\"dataframe\">\n",
       "  <thead>\n",
       "    <tr style=\"text-align: right;\">\n",
       "      <th></th>\n",
       "      <th>Release Date</th>\n",
       "      <th>Title</th>\n",
       "      <th>Production Budget</th>\n",
       "      <th>Domestic Gross</th>\n",
       "      <th>Worldwide Gross</th>\n",
       "      <th>Url</th>\n",
       "      <th>Genre</th>\n",
       "      <th>Runtime</th>\n",
       "      <th>MPAA</th>\n",
       "      <th>Production Companies</th>\n",
       "      <th>...</th>\n",
       "      <th>Wknd 3 %Change</th>\n",
       "      <th>Wknd 3 # Theaters</th>\n",
       "      <th>Wknd 3 GPT</th>\n",
       "      <th>Week 3 TG</th>\n",
       "      <th>Wknd 4 Rank</th>\n",
       "      <th>Wknd 4 Gross</th>\n",
       "      <th>Wknd 4 %Change</th>\n",
       "      <th>Wknd 4 # Theaters</th>\n",
       "      <th>Wknd 4 GPT</th>\n",
       "      <th>Week 4 TG</th>\n",
       "    </tr>\n",
       "  </thead>\n",
       "  <tbody>\n",
       "    <tr>\n",
       "      <th>0</th>\n",
       "      <td>12/18/2009</td>\n",
       "      <td>Avatar</td>\n",
       "      <td>$425,000,000</td>\n",
       "      <td>$760,507,625</td>\n",
       "      <td>$2,783,918,982</td>\n",
       "      <td>http://www.the-numbers.com/movie/Avatar#tab=su...</td>\n",
       "      <td>Action</td>\n",
       "      <td>162 minutes</td>\n",
       "      <td>PG-13 for intense epic battle sequences and wa...</td>\n",
       "      <td>Dune Entertainment, 20th Century Fox, Ingeniou...</td>\n",
       "      <td>...</td>\n",
       "      <td>-9%</td>\n",
       "      <td>3,461</td>\n",
       "      <td>$19,789</td>\n",
       "      <td>$352,114,898</td>\n",
       "      <td>17.0</td>\n",
       "      <td>$50,306,217</td>\n",
       "      <td>-27%</td>\n",
       "      <td>3,422</td>\n",
       "      <td>$14,701</td>\n",
       "      <td>$430,846,514</td>\n",
       "    </tr>\n",
       "    <tr>\n",
       "      <th>1</th>\n",
       "      <td>12/18/2015</td>\n",
       "      <td>Star Wars Ep. VII: The Force Awakens</td>\n",
       "      <td>$306,000,000</td>\n",
       "      <td>$936,662,225</td>\n",
       "      <td>$2,058,662,225</td>\n",
       "      <td>http://www.the-numbers.com/movie/Star-Wars-Ep-...</td>\n",
       "      <td>Adventure</td>\n",
       "      <td>136 minutes</td>\n",
       "      <td>PG-13 for sci-fi action violence.(Rating bulle...</td>\n",
       "      <td>Lucasfilm, Bad Robot</td>\n",
       "      <td>...</td>\n",
       "      <td>-40%</td>\n",
       "      <td>4,134</td>\n",
       "      <td>$21,829</td>\n",
       "      <td>$742,208,942</td>\n",
       "      <td>17.0</td>\n",
       "      <td>$42,353,785</td>\n",
       "      <td>-53%</td>\n",
       "      <td>4,134</td>\n",
       "      <td>$10,245</td>\n",
       "      <td>$812,734,828</td>\n",
       "    </tr>\n",
       "    <tr>\n",
       "      <th>2</th>\n",
       "      <td>5/24/2007</td>\n",
       "      <td>Pirates of the Caribbean: At World’s End</td>\n",
       "      <td>$300,000,000</td>\n",
       "      <td>$309,420,425</td>\n",
       "      <td>$963,420,425</td>\n",
       "      <td>http://www.the-numbers.com/movie/Pirates-of-th...</td>\n",
       "      <td>Adventure</td>\n",
       "      <td>167 minutes</td>\n",
       "      <td>PG-13 for intense sequences of action/adventur...</td>\n",
       "      <td>Walt Disney Pictures, Jerry Bruckheimer</td>\n",
       "      <td>...</td>\n",
       "      <td>-52%</td>\n",
       "      <td>4,002</td>\n",
       "      <td>$5,283</td>\n",
       "      <td>$253,441,723</td>\n",
       "      <td>17.0</td>\n",
       "      <td>$12,411,786</td>\n",
       "      <td>-41%</td>\n",
       "      <td>3,329</td>\n",
       "      <td>$3,728</td>\n",
       "      <td>$274,145,510</td>\n",
       "    </tr>\n",
       "  </tbody>\n",
       "</table>\n",
       "<p>3 rows × 39 columns</p>\n",
       "</div>"
      ],
      "text/plain": [
       "  Release Date                                     Title Production Budget  \\\n",
       "0   12/18/2009                                    Avatar      $425,000,000   \n",
       "1   12/18/2015      Star Wars Ep. VII: The Force Awakens      $306,000,000   \n",
       "2    5/24/2007  Pirates of the Caribbean: At World’s End      $300,000,000   \n",
       "\n",
       "  Domestic Gross Worldwide Gross  \\\n",
       "0   $760,507,625  $2,783,918,982   \n",
       "1   $936,662,225  $2,058,662,225   \n",
       "2   $309,420,425    $963,420,425   \n",
       "\n",
       "                                                 Url      Genre      Runtime  \\\n",
       "0  http://www.the-numbers.com/movie/Avatar#tab=su...     Action  162 minutes   \n",
       "1  http://www.the-numbers.com/movie/Star-Wars-Ep-...  Adventure  136 minutes   \n",
       "2  http://www.the-numbers.com/movie/Pirates-of-th...  Adventure  167 minutes   \n",
       "\n",
       "                                                MPAA  \\\n",
       "0  PG-13 for intense epic battle sequences and wa...   \n",
       "1  PG-13 for sci-fi action violence.(Rating bulle...   \n",
       "2  PG-13 for intense sequences of action/adventur...   \n",
       "\n",
       "                                Production Companies      ...       \\\n",
       "0  Dune Entertainment, 20th Century Fox, Ingeniou...      ...        \n",
       "1                               Lucasfilm, Bad Robot      ...        \n",
       "2            Walt Disney Pictures, Jerry Bruckheimer      ...        \n",
       "\n",
       "  Wknd 3 %Change Wknd 3 # Theaters Wknd 3 GPT     Week 3 TG Wknd 4 Rank  \\\n",
       "0            -9%             3,461    $19,789  $352,114,898        17.0   \n",
       "1           -40%             4,134    $21,829  $742,208,942        17.0   \n",
       "2           -52%             4,002     $5,283  $253,441,723        17.0   \n",
       "\n",
       "  Wknd 4 Gross Wknd 4 %Change Wknd 4 # Theaters Wknd 4 GPT     Week 4 TG  \n",
       "0  $50,306,217           -27%             3,422    $14,701  $430,846,514  \n",
       "1  $42,353,785           -53%             4,134    $10,245  $812,734,828  \n",
       "2  $12,411,786           -41%             3,329     $3,728  $274,145,510  \n",
       "\n",
       "[3 rows x 39 columns]"
      ]
     },
     "execution_count": 313,
     "metadata": {},
     "output_type": "execute_result"
    }
   ],
   "source": [
    "df.head(3) # we can use either head, tail or sample to get a preview of the DataFrame "
   ]
  },
  {
   "cell_type": "markdown",
   "metadata": {},
   "source": [
    "Note that because the DataFrame is so wide (39 columns wide to be exact) Jupyter Notebook provides a horizontal scrollbar for us to look at columns of data which don't fit on our window."
   ]
  },
  {
   "cell_type": "code",
   "execution_count": 314,
   "metadata": {
    "collapsed": false
   },
   "outputs": [
    {
     "name": "stdout",
     "output_type": "stream",
     "text": [
      "<class 'pandas.core.frame.DataFrame'>\n",
      "RangeIndex: 500 entries, 0 to 499\n",
      "Data columns (total 39 columns):\n",
      "Release Date                  500 non-null object\n",
      "Title                         500 non-null object\n",
      "Production Budget             500 non-null object\n",
      "Domestic Gross                500 non-null object\n",
      "Worldwide Gross               500 non-null object\n",
      "Url                           500 non-null object\n",
      "Genre                         500 non-null object\n",
      "Runtime                       465 non-null object\n",
      "MPAA                          497 non-null object\n",
      "Production Companies          447 non-null object\n",
      "Release                       499 non-null object\n",
      "Domestic DVD Sales            318 non-null object\n",
      "Domestic Blu-ray Sales        270 non-null object\n",
      "Total Domestic Video Sales    318 non-null object\n",
      "Critic Rating                 334 non-null object\n",
      "Wknd 1 Rank                   497 non-null object\n",
      "Wknd 1 Gross                  497 non-null object\n",
      "Wknd 1 %Change                497 non-null object\n",
      "Wknd 1 # Theaters             497 non-null object\n",
      "Wknd 1 GPT                    497 non-null object\n",
      "Week 1 TG                     497 non-null object\n",
      "Wknd 2 Rank                   497 non-null float64\n",
      "Wknd 2 Gross                  496 non-null object\n",
      "Wknd 2 %Change                496 non-null object\n",
      "Wknd 2 # Theaters             496 non-null object\n",
      "Wknd 2 GPT                    496 non-null object\n",
      "Week 2 TG                     496 non-null object\n",
      "Wknd 3 Rank                   496 non-null float64\n",
      "Wknd 3 Gross                  495 non-null object\n",
      "Wknd 3 %Change                495 non-null object\n",
      "Wknd 3 # Theaters             495 non-null object\n",
      "Wknd 3 GPT                    495 non-null object\n",
      "Week 3 TG                     495 non-null object\n",
      "Wknd 4 Rank                   495 non-null float64\n",
      "Wknd 4 Gross                  492 non-null object\n",
      "Wknd 4 %Change                492 non-null object\n",
      "Wknd 4 # Theaters             492 non-null object\n",
      "Wknd 4 GPT                    492 non-null object\n",
      "Week 4 TG                     492 non-null object\n",
      "dtypes: float64(3), object(36)\n",
      "memory usage: 152.4+ KB\n"
     ]
    }
   ],
   "source": [
    "df.info() # return number of non-null values and data type of each column via info() method"
   ]
  },
  {
   "cell_type": "markdown",
   "metadata": {},
   "source": [
    "> Note that each column has varying numbers of non-null objects. "
   ]
  },
  {
   "cell_type": "markdown",
   "metadata": {},
   "source": [
    "We have missing values. Note that we have all 500 release dates for our 500 movies but we only have 270 Domestic Blu-ray Sales. We can hypothesize that this is probably because some movies weren't popular enough to warrant a Blu-Ray release. Or it could be the case that some movies were not of the time that Blu-Rays were a thing. We will revisit what to do with missing values in a bit. "
   ]
  },
  {
   "cell_type": "code",
   "execution_count": 315,
   "metadata": {
    "collapsed": false
   },
   "outputs": [
    {
     "data": {
      "text/html": [
       "<div>\n",
       "<table border=\"1\" class=\"dataframe\">\n",
       "  <thead>\n",
       "    <tr style=\"text-align: right;\">\n",
       "      <th></th>\n",
       "      <th>Wknd 2 Rank</th>\n",
       "      <th>Wknd 3 Rank</th>\n",
       "      <th>Wknd 4 Rank</th>\n",
       "    </tr>\n",
       "  </thead>\n",
       "  <tbody>\n",
       "    <tr>\n",
       "      <th>count</th>\n",
       "      <td>497.000000</td>\n",
       "      <td>496.000000</td>\n",
       "      <td>495.000000</td>\n",
       "    </tr>\n",
       "    <tr>\n",
       "      <th>mean</th>\n",
       "      <td>3.730382</td>\n",
       "      <td>10.731855</td>\n",
       "      <td>17.733333</td>\n",
       "    </tr>\n",
       "    <tr>\n",
       "      <th>std</th>\n",
       "      <td>7.649303</td>\n",
       "      <td>7.656955</td>\n",
       "      <td>7.664630</td>\n",
       "    </tr>\n",
       "    <tr>\n",
       "      <th>min</th>\n",
       "      <td>3.000000</td>\n",
       "      <td>10.000000</td>\n",
       "      <td>17.000000</td>\n",
       "    </tr>\n",
       "    <tr>\n",
       "      <th>25%</th>\n",
       "      <td>3.000000</td>\n",
       "      <td>10.000000</td>\n",
       "      <td>17.000000</td>\n",
       "    </tr>\n",
       "    <tr>\n",
       "      <th>50%</th>\n",
       "      <td>3.000000</td>\n",
       "      <td>10.000000</td>\n",
       "      <td>17.000000</td>\n",
       "    </tr>\n",
       "    <tr>\n",
       "      <th>75%</th>\n",
       "      <td>3.000000</td>\n",
       "      <td>10.000000</td>\n",
       "      <td>17.000000</td>\n",
       "    </tr>\n",
       "    <tr>\n",
       "      <th>max</th>\n",
       "      <td>173.000000</td>\n",
       "      <td>180.000000</td>\n",
       "      <td>187.000000</td>\n",
       "    </tr>\n",
       "  </tbody>\n",
       "</table>\n",
       "</div>"
      ],
      "text/plain": [
       "       Wknd 2 Rank  Wknd 3 Rank  Wknd 4 Rank\n",
       "count   497.000000   496.000000   495.000000\n",
       "mean      3.730382    10.731855    17.733333\n",
       "std       7.649303     7.656955     7.664630\n",
       "min       3.000000    10.000000    17.000000\n",
       "25%       3.000000    10.000000    17.000000\n",
       "50%       3.000000    10.000000    17.000000\n",
       "75%       3.000000    10.000000    17.000000\n",
       "max     173.000000   180.000000   187.000000"
      ]
     },
     "execution_count": 315,
     "metadata": {},
     "output_type": "execute_result"
    }
   ],
   "source": [
    "df.describe() # return aggregate statistics via describe() method"
   ]
  },
  {
   "cell_type": "markdown",
   "metadata": {},
   "source": [
    "> Uh oh..."
   ]
  },
  {
   "cell_type": "markdown",
   "metadata": {},
   "source": [
    "We'd like for our describe() method to return aggregate statistics for each of our columns. However we are given aggregate statistics for only three columns: \"Wknd 2 Rank, WKnd 3 Rank and Wknd 4 Rank.\" This is because the describe method() is unfamiliar with handling columns with data type: \"non-null object\". The intuition is that describe() cannot calculate statistics such as percentiles, averages and standard deviations for non-integer and non-float (numeric) data types. It's impossible to calculate the standard deviation of MPAA ratings, so describe() won't pretend to do it.\n",
    "\n",
    "The three columsn \"Wknd 2 Rank, WKnd 3 Rank and Wknd 4 Rank\" are non-null float64 which is recognizable and calculatable. \n",
    "\n",
    "We need to do some data pre-processing. Thankfully we did some preliminary data exploration!"
   ]
  },
  {
   "cell_type": "code",
   "execution_count": 316,
   "metadata": {
    "collapsed": false
   },
   "outputs": [
    {
     "data": {
      "text/plain": [
       "dtype('float64')"
      ]
     },
     "execution_count": 316,
     "metadata": {},
     "output_type": "execute_result"
    }
   ],
   "source": [
    "# to confirm the data type of a single DataFrame column / also known as Series use dtype method\n",
    "df['Wknd 2 Rank'].dtype "
   ]
  },
  {
   "cell_type": "code",
   "execution_count": 317,
   "metadata": {
    "collapsed": false
   },
   "outputs": [
    {
     "data": {
      "text/plain": [
       "dtype('O')"
      ]
     },
     "execution_count": 317,
     "metadata": {},
     "output_type": "execute_result"
    }
   ],
   "source": [
    "# non-null object \"O\"\n",
    "df['Wknd 2 Gross'].dtype "
   ]
  },
  {
   "cell_type": "markdown",
   "metadata": {},
   "source": [
    "### Visualizing the Data"
   ]
  },
  {
   "cell_type": "markdown",
   "metadata": {
    "collapsed": true
   },
   "source": [
    "We can visualize the data right now, but note that one could argue that through data exploration we have an intuition that it could be wise to draft a plan of action for tackling null values and the data types of each column before data visualization."
   ]
  },
  {
   "cell_type": "markdown",
   "metadata": {},
   "source": [
    "Let's just do brute force data visualization and see where we get."
   ]
  },
  {
   "cell_type": "code",
   "execution_count": 318,
   "metadata": {
    "collapsed": false
   },
   "outputs": [
    {
     "data": {
      "image/png": "[encoded data removed]",
      "text/plain": [
       "<matplotlib.figure.Figure at 0x108ba7b10>"
      ]
     },
     "metadata": {},
     "output_type": "display_data"
    }
   ],
   "source": [
    "# let's create a histogram of each column \n",
    "df.hist(figsize=(15,40),layout=(20,2),sharex=False, sharey=False) # use the hist method to create a histogram of each feature\n",
    "plt.show()"
   ]
  },
  {
   "cell_type": "markdown",
   "metadata": {},
   "source": [
    "> Not again... We've only rendered three histograms. It's becoming pretty clear that we need to do some pre-processing before undergoing any serious data exploration and visualization."
   ]
  },
  {
   "cell_type": "markdown",
   "metadata": {},
   "source": [
    "The fact that we can't properly visualize our data without data pre-processing is pretty much an invincible argument for undergoing data pre-processing right after reading in the data. "
   ]
  },
  {
   "cell_type": "markdown",
   "metadata": {},
   "source": [
    "### Referring back to Data Pre-Processing"
   ]
  },
  {
   "cell_type": "markdown",
   "metadata": {},
   "source": [
    "- Case by Case Problems w/ Messy Data \n",
    "- Data Imputing\n",
    "- Feature Scaling \n",
    "- Binarizing Categorical Variables\n",
    "- Normalizing"
   ]
  },
  {
   "cell_type": "markdown",
   "metadata": {},
   "source": [
    "We will try to go in top to bottom order and start tackling the problem of handling messy data."
   ]
  },
  {
   "cell_type": "code",
   "execution_count": 319,
   "metadata": {
    "collapsed": false
   },
   "outputs": [
    {
     "data": {
      "text/plain": [
       "Release Date                                                         12/18/2009\n",
       "Title                                                                    Avatar\n",
       "Production Budget                                                  $425,000,000\n",
       "Domestic Gross                                                     $760,507,625\n",
       "Worldwide Gross                                                  $2,783,918,982\n",
       "Url                           http://www.the-numbers.com/movie/Avatar#tab=su...\n",
       "Genre                                                                    Action\n",
       "Runtime                                                             162 minutes\n",
       "MPAA                          PG-13 for intense epic battle sequences and wa...\n",
       "Production Companies          Dune Entertainment, 20th Century Fox, Ingeniou...\n",
       "Release                       December 18th, 2009 (Wide) by 20th Century Fox...\n",
       "Domestic DVD Sales                                                 $232,620,406\n",
       "Domestic Blu-ray Sales                                             $161,906,125\n",
       "Total Domestic Video Sales                                         $394,526,531\n",
       "Critic Rating                 [Critics\\n83% - Certified Fresh, Audience\\n82%...\n",
       "Wknd 1 Rank                                                          2009/12/18\n",
       "Wknd 1 Gross                                                        $77,025,481\n",
       "Wknd 1 %Change                                                             None\n",
       "Wknd 1 # Theaters                                                         3,452\n",
       "Wknd 1 GPT                                                              $22,313\n",
       "Week 1 TG                                                           $77,025,481\n",
       "Wknd 2 Rank                                                                   3\n",
       "Wknd 2 Gross                                                        $75,617,133\n",
       "Wknd 2 %Change                                                              -2%\n",
       "Wknd 2 # Theaters                                                         3,456\n",
       "Wknd 2 GPT                                                              $21,880\n",
       "Week 2 TG                                                          $212,711,184\n",
       "Wknd 3 Rank                                                                  10\n",
       "Wknd 3 Gross                                                        $68,490,688\n",
       "Wknd 3 %Change                                                              -9%\n",
       "Wknd 3 # Theaters                                                         3,461\n",
       "Wknd 3 GPT                                                              $19,789\n",
       "Week 3 TG                                                          $352,114,898\n",
       "Wknd 4 Rank                                                                  17\n",
       "Wknd 4 Gross                                                        $50,306,217\n",
       "Wknd 4 %Change                                                             -27%\n",
       "Wknd 4 # Theaters                                                         3,422\n",
       "Wknd 4 GPT                                                              $14,701\n",
       "Week 4 TG                                                          $430,846,514\n",
       "Name: 0, dtype: object"
      ]
     },
     "execution_count": 319,
     "metadata": {},
     "output_type": "execute_result"
    }
   ],
   "source": [
    "df.ix[0] # view first row of our data via ix"
   ]
  },
  {
   "cell_type": "markdown",
   "metadata": {},
   "source": [
    "From looking at our data, we want to be mindful of doing the following.\n",
    "\n",
    "1. Remove $ sign for columns related to revenue/sales and change numeric numeric data into float64 objects \n",
    "2. Ensure that the release date data is in the appropriate datetime format \n",
    "3. Remove \"minutes\" for the Runtime data\n",
    "4. Get only the MPAA Rating without the additional commentary \n",
    "5. There are two critic ratings: audience and critic rating. Remove the text and procure just the two numbers as two separate columns.\n",
    "6. Remove any columns as needed depending on your data science problem     "
   ]
  },
  {
   "cell_type": "markdown",
   "metadata": {},
   "source": [
    "### Cleaning"
   ]
  },
  {
   "cell_type": "code",
   "execution_count": 43,
   "metadata": {
    "collapsed": false
   },
   "outputs": [],
   "source": [
    "# we will defer detailed discussion of data munging to a later pandas and numpy module\n",
    "\n",
    "def scrubber(file):\n",
    "    \n",
    "    df = pd.read_csv(file)\n",
    "    \n",
    "    columns_to_scrub = ['Production Budget','Domestic Gross','Worldwide Gross','Domestic DVD Sales','Domestic Blu-ray Sales','Total Domestic Video Sales','Wknd 1 Rank','Wknd 1 Gross','Wknd 1 # Theaters','Wknd 1 GPT','Week 1 TG', 'Wknd 2 Rank','Wknd 2 Gross','Wknd 2 %Change','Wknd 2 # Theaters','Wknd 2 GPT','Week 2 TG','Wknd 3 Rank','Wknd 3 Gross','Wknd 3 %Change','Wknd 3 # Theaters','Wknd 3 GPT','Week 3 TG','Wknd 4 Rank','Wknd 4 Gross','Wknd 4 %Change','Wknd 4 # Theaters','Wknd 4 GPT','Week 4 TG']\n",
    "    \n",
    "    for column in columns_to_scrub:\n",
    "        df[column] = df[column].map(lambda x: (re.sub('[$|,|%]','',str(x)))) \n",
    "            \n",
    "    df['Runtime'] = df['Runtime'].astype(str).map(lambda x: x.split()[0])\n",
    "\n",
    "    df['MPAA'] = df['MPAA'].astype(str).map(lambda x: x.split()[0])  \n",
    "    \n",
    "    df['Critic Rating'] = df['Critic Rating'].astype(str).map(lambda x: x.strip())        \n",
    "    df['Release Date'] = df['Release Date'].apply(lambda x: parse(x))\n",
    "    \n",
    "    return df \n",
    "\n",
    "def split_critic(df):\n",
    "    \n",
    "    list_of_rating = df['Critic Rating'].tolist()\n",
    "\n",
    "    total_rating = [] \n",
    "    \n",
    "    for rating_string in list_of_rating:\n",
    "        \n",
    "        if rating_string == 'nan' or len(rating_string)==0 or re.findall('\\d+%',rating_string)==[]: \n",
    "            total_rating.append([0,0])\n",
    "        elif len(re.findall('\\d+%',rating_string))==1:\n",
    "            total_rating.append([re.findall('\\d+%',rating_string)[0],re.findall('\\d+%',rating_string)[0]])\n",
    "        else:\n",
    "            list_pair = re.findall('\\d+%',rating_string)\n",
    "            total_rating.append(list_pair)\n",
    "\n",
    "    critic_rate, audience_rate = zip(*total_rating)\n",
    "    \n",
    "    df['Critic Rate'] = map(lambda x: re.sub('[$|,|%]','',str(x)),critic_rate)\n",
    "    df['Audience Rate'] = map(lambda x: re.sub('[$|,|%]','',str(x)),audience_rate)\n",
    "    df.drop(['Critic Rating','Wknd 1 %Change','Release Date'],axis=1, inplace=True)\n",
    "    df = df.replace('nan',np.nan)\n",
    "    return df \n",
    "\n",
    "df = scrubber('./data_files/the_numbers_raw.csv')\n",
    "df = split_critic(df)"
   ]
  },
  {
   "cell_type": "code",
   "execution_count": 34,
   "metadata": {
    "collapsed": false
   },
   "outputs": [
    {
     "data": {
      "text/plain": [
       "Title                                                                    Avatar\n",
       "Production Budget                                                     425000000\n",
       "Domestic Gross                                                        760507625\n",
       "Worldwide Gross                                                      2783918982\n",
       "Url                           http://www.the-numbers.com/movie/Avatar#tab=su...\n",
       "Genre                                                                    Action\n",
       "Runtime                                                                     162\n",
       "MPAA                                                                      PG-13\n",
       "Production Companies          Dune Entertainment, 20th Century Fox, Ingeniou...\n",
       "Release                       December 18th, 2009 (Wide) by 20th Century Fox...\n",
       "Domestic DVD Sales                                                    232620406\n",
       "Domestic Blu-ray Sales                                                161906125\n",
       "Total Domestic Video Sales                                            394526531\n",
       "Wknd 1 Rank                                                          2009/12/18\n",
       "Wknd 1 Gross                                                           77025481\n",
       "Wknd 1 # Theaters                                                          3452\n",
       "Wknd 1 GPT                                                                22313\n",
       "Week 1 TG                                                              77025481\n",
       "Wknd 2 Rank                                                                 3.0\n",
       "Wknd 2 Gross                                                           75617133\n",
       "Wknd 2 %Change                                                               -2\n",
       "Wknd 2 # Theaters                                                          3456\n",
       "Wknd 2 GPT                                                                21880\n",
       "Week 2 TG                                                             212711184\n",
       "Wknd 3 Rank                                                                10.0\n",
       "Wknd 3 Gross                                                           68490688\n",
       "Wknd 3 %Change                                                               -9\n",
       "Wknd 3 # Theaters                                                          3461\n",
       "Wknd 3 GPT                                                                19789\n",
       "Week 3 TG                                                             352114898\n",
       "Wknd 4 Rank                                                                17.0\n",
       "Wknd 4 Gross                                                           50306217\n",
       "Wknd 4 %Change                                                              -27\n",
       "Wknd 4 # Theaters                                                          3422\n",
       "Wknd 4 GPT                                                                14701\n",
       "Week 4 TG                                                             430846514\n",
       "Critic Rate                                                                  83\n",
       "Audience Rate                                                                82\n",
       "Name: 0, dtype: object"
      ]
     },
     "execution_count": 34,
     "metadata": {},
     "output_type": "execute_result"
    }
   ],
   "source": [
    "df.ix[0] "
   ]
  },
  {
   "cell_type": "markdown",
   "metadata": {},
   "source": [
    "### Data Imputing "
   ]
  },
  {
   "cell_type": "markdown",
   "metadata": {},
   "source": [
    "We've noted that some entries are going to be null or missing. This means that we have to make an executive decision as to whether or not we want to drop rows of data that have missing data or figure out a way to make an educated guess and fill those null values. Finding a way to make sound estimates to replace null values is called data imputing."
   ]
  },
  {
   "cell_type": "markdown",
   "metadata": {},
   "source": [
    "> 7 Frequented Options"
   ]
  },
  {
   "cell_type": "markdown",
   "metadata": {},
   "source": [
    "1. Imputate by the median or mean of the entire column for continuous features and the mode for categorical features.\n",
    "2. Plot a distribution (histogram if binning or particular density distribution) of the column and take a random sample from that distribution. \n",
    "3. Record the rows with null values. Model data on rows of complete data. Then make use the model to make probabilistic assessments of which value in place of the null value will maximize the likelihood of the data given the non-null values that exist in the same row. \n",
    "4. Remove rows that have null values alltogether. Can't risk bad guesses. \n",
    "5. Remove columns that have a lot of null values. Some columns weren't that meaningful anyways. \n",
    "6. Manual sourcing.\n",
    "7. Something else.\n",
    "    "
   ]
  },
  {
   "cell_type": "markdown",
   "metadata": {},
   "source": [
    "### Let's actually view what null values look like in a DataFrame"
   ]
  },
  {
   "cell_type": "code",
   "execution_count": 44,
   "metadata": {
    "collapsed": false
   },
   "outputs": [
    {
     "name": "stdout",
     "output_type": "stream",
     "text": [
      "<class 'pandas.core.frame.DataFrame'>\n",
      "RangeIndex: 500 entries, 0 to 499\n",
      "Data columns (total 38 columns):\n",
      "Title                         500 non-null object\n",
      "Production Budget             500 non-null object\n",
      "Domestic Gross                500 non-null object\n",
      "Worldwide Gross               500 non-null object\n",
      "Url                           500 non-null object\n",
      "Genre                         500 non-null object\n",
      "Runtime                       465 non-null object\n",
      "MPAA                          497 non-null object\n",
      "Production Companies          447 non-null object\n",
      "Release                       499 non-null object\n",
      "Domestic DVD Sales            318 non-null object\n",
      "Domestic Blu-ray Sales        270 non-null object\n",
      "Total Domestic Video Sales    318 non-null object\n",
      "Wknd 1 Rank                   497 non-null object\n",
      "Wknd 1 Gross                  497 non-null object\n",
      "Wknd 1 # Theaters             497 non-null object\n",
      "Wknd 1 GPT                    497 non-null object\n",
      "Week 1 TG                     497 non-null object\n",
      "Wknd 2 Rank                   497 non-null object\n",
      "Wknd 2 Gross                  496 non-null object\n",
      "Wknd 2 %Change                496 non-null object\n",
      "Wknd 2 # Theaters             496 non-null object\n",
      "Wknd 2 GPT                    496 non-null object\n",
      "Week 2 TG                     496 non-null object\n",
      "Wknd 3 Rank                   496 non-null object\n",
      "Wknd 3 Gross                  495 non-null object\n",
      "Wknd 3 %Change                495 non-null object\n",
      "Wknd 3 # Theaters             495 non-null object\n",
      "Wknd 3 GPT                    495 non-null object\n",
      "Week 3 TG                     495 non-null object\n",
      "Wknd 4 Rank                   495 non-null object\n",
      "Wknd 4 Gross                  492 non-null object\n",
      "Wknd 4 %Change                492 non-null object\n",
      "Wknd 4 # Theaters             492 non-null object\n",
      "Wknd 4 GPT                    492 non-null object\n",
      "Week 4 TG                     492 non-null object\n",
      "Critic Rate                   500 non-null object\n",
      "Audience Rate                 500 non-null object\n",
      "dtypes: object(38)\n",
      "memory usage: 148.5+ KB\n"
     ]
    }
   ],
   "source": [
    "df.info()"
   ]
  },
  {
   "cell_type": "markdown",
   "metadata": {},
   "source": [
    "Note that Domestic Blu-ray Sales column has the least number of non-null values which means it has the most number of null values."
   ]
  },
  {
   "cell_type": "code",
   "execution_count": 45,
   "metadata": {
    "collapsed": false
   },
   "outputs": [
    {
     "data": {
      "text/plain": [
       "0      False\n",
       "1      False\n",
       "2      False\n",
       "3      False\n",
       "4      False\n",
       "5      False\n",
       "6      False\n",
       "7      False\n",
       "8      False\n",
       "9      False\n",
       "10     False\n",
       "11     False\n",
       "12     False\n",
       "13     False\n",
       "14     False\n",
       "15     False\n",
       "16     False\n",
       "17      True\n",
       "18     False\n",
       "19     False\n",
       "20     False\n",
       "21     False\n",
       "22      True\n",
       "23     False\n",
       "24     False\n",
       "25     False\n",
       "26     False\n",
       "27     False\n",
       "28     False\n",
       "29     False\n",
       "       ...  \n",
       "470     True\n",
       "471     True\n",
       "472     True\n",
       "473     True\n",
       "474     True\n",
       "475    False\n",
       "476    False\n",
       "477     True\n",
       "478     True\n",
       "479    False\n",
       "480     True\n",
       "481    False\n",
       "482     True\n",
       "483     True\n",
       "484     True\n",
       "485     True\n",
       "486    False\n",
       "487     True\n",
       "488     True\n",
       "489     True\n",
       "490    False\n",
       "491     True\n",
       "492    False\n",
       "493     True\n",
       "494     True\n",
       "495     True\n",
       "496    False\n",
       "497     True\n",
       "498    False\n",
       "499     True\n",
       "Name: Domestic Blu-ray Sales, dtype: bool"
      ]
     },
     "execution_count": 45,
     "metadata": {},
     "output_type": "execute_result"
    }
   ],
   "source": [
    "df['Domestic Blu-ray Sales'].isnull() # isnull() method returns True if null else False "
   ]
  },
  {
   "cell_type": "markdown",
   "metadata": {},
   "source": [
    "You see how long that output was? From now on when I can conserve space in our Notebook I will use the head, tail or sample command to get a shorter output."
   ]
  },
  {
   "cell_type": "code",
   "execution_count": 46,
   "metadata": {
    "collapsed": false
   },
   "outputs": [
    {
     "data": {
      "text/plain": [
       "17    NaN\n",
       "22    NaN\n",
       "32    NaN\n",
       "33    NaN\n",
       "34    NaN\n",
       "Name: Domestic Blu-ray Sales, dtype: object"
      ]
     },
     "execution_count": 46,
     "metadata": {},
     "output_type": "execute_result"
    }
   ],
   "source": [
    "# this is what null values look like: NaN\n",
    "# note that I use head() to output five line items, five is the default, but you can specify how many by head(number)\n",
    "df['Domestic Blu-ray Sales'].ix[df['Domestic Blu-ray Sales'].isnull()].head() "
   ]
  },
  {
   "cell_type": "markdown",
   "metadata": {},
   "source": [
    "Remember from data type module that loc in the context of DataFrames can take in a row(s) name/index, column(s) name/index pair! \n",
    "\n",
    "Let's do this to view for which Titles we have null values for Runtime."
   ]
  },
  {
   "cell_type": "code",
   "execution_count": 48,
   "metadata": {
    "collapsed": false
   },
   "outputs": [
    {
     "data": {
      "text/html": [
       "<div>\n",
       "<table border=\"1\" class=\"dataframe\">\n",
       "  <thead>\n",
       "    <tr style=\"text-align: right;\">\n",
       "      <th></th>\n",
       "      <th>Title</th>\n",
       "      <th>Domestic Blu-ray Sales</th>\n",
       "    </tr>\n",
       "  </thead>\n",
       "  <tbody>\n",
       "    <tr>\n",
       "      <th>17</th>\n",
       "      <td>Superman Returns</td>\n",
       "      <td>NaN</td>\n",
       "    </tr>\n",
       "    <tr>\n",
       "      <th>22</th>\n",
       "      <td>The Chronicles of Narnia: Prince Caspian</td>\n",
       "      <td>NaN</td>\n",
       "    </tr>\n",
       "    <tr>\n",
       "      <th>32</th>\n",
       "      <td>The Golden Compass</td>\n",
       "      <td>NaN</td>\n",
       "    </tr>\n",
       "    <tr>\n",
       "      <th>33</th>\n",
       "      <td>Titanic</td>\n",
       "      <td>NaN</td>\n",
       "    </tr>\n",
       "    <tr>\n",
       "      <th>34</th>\n",
       "      <td>Rogue One: A Star Wars Story</td>\n",
       "      <td>NaN</td>\n",
       "    </tr>\n",
       "  </tbody>\n",
       "</table>\n",
       "</div>"
      ],
      "text/plain": [
       "                                       Title Domestic Blu-ray Sales\n",
       "17                          Superman Returns                    NaN\n",
       "22  The Chronicles of Narnia: Prince Caspian                    NaN\n",
       "32                        The Golden Compass                    NaN\n",
       "33                                   Titanic                    NaN\n",
       "34              Rogue One: A Star Wars Story                    NaN"
      ]
     },
     "execution_count": 48,
     "metadata": {},
     "output_type": "execute_result"
    }
   ],
   "source": [
    "# loc can take two arguments as (row name/index, col name/index)\n",
    "# df['Runtime'].isnull() is our row index \n",
    "# ['Title','Runtime'] is a list of column names \n",
    "df.loc[df['Domestic Blu-ray Sales'].isnull(),['Title','Domestic Blu-ray Sales']].head()"
   ]
  },
  {
   "cell_type": "markdown",
   "metadata": {},
   "source": [
    "> Wait what? Weren't some of these movies incredibly popular and modern enough to warrant a Blu-ray release?"
   ]
  },
  {
   "cell_type": "markdown",
   "metadata": {},
   "source": [
    "That's peculiar. And this leaves us an important lesson: data is messy. Note that as we are data munging, we are getting to learn more and more about our data. Often times, I find myself revisiting data exploration and visualization as I am doing pre-processing to better gauge how I should clean my data and best position it to accomplish our data science goals."
   ]
  },
  {
   "cell_type": "markdown",
   "metadata": {},
   "source": [
    "### If we opt to remove rows with null values for Domestic Blu-Ray Sales"
   ]
  },
  {
   "cell_type": "code",
   "execution_count": 49,
   "metadata": {
    "collapsed": false
   },
   "outputs": [
    {
     "name": "stdout",
     "output_type": "stream",
     "text": [
      "<class 'pandas.core.frame.DataFrame'>\n",
      "RangeIndex: 500 entries, 0 to 499\n",
      "Data columns (total 38 columns):\n",
      "Title                         500 non-null object\n",
      "Production Budget             500 non-null object\n",
      "Domestic Gross                500 non-null object\n",
      "Worldwide Gross               500 non-null object\n",
      "Url                           500 non-null object\n",
      "Genre                         500 non-null object\n",
      "Runtime                       465 non-null object\n",
      "MPAA                          497 non-null object\n",
      "Production Companies          447 non-null object\n",
      "Release                       499 non-null object\n",
      "Domestic DVD Sales            318 non-null object\n",
      "Domestic Blu-ray Sales        270 non-null object\n",
      "Total Domestic Video Sales    318 non-null object\n",
      "Wknd 1 Rank                   497 non-null object\n",
      "Wknd 1 Gross                  497 non-null object\n",
      "Wknd 1 # Theaters             497 non-null object\n",
      "Wknd 1 GPT                    497 non-null object\n",
      "Week 1 TG                     497 non-null object\n",
      "Wknd 2 Rank                   497 non-null object\n",
      "Wknd 2 Gross                  496 non-null object\n",
      "Wknd 2 %Change                496 non-null object\n",
      "Wknd 2 # Theaters             496 non-null object\n",
      "Wknd 2 GPT                    496 non-null object\n",
      "Week 2 TG                     496 non-null object\n",
      "Wknd 3 Rank                   496 non-null object\n",
      "Wknd 3 Gross                  495 non-null object\n",
      "Wknd 3 %Change                495 non-null object\n",
      "Wknd 3 # Theaters             495 non-null object\n",
      "Wknd 3 GPT                    495 non-null object\n",
      "Week 3 TG                     495 non-null object\n",
      "Wknd 4 Rank                   495 non-null object\n",
      "Wknd 4 Gross                  492 non-null object\n",
      "Wknd 4 %Change                492 non-null object\n",
      "Wknd 4 # Theaters             492 non-null object\n",
      "Wknd 4 GPT                    492 non-null object\n",
      "Week 4 TG                     492 non-null object\n",
      "Critic Rate                   500 non-null object\n",
      "Audience Rate                 500 non-null object\n",
      "dtypes: object(38)\n",
      "memory usage: 148.5+ KB\n"
     ]
    }
   ],
   "source": [
    "df.info() # note the number of non-null in each column before dropping rows with null values"
   ]
  },
  {
   "cell_type": "markdown",
   "metadata": {},
   "source": [
    "Give me the DataFrame should I choose to remove rows of data with null values for Domestic Blu-ray Sales."
   ]
  },
  {
   "cell_type": "code",
   "execution_count": 79,
   "metadata": {
    "collapsed": false
   },
   "outputs": [
    {
     "data": {
      "text/html": [
       "<div>\n",
       "<table border=\"1\" class=\"dataframe\">\n",
       "  <thead>\n",
       "    <tr style=\"text-align: right;\">\n",
       "      <th></th>\n",
       "      <th>Title</th>\n",
       "      <th>Production Budget</th>\n",
       "      <th>Domestic Gross</th>\n",
       "      <th>Worldwide Gross</th>\n",
       "      <th>Url</th>\n",
       "      <th>Genre</th>\n",
       "      <th>Runtime</th>\n",
       "      <th>MPAA</th>\n",
       "      <th>Production Companies</th>\n",
       "      <th>Release</th>\n",
       "      <th>...</th>\n",
       "      <th>Wknd 3 GPT</th>\n",
       "      <th>Week 3 TG</th>\n",
       "      <th>Wknd 4 Rank</th>\n",
       "      <th>Wknd 4 Gross</th>\n",
       "      <th>Wknd 4 %Change</th>\n",
       "      <th>Wknd 4 # Theaters</th>\n",
       "      <th>Wknd 4 GPT</th>\n",
       "      <th>Week 4 TG</th>\n",
       "      <th>Critic Rate</th>\n",
       "      <th>Audience Rate</th>\n",
       "    </tr>\n",
       "  </thead>\n",
       "  <tbody>\n",
       "    <tr>\n",
       "      <th>0</th>\n",
       "      <td>Avatar</td>\n",
       "      <td>425000000</td>\n",
       "      <td>760507625</td>\n",
       "      <td>2783918982</td>\n",
       "      <td>http://www.the-numbers.com/movie/Avatar#tab=su...</td>\n",
       "      <td>Action</td>\n",
       "      <td>162</td>\n",
       "      <td>PG-13</td>\n",
       "      <td>Dune Entertainment, 20th Century Fox, Ingeniou...</td>\n",
       "      <td>December 18th, 2009 (Wide) by 20th Century Fox...</td>\n",
       "      <td>...</td>\n",
       "      <td>19789</td>\n",
       "      <td>352114898</td>\n",
       "      <td>17.0</td>\n",
       "      <td>50306217</td>\n",
       "      <td>-27</td>\n",
       "      <td>3422</td>\n",
       "      <td>14701</td>\n",
       "      <td>430846514</td>\n",
       "      <td>83</td>\n",
       "      <td>82</td>\n",
       "    </tr>\n",
       "    <tr>\n",
       "      <th>1</th>\n",
       "      <td>Star Wars Ep. VII: The Force Awakens</td>\n",
       "      <td>306000000</td>\n",
       "      <td>936662225</td>\n",
       "      <td>2058662225</td>\n",
       "      <td>http://www.the-numbers.com/movie/Star-Wars-Ep-...</td>\n",
       "      <td>Adventure</td>\n",
       "      <td>136</td>\n",
       "      <td>PG-13</td>\n",
       "      <td>Lucasfilm, Bad Robot</td>\n",
       "      <td>December 18th, 2015 (IMAX) by Walt DisneyDecem...</td>\n",
       "      <td>...</td>\n",
       "      <td>21829</td>\n",
       "      <td>742208942</td>\n",
       "      <td>17.0</td>\n",
       "      <td>42353785</td>\n",
       "      <td>-53</td>\n",
       "      <td>4134</td>\n",
       "      <td>10245</td>\n",
       "      <td>812734828</td>\n",
       "      <td>0</td>\n",
       "      <td>0</td>\n",
       "    </tr>\n",
       "    <tr>\n",
       "      <th>2</th>\n",
       "      <td>Pirates of the Caribbean: At World’s End</td>\n",
       "      <td>300000000</td>\n",
       "      <td>309420425</td>\n",
       "      <td>963420425</td>\n",
       "      <td>http://www.the-numbers.com/movie/Pirates-of-th...</td>\n",
       "      <td>Adventure</td>\n",
       "      <td>167</td>\n",
       "      <td>PG-13</td>\n",
       "      <td>Walt Disney Pictures, Jerry Bruckheimer</td>\n",
       "      <td>May 24th, 2007 (Wide) by Walt Disney, released...</td>\n",
       "      <td>...</td>\n",
       "      <td>5283</td>\n",
       "      <td>253441723</td>\n",
       "      <td>17.0</td>\n",
       "      <td>12411786</td>\n",
       "      <td>-41</td>\n",
       "      <td>3329</td>\n",
       "      <td>3728</td>\n",
       "      <td>274145510</td>\n",
       "      <td>0</td>\n",
       "      <td>0</td>\n",
       "    </tr>\n",
       "    <tr>\n",
       "      <th>3</th>\n",
       "      <td>Spectre</td>\n",
       "      <td>300000000</td>\n",
       "      <td>200074175</td>\n",
       "      <td>879620923</td>\n",
       "      <td>http://www.the-numbers.com/movie/Spectre#tab=s...</td>\n",
       "      <td>Action</td>\n",
       "      <td>148</td>\n",
       "      <td>PG-13</td>\n",
       "      <td>Eon Productions</td>\n",
       "      <td>November 6th, 2015 (Wide) by Sony PicturesNove...</td>\n",
       "      <td>...</td>\n",
       "      <td>4111</td>\n",
       "      <td>154146608</td>\n",
       "      <td>17.0</td>\n",
       "      <td>12887772</td>\n",
       "      <td>-14</td>\n",
       "      <td>2940</td>\n",
       "      <td>4384</td>\n",
       "      <td>176125179</td>\n",
       "      <td>0</td>\n",
       "      <td>0</td>\n",
       "    </tr>\n",
       "    <tr>\n",
       "      <th>4</th>\n",
       "      <td>The Dark Knight Rises</td>\n",
       "      <td>275000000</td>\n",
       "      <td>448139099</td>\n",
       "      <td>1084439099</td>\n",
       "      <td>http://www.the-numbers.com/movie/Dark-Knight-R...</td>\n",
       "      <td>Action</td>\n",
       "      <td>164</td>\n",
       "      <td>PG-13</td>\n",
       "      <td>Warner Bros., Legendary Pictures, Syncopy</td>\n",
       "      <td>July 20th, 2012 (Wide) by Warner Bros.July 20t...</td>\n",
       "      <td>...</td>\n",
       "      <td>8425</td>\n",
       "      <td>353935094</td>\n",
       "      <td>17.0</td>\n",
       "      <td>18979397</td>\n",
       "      <td>-47</td>\n",
       "      <td>3690</td>\n",
       "      <td>5143</td>\n",
       "      <td>389588216</td>\n",
       "      <td>87</td>\n",
       "      <td>90</td>\n",
       "    </tr>\n",
       "  </tbody>\n",
       "</table>\n",
       "<p>5 rows × 38 columns</p>\n",
       "</div>"
      ],
      "text/plain": [
       "                                      Title Production Budget Domestic Gross  \\\n",
       "0                                    Avatar         425000000      760507625   \n",
       "1      Star Wars Ep. VII: The Force Awakens         306000000      936662225   \n",
       "2  Pirates of the Caribbean: At World’s End         300000000      309420425   \n",
       "3                                   Spectre         300000000      200074175   \n",
       "4                     The Dark Knight Rises         275000000      448139099   \n",
       "\n",
       "  Worldwide Gross                                                Url  \\\n",
       "0      2783918982  http://www.the-numbers.com/movie/Avatar#tab=su...   \n",
       "1      2058662225  http://www.the-numbers.com/movie/Star-Wars-Ep-...   \n",
       "2       963420425  http://www.the-numbers.com/movie/Pirates-of-th...   \n",
       "3       879620923  http://www.the-numbers.com/movie/Spectre#tab=s...   \n",
       "4      1084439099  http://www.the-numbers.com/movie/Dark-Knight-R...   \n",
       "\n",
       "       Genre Runtime   MPAA  \\\n",
       "0     Action     162  PG-13   \n",
       "1  Adventure     136  PG-13   \n",
       "2  Adventure     167  PG-13   \n",
       "3     Action     148  PG-13   \n",
       "4     Action     164  PG-13   \n",
       "\n",
       "                                Production Companies  \\\n",
       "0  Dune Entertainment, 20th Century Fox, Ingeniou...   \n",
       "1                               Lucasfilm, Bad Robot   \n",
       "2            Walt Disney Pictures, Jerry Bruckheimer   \n",
       "3                                    Eon Productions   \n",
       "4          Warner Bros., Legendary Pictures, Syncopy   \n",
       "\n",
       "                                             Release      ...      Wknd 3 GPT  \\\n",
       "0  December 18th, 2009 (Wide) by 20th Century Fox...      ...           19789   \n",
       "1  December 18th, 2015 (IMAX) by Walt DisneyDecem...      ...           21829   \n",
       "2  May 24th, 2007 (Wide) by Walt Disney, released...      ...            5283   \n",
       "3  November 6th, 2015 (Wide) by Sony PicturesNove...      ...            4111   \n",
       "4  July 20th, 2012 (Wide) by Warner Bros.July 20t...      ...            8425   \n",
       "\n",
       "   Week 3 TG Wknd 4 Rank Wknd 4 Gross Wknd 4 %Change Wknd 4 # Theaters  \\\n",
       "0  352114898        17.0     50306217            -27              3422   \n",
       "1  742208942        17.0     42353785            -53              4134   \n",
       "2  253441723        17.0     12411786            -41              3329   \n",
       "3  154146608        17.0     12887772            -14              2940   \n",
       "4  353935094        17.0     18979397            -47              3690   \n",
       "\n",
       "  Wknd 4 GPT  Week 4 TG Critic Rate Audience Rate  \n",
       "0      14701  430846514          83            82  \n",
       "1      10245  812734828           0             0  \n",
       "2       3728  274145510           0             0  \n",
       "3       4384  176125179           0             0  \n",
       "4       5143  389588216          87            90  \n",
       "\n",
       "[5 rows x 38 columns]"
      ]
     },
     "execution_count": 79,
     "metadata": {},
     "output_type": "execute_result"
    }
   ],
   "source": [
    "# : signifies that we want to summon the index containing all columns \n",
    "# hence equivalently df.ix[df['Domestic Blu-ray Sales'].notnull(),df.columns].head()\n",
    "df.ix[df['Domestic Blu-ray Sales'].notnull(),:].head()"
   ]
  },
  {
   "cell_type": "markdown",
   "metadata": {},
   "source": [
    "Because Domstic Blu-ray Sales has 270 non-null objects what we expect at the most optimal condition is for 270 rows to remain in our DataFrame. Note that this is only when null values exist in complete rows."
   ]
  },
  {
   "cell_type": "code",
   "execution_count": 78,
   "metadata": {
    "collapsed": false
   },
   "outputs": [
    {
     "name": "stdout",
     "output_type": "stream",
     "text": [
      "<class 'pandas.core.frame.DataFrame'>\n",
      "Int64Index: 270 entries, 0 to 498\n",
      "Data columns (total 38 columns):\n",
      "Title                         270 non-null object\n",
      "Production Budget             270 non-null object\n",
      "Domestic Gross                270 non-null object\n",
      "Worldwide Gross               270 non-null object\n",
      "Url                           270 non-null object\n",
      "Genre                         270 non-null object\n",
      "Runtime                       268 non-null object\n",
      "MPAA                          270 non-null object\n",
      "Production Companies          262 non-null object\n",
      "Release                       270 non-null object\n",
      "Domestic DVD Sales            270 non-null object\n",
      "Domestic Blu-ray Sales        270 non-null object\n",
      "Total Domestic Video Sales    270 non-null object\n",
      "Wknd 1 Rank                   270 non-null object\n",
      "Wknd 1 Gross                  270 non-null object\n",
      "Wknd 1 # Theaters             270 non-null object\n",
      "Wknd 1 GPT                    270 non-null object\n",
      "Week 1 TG                     270 non-null object\n",
      "Wknd 2 Rank                   270 non-null object\n",
      "Wknd 2 Gross                  270 non-null object\n",
      "Wknd 2 %Change                270 non-null object\n",
      "Wknd 2 # Theaters             270 non-null object\n",
      "Wknd 2 GPT                    270 non-null object\n",
      "Week 2 TG                     270 non-null object\n",
      "Wknd 3 Rank                   270 non-null object\n",
      "Wknd 3 Gross                  270 non-null object\n",
      "Wknd 3 %Change                270 non-null object\n",
      "Wknd 3 # Theaters             270 non-null object\n",
      "Wknd 3 GPT                    270 non-null object\n",
      "Week 3 TG                     270 non-null object\n",
      "Wknd 4 Rank                   270 non-null object\n",
      "Wknd 4 Gross                  270 non-null object\n",
      "Wknd 4 %Change                270 non-null object\n",
      "Wknd 4 # Theaters             270 non-null object\n",
      "Wknd 4 GPT                    270 non-null object\n",
      "Week 4 TG                     270 non-null object\n",
      "Critic Rate                   270 non-null object\n",
      "Audience Rate                 270 non-null object\n",
      "dtypes: object(38)\n",
      "memory usage: 82.3+ KB\n"
     ]
    }
   ],
   "source": [
    "df.ix[df['Domestic Blu-ray Sales'].notnull(),:].info()"
   ]
  },
  {
   "cell_type": "markdown",
   "metadata": {},
   "source": [
    "### If we opt to remove rows with null values for any column"
   ]
  },
  {
   "cell_type": "code",
   "execution_count": 81,
   "metadata": {
    "collapsed": false
   },
   "outputs": [
    {
     "name": "stdout",
     "output_type": "stream",
     "text": [
      "<class 'pandas.core.frame.DataFrame'>\n",
      "Int64Index: 262 entries, 0 to 498\n",
      "Data columns (total 38 columns):\n",
      "Title                         262 non-null object\n",
      "Production Budget             262 non-null object\n",
      "Domestic Gross                262 non-null object\n",
      "Worldwide Gross               262 non-null object\n",
      "Url                           262 non-null object\n",
      "Genre                         262 non-null object\n",
      "Runtime                       262 non-null object\n",
      "MPAA                          262 non-null object\n",
      "Production Companies          262 non-null object\n",
      "Release                       262 non-null object\n",
      "Domestic DVD Sales            262 non-null object\n",
      "Domestic Blu-ray Sales        262 non-null object\n",
      "Total Domestic Video Sales    262 non-null object\n",
      "Wknd 1 Rank                   262 non-null object\n",
      "Wknd 1 Gross                  262 non-null object\n",
      "Wknd 1 # Theaters             262 non-null object\n",
      "Wknd 1 GPT                    262 non-null object\n",
      "Week 1 TG                     262 non-null object\n",
      "Wknd 2 Rank                   262 non-null object\n",
      "Wknd 2 Gross                  262 non-null object\n",
      "Wknd 2 %Change                262 non-null object\n",
      "Wknd 2 # Theaters             262 non-null object\n",
      "Wknd 2 GPT                    262 non-null object\n",
      "Week 2 TG                     262 non-null object\n",
      "Wknd 3 Rank                   262 non-null object\n",
      "Wknd 3 Gross                  262 non-null object\n",
      "Wknd 3 %Change                262 non-null object\n",
      "Wknd 3 # Theaters             262 non-null object\n",
      "Wknd 3 GPT                    262 non-null object\n",
      "Week 3 TG                     262 non-null object\n",
      "Wknd 4 Rank                   262 non-null object\n",
      "Wknd 4 Gross                  262 non-null object\n",
      "Wknd 4 %Change                262 non-null object\n",
      "Wknd 4 # Theaters             262 non-null object\n",
      "Wknd 4 GPT                    262 non-null object\n",
      "Week 4 TG                     262 non-null object\n",
      "Critic Rate                   262 non-null object\n",
      "Audience Rate                 262 non-null object\n",
      "dtypes: object(38)\n",
      "memory usage: 79.8+ KB\n"
     ]
    }
   ],
   "source": [
    "df_dropna = df.dropna() # dropna() method does the trick \n",
    "df_dropna.info()"
   ]
  },
  {
   "cell_type": "markdown",
   "metadata": {},
   "source": [
    "We see that we are left with 262 rows of data which is far from ideal because we've wiped away half of our data. Let's consider removing columns which have many null values. I feel like the Blu-ray, Video and DVD Sales columns are dragging us down incredibly, and they're coming a hassle."
   ]
  },
  {
   "cell_type": "markdown",
   "metadata": {},
   "source": [
    "### Removing Columns Which Have Many Null Values "
   ]
  },
  {
   "cell_type": "markdown",
   "metadata": {},
   "source": [
    "Let's go back to our original DataFrame df, and not df_dropna"
   ]
  },
  {
   "cell_type": "code",
   "execution_count": 82,
   "metadata": {
    "collapsed": false
   },
   "outputs": [
    {
     "data": {
      "text/plain": [
       "Title                         500\n",
       "Production Budget             500\n",
       "Domestic Gross                500\n",
       "Worldwide Gross               500\n",
       "Url                           500\n",
       "Genre                         500\n",
       "Runtime                       465\n",
       "MPAA                          497\n",
       "Production Companies          447\n",
       "Release                       499\n",
       "Domestic DVD Sales            318\n",
       "Domestic Blu-ray Sales        270\n",
       "Total Domestic Video Sales    318\n",
       "Wknd 1 Rank                   497\n",
       "Wknd 1 Gross                  497\n",
       "Wknd 1 # Theaters             497\n",
       "Wknd 1 GPT                    497\n",
       "Week 1 TG                     497\n",
       "Wknd 2 Rank                   497\n",
       "Wknd 2 Gross                  496\n",
       "Wknd 2 %Change                496\n",
       "Wknd 2 # Theaters             496\n",
       "Wknd 2 GPT                    496\n",
       "Week 2 TG                     496\n",
       "Wknd 3 Rank                   496\n",
       "Wknd 3 Gross                  495\n",
       "Wknd 3 %Change                495\n",
       "Wknd 3 # Theaters             495\n",
       "Wknd 3 GPT                    495\n",
       "Week 3 TG                     495\n",
       "Wknd 4 Rank                   495\n",
       "Wknd 4 Gross                  492\n",
       "Wknd 4 %Change                492\n",
       "Wknd 4 # Theaters             492\n",
       "Wknd 4 GPT                    492\n",
       "Week 4 TG                     492\n",
       "Critic Rate                   500\n",
       "Audience Rate                 500\n",
       "dtype: int64"
      ]
     },
     "execution_count": 82,
     "metadata": {},
     "output_type": "execute_result"
    }
   ],
   "source": [
    "# unlike info count returns a Series (single column DataFrame) that has the number of non-null objects as values column names as index\n",
    "df.count() "
   ]
  },
  {
   "cell_type": "code",
   "execution_count": 14,
   "metadata": {
    "collapsed": false
   },
   "outputs": [
    {
     "data": {
      "text/plain": [
       "Domestic Blu-ray Sales        270\n",
       "Domestic DVD Sales            318\n",
       "Total Domestic Video Sales    318\n",
       "Production Companies          447\n",
       "Runtime                       465\n",
       "Week 4 TG                     492\n",
       "Wknd 4 GPT                    492\n",
       "Wknd 4 # Theaters             492\n",
       "Wknd 4 %Change                492\n",
       "Wknd 4 Gross                  492\n",
       "Wknd 4 Rank                   495\n",
       "Wknd 3 GPT                    495\n",
       "Wknd 3 Gross                  495\n",
       "Week 3 TG                     495\n",
       "Wknd 3 %Change                495\n",
       "Wknd 3 # Theaters             495\n",
       "Wknd 3 Rank                   496\n",
       "Week 2 TG                     496\n",
       "Wknd 2 GPT                    496\n",
       "Wknd 2 Gross                  496\n",
       "Wknd 2 %Change                496\n",
       "Wknd 2 # Theaters             496\n",
       "Wknd 2 Rank                   497\n",
       "Wknd 1 GPT                    497\n",
       "Wknd 1 # Theaters             497\n",
       "Wknd 1 Rank                   497\n",
       "MPAA                          497\n",
       "Week 1 TG                     497\n",
       "Wknd 1 Gross                  497\n",
       "Release                       499\n",
       "Title                         500\n",
       "Genre                         500\n",
       "Url                           500\n",
       "Worldwide Gross               500\n",
       "Domestic Gross                500\n",
       "Production Budget             500\n",
       "Critic Rate                   500\n",
       "Audience Rate                 500\n",
       "dtype: int64"
      ]
     },
     "execution_count": 14,
     "metadata": {},
     "output_type": "execute_result"
    }
   ],
   "source": [
    "df.count().sort_values() # use sort_values() to order the Series from least to greatest "
   ]
  },
  {
   "cell_type": "markdown",
   "metadata": {},
   "source": [
    "We can make a strong argument for dropping the three columns with the most null values\n",
    "1. Domestic Blu-ray Sales        \n",
    "2. Total Domestic Video Sales    \n",
    "3. Domestic DVD Sales            "
   ]
  },
  {
   "cell_type": "markdown",
   "metadata": {},
   "source": [
    "Note that because there are so many null values in these three columns, imputing via a statistical metric such as mean would be unwise. Half the data in those columns just can't be generalized to a mean."
   ]
  },
  {
   "cell_type": "code",
   "execution_count": 85,
   "metadata": {
    "collapsed": false
   },
   "outputs": [
    {
     "data": {
      "text/plain": [
       "['Title',\n",
       " 'Production Budget',\n",
       " 'Domestic Gross',\n",
       " 'Worldwide Gross',\n",
       " 'Url',\n",
       " 'Genre',\n",
       " 'Runtime',\n",
       " 'MPAA',\n",
       " 'Production Companies',\n",
       " 'Release',\n",
       " 'Wknd 1 Rank',\n",
       " 'Wknd 1 Gross',\n",
       " 'Wknd 1 # Theaters',\n",
       " 'Wknd 1 GPT',\n",
       " 'Week 1 TG',\n",
       " 'Wknd 2 Rank',\n",
       " 'Wknd 2 Gross',\n",
       " 'Wknd 2 %Change',\n",
       " 'Wknd 2 # Theaters',\n",
       " 'Wknd 2 GPT',\n",
       " 'Week 2 TG',\n",
       " 'Wknd 3 Rank',\n",
       " 'Wknd 3 Gross',\n",
       " 'Wknd 3 %Change',\n",
       " 'Wknd 3 # Theaters',\n",
       " 'Wknd 3 GPT',\n",
       " 'Week 3 TG',\n",
       " 'Wknd 4 Rank',\n",
       " 'Wknd 4 Gross',\n",
       " 'Wknd 4 %Change',\n",
       " 'Wknd 4 # Theaters',\n",
       " 'Wknd 4 GPT',\n",
       " 'Week 4 TG',\n",
       " 'Critic Rate',\n",
       " 'Audience Rate']"
      ]
     },
     "execution_count": 85,
     "metadata": {},
     "output_type": "execute_result"
    }
   ],
   "source": [
    "# use list comprehension to return columns that are not one of the three that we want to remove\n",
    "cols = [col for col in df.columns if col not in ['Domestic DVD Sales','Domestic Blu-ray Sales', 'Total Domestic Video Sales']]\n",
    "cols"
   ]
  },
  {
   "cell_type": "code",
   "execution_count": 86,
   "metadata": {
    "collapsed": true
   },
   "outputs": [],
   "source": [
    "df = df[cols]"
   ]
  },
  {
   "cell_type": "code",
   "execution_count": 87,
   "metadata": {
    "collapsed": false
   },
   "outputs": [
    {
     "data": {
      "text/plain": [
       "Production Companies    447\n",
       "Runtime                 465\n",
       "Week 4 TG               492\n",
       "Wknd 4 GPT              492\n",
       "Wknd 4 # Theaters       492\n",
       "Wknd 4 %Change          492\n",
       "Wknd 4 Gross            492\n",
       "Wknd 3 GPT              495\n",
       "Wknd 3 Gross            495\n",
       "Week 3 TG               495\n",
       "Wknd 3 # Theaters       495\n",
       "Wknd 3 %Change          495\n",
       "Wknd 4 Rank             495\n",
       "Wknd 2 # Theaters       496\n",
       "Wknd 3 Rank             496\n",
       "Week 2 TG               496\n",
       "Wknd 2 GPT              496\n",
       "Wknd 2 %Change          496\n",
       "Wknd 2 Gross            496\n",
       "Wknd 2 Rank             497\n",
       "Week 1 TG               497\n",
       "Wknd 1 # Theaters       497\n",
       "Wknd 1 Gross            497\n",
       "Wknd 1 Rank             497\n",
       "MPAA                    497\n",
       "Wknd 1 GPT              497\n",
       "Release                 499\n",
       "Title                   500\n",
       "Genre                   500\n",
       "Url                     500\n",
       "Worldwide Gross         500\n",
       "Domestic Gross          500\n",
       "Production Budget       500\n",
       "Critic Rate             500\n",
       "Audience Rate           500\n",
       "dtype: int64"
      ]
     },
     "execution_count": 87,
     "metadata": {},
     "output_type": "execute_result"
    }
   ],
   "source": [
    "df.count().sort_values() # Voila much better!"
   ]
  },
  {
   "cell_type": "markdown",
   "metadata": {},
   "source": [
    "'Domestic DVD Sales','Domestic Blu-ray Sales' and 'Total Domestic Video Sales' really did make us suffer. We still have null values, and it looks like Production Companies and Runtime have the most amount of null-values with 52 and 35 respectively."
   ]
  },
  {
   "cell_type": "markdown",
   "metadata": {},
   "source": [
    "### Imputing by the Mean, Median or Mode"
   ]
  },
  {
   "cell_type": "markdown",
   "metadata": {},
   "source": [
    "First consider which columns make sense to compute the mean, median or mode for data imputing. While categorical variables can be imputed via the mode, the mean and median don't make sense. For continuous variables like revenue, it does make sense to calculate the mean and median.  "
   ]
  },
  {
   "cell_type": "markdown",
   "metadata": {},
   "source": [
    "For us to even calculate the mean, median or mode of a column we have to consider the data type of each column. They have to be integer or floats for the mean(), median() and mode() method to work.\n",
    "\n",
    "Let's check out the data type of 'Runtime'.\n"
   ]
  },
  {
   "cell_type": "code",
   "execution_count": 88,
   "metadata": {
    "collapsed": false
   },
   "outputs": [
    {
     "data": {
      "text/plain": [
       "dtype('O')"
      ]
     },
     "execution_count": 88,
     "metadata": {},
     "output_type": "execute_result"
    }
   ],
   "source": [
    "df['Runtime'].dtype # object type "
   ]
  },
  {
   "cell_type": "code",
   "execution_count": 89,
   "metadata": {
    "collapsed": false
   },
   "outputs": [
    {
     "ename": "TypeError",
     "evalue": "cannot concatenate 'str' and 'int' objects",
     "output_type": "error",
     "traceback": [
      "\u001b[0;31m---------------------------------------------------------------------------\u001b[0m",
      "\u001b[0;31mTypeError\u001b[0m                                 Traceback (most recent call last)",
      "\u001b[0;32m<ipython-input-89-1f387e20bdba>\u001b[0m in \u001b[0;36m<module>\u001b[0;34m()\u001b[0m\n\u001b[0;32m----> 1\u001b[0;31m \u001b[0mdf\u001b[0m\u001b[0;34m[\u001b[0m\u001b[0;34m'Runtime'\u001b[0m\u001b[0;34m]\u001b[0m\u001b[0;34m.\u001b[0m\u001b[0mmean\u001b[0m\u001b[0;34m(\u001b[0m\u001b[0;34m)\u001b[0m \u001b[0;31m# will output error because it can't calculate the mean of \"objects\"\u001b[0m\u001b[0;34m\u001b[0m\u001b[0m\n\u001b[0m",
      "\u001b[0;32m/Users/dhexonian/Desktop/virtualenv/working_venv/lib/python2.7/site-packages/pandas/core/generic.pyc\u001b[0m in \u001b[0;36mstat_func\u001b[0;34m(self, axis, skipna, level, numeric_only, **kwargs)\u001b[0m\n\u001b[1;32m   5630\u001b[0m                                       skipna=skipna)\n\u001b[1;32m   5631\u001b[0m         return self._reduce(f, name, axis=axis, skipna=skipna,\n\u001b[0;32m-> 5632\u001b[0;31m                             numeric_only=numeric_only)\n\u001b[0m\u001b[1;32m   5633\u001b[0m \u001b[0;34m\u001b[0m\u001b[0m\n\u001b[1;32m   5634\u001b[0m     \u001b[0;32mreturn\u001b[0m \u001b[0mset_function_name\u001b[0m\u001b[0;34m(\u001b[0m\u001b[0mstat_func\u001b[0m\u001b[0;34m,\u001b[0m \u001b[0mname\u001b[0m\u001b[0;34m,\u001b[0m \u001b[0mcls\u001b[0m\u001b[0;34m)\u001b[0m\u001b[0;34m\u001b[0m\u001b[0m\n",
      "\u001b[0;32m/Users/dhexonian/Desktop/virtualenv/working_venv/lib/python2.7/site-packages/pandas/core/series.pyc\u001b[0m in \u001b[0;36m_reduce\u001b[0;34m(self, op, name, axis, skipna, numeric_only, filter_type, **kwds)\u001b[0m\n\u001b[1;32m   2318\u001b[0m                                           'numeric_only.'.format(name))\n\u001b[1;32m   2319\u001b[0m             \u001b[0;32mwith\u001b[0m \u001b[0mnp\u001b[0m\u001b[0;34m.\u001b[0m\u001b[0merrstate\u001b[0m\u001b[0;34m(\u001b[0m\u001b[0mall\u001b[0m\u001b[0;34m=\u001b[0m\u001b[0;34m'ignore'\u001b[0m\u001b[0;34m)\u001b[0m\u001b[0;34m:\u001b[0m\u001b[0;34m\u001b[0m\u001b[0m\n\u001b[0;32m-> 2320\u001b[0;31m                 \u001b[0;32mreturn\u001b[0m \u001b[0mop\u001b[0m\u001b[0;34m(\u001b[0m\u001b[0mdelegate\u001b[0m\u001b[0;34m,\u001b[0m \u001b[0mskipna\u001b[0m\u001b[0;34m=\u001b[0m\u001b[0mskipna\u001b[0m\u001b[0;34m,\u001b[0m \u001b[0;34m**\u001b[0m\u001b[0mkwds\u001b[0m\u001b[0;34m)\u001b[0m\u001b[0;34m\u001b[0m\u001b[0m\n\u001b[0m\u001b[1;32m   2321\u001b[0m \u001b[0;34m\u001b[0m\u001b[0m\n\u001b[1;32m   2322\u001b[0m         return delegate._reduce(op=op, name=name, axis=axis, skipna=skipna,\n",
      "\u001b[0;32m/Users/dhexonian/Desktop/virtualenv/working_venv/lib/python2.7/site-packages/pandas/core/nanops.pyc\u001b[0m in \u001b[0;36m_f\u001b[0;34m(*args, **kwargs)\u001b[0m\n\u001b[1;32m     48\u001b[0m             \u001b[0;32mtry\u001b[0m\u001b[0;34m:\u001b[0m\u001b[0;34m\u001b[0m\u001b[0m\n\u001b[1;32m     49\u001b[0m                 \u001b[0;32mwith\u001b[0m \u001b[0mnp\u001b[0m\u001b[0;34m.\u001b[0m\u001b[0merrstate\u001b[0m\u001b[0;34m(\u001b[0m\u001b[0minvalid\u001b[0m\u001b[0;34m=\u001b[0m\u001b[0;34m'ignore'\u001b[0m\u001b[0;34m)\u001b[0m\u001b[0;34m:\u001b[0m\u001b[0;34m\u001b[0m\u001b[0m\n\u001b[0;32m---> 50\u001b[0;31m                     \u001b[0;32mreturn\u001b[0m \u001b[0mf\u001b[0m\u001b[0;34m(\u001b[0m\u001b[0;34m*\u001b[0m\u001b[0margs\u001b[0m\u001b[0;34m,\u001b[0m \u001b[0;34m**\u001b[0m\u001b[0mkwargs\u001b[0m\u001b[0;34m)\u001b[0m\u001b[0;34m\u001b[0m\u001b[0m\n\u001b[0m\u001b[1;32m     51\u001b[0m             \u001b[0;32mexcept\u001b[0m \u001b[0mValueError\u001b[0m \u001b[0;32mas\u001b[0m \u001b[0me\u001b[0m\u001b[0;34m:\u001b[0m\u001b[0;34m\u001b[0m\u001b[0m\n\u001b[1;32m     52\u001b[0m                 \u001b[0;31m# we want to transform an object array\u001b[0m\u001b[0;34m\u001b[0m\u001b[0;34m\u001b[0m\u001b[0m\n",
      "\u001b[0;32m/Users/dhexonian/Desktop/virtualenv/working_venv/lib/python2.7/site-packages/pandas/core/nanops.pyc\u001b[0m in \u001b[0;36mf\u001b[0;34m(values, axis, skipna, **kwds)\u001b[0m\n\u001b[1;32m    107\u001b[0m             \u001b[0;32mexcept\u001b[0m \u001b[0mException\u001b[0m\u001b[0;34m:\u001b[0m\u001b[0;34m\u001b[0m\u001b[0m\n\u001b[1;32m    108\u001b[0m                 \u001b[0;32mtry\u001b[0m\u001b[0;34m:\u001b[0m\u001b[0;34m\u001b[0m\u001b[0m\n\u001b[0;32m--> 109\u001b[0;31m                     \u001b[0mresult\u001b[0m \u001b[0;34m=\u001b[0m \u001b[0malt\u001b[0m\u001b[0;34m(\u001b[0m\u001b[0mvalues\u001b[0m\u001b[0;34m,\u001b[0m \u001b[0maxis\u001b[0m\u001b[0;34m=\u001b[0m\u001b[0maxis\u001b[0m\u001b[0;34m,\u001b[0m \u001b[0mskipna\u001b[0m\u001b[0;34m=\u001b[0m\u001b[0mskipna\u001b[0m\u001b[0;34m,\u001b[0m \u001b[0;34m**\u001b[0m\u001b[0mkwds\u001b[0m\u001b[0;34m)\u001b[0m\u001b[0;34m\u001b[0m\u001b[0m\n\u001b[0m\u001b[1;32m    110\u001b[0m                 \u001b[0;32mexcept\u001b[0m \u001b[0mValueError\u001b[0m \u001b[0;32mas\u001b[0m \u001b[0me\u001b[0m\u001b[0;34m:\u001b[0m\u001b[0;34m\u001b[0m\u001b[0m\n\u001b[1;32m    111\u001b[0m                     \u001b[0;31m# we want to transform an object array\u001b[0m\u001b[0;34m\u001b[0m\u001b[0;34m\u001b[0m\u001b[0m\n",
      "\u001b[0;32m/Users/dhexonian/Desktop/virtualenv/working_venv/lib/python2.7/site-packages/pandas/core/nanops.pyc\u001b[0m in \u001b[0;36mnanmean\u001b[0;34m(values, axis, skipna)\u001b[0m\n\u001b[1;32m    297\u001b[0m         \u001b[0mdtype_count\u001b[0m \u001b[0;34m=\u001b[0m \u001b[0mdtype\u001b[0m\u001b[0;34m\u001b[0m\u001b[0m\n\u001b[1;32m    298\u001b[0m     \u001b[0mcount\u001b[0m \u001b[0;34m=\u001b[0m \u001b[0m_get_counts\u001b[0m\u001b[0;34m(\u001b[0m\u001b[0mmask\u001b[0m\u001b[0;34m,\u001b[0m \u001b[0maxis\u001b[0m\u001b[0;34m,\u001b[0m \u001b[0mdtype\u001b[0m\u001b[0;34m=\u001b[0m\u001b[0mdtype_count\u001b[0m\u001b[0;34m)\u001b[0m\u001b[0;34m\u001b[0m\u001b[0m\n\u001b[0;32m--> 299\u001b[0;31m     \u001b[0mthe_sum\u001b[0m \u001b[0;34m=\u001b[0m \u001b[0m_ensure_numeric\u001b[0m\u001b[0;34m(\u001b[0m\u001b[0mvalues\u001b[0m\u001b[0;34m.\u001b[0m\u001b[0msum\u001b[0m\u001b[0;34m(\u001b[0m\u001b[0maxis\u001b[0m\u001b[0;34m,\u001b[0m \u001b[0mdtype\u001b[0m\u001b[0;34m=\u001b[0m\u001b[0mdtype_sum\u001b[0m\u001b[0;34m)\u001b[0m\u001b[0;34m)\u001b[0m\u001b[0;34m\u001b[0m\u001b[0m\n\u001b[0m\u001b[1;32m    300\u001b[0m \u001b[0;34m\u001b[0m\u001b[0m\n\u001b[1;32m    301\u001b[0m     \u001b[0;32mif\u001b[0m \u001b[0maxis\u001b[0m \u001b[0;32mis\u001b[0m \u001b[0;32mnot\u001b[0m \u001b[0mNone\u001b[0m \u001b[0;32mand\u001b[0m \u001b[0mgetattr\u001b[0m\u001b[0;34m(\u001b[0m\u001b[0mthe_sum\u001b[0m\u001b[0;34m,\u001b[0m \u001b[0;34m'ndim'\u001b[0m\u001b[0;34m,\u001b[0m \u001b[0mFalse\u001b[0m\u001b[0;34m)\u001b[0m\u001b[0;34m:\u001b[0m\u001b[0;34m\u001b[0m\u001b[0m\n",
      "\u001b[0;32m/Users/dhexonian/Desktop/virtualenv/working_venv/lib/python2.7/site-packages/numpy/core/_methods.pyc\u001b[0m in \u001b[0;36m_sum\u001b[0;34m(a, axis, dtype, out, keepdims)\u001b[0m\n\u001b[1;32m     30\u001b[0m \u001b[0;34m\u001b[0m\u001b[0m\n\u001b[1;32m     31\u001b[0m \u001b[0;32mdef\u001b[0m \u001b[0m_sum\u001b[0m\u001b[0;34m(\u001b[0m\u001b[0ma\u001b[0m\u001b[0;34m,\u001b[0m \u001b[0maxis\u001b[0m\u001b[0;34m=\u001b[0m\u001b[0mNone\u001b[0m\u001b[0;34m,\u001b[0m \u001b[0mdtype\u001b[0m\u001b[0;34m=\u001b[0m\u001b[0mNone\u001b[0m\u001b[0;34m,\u001b[0m \u001b[0mout\u001b[0m\u001b[0;34m=\u001b[0m\u001b[0mNone\u001b[0m\u001b[0;34m,\u001b[0m \u001b[0mkeepdims\u001b[0m\u001b[0;34m=\u001b[0m\u001b[0mFalse\u001b[0m\u001b[0;34m)\u001b[0m\u001b[0;34m:\u001b[0m\u001b[0;34m\u001b[0m\u001b[0m\n\u001b[0;32m---> 32\u001b[0;31m     \u001b[0;32mreturn\u001b[0m \u001b[0mumr_sum\u001b[0m\u001b[0;34m(\u001b[0m\u001b[0ma\u001b[0m\u001b[0;34m,\u001b[0m \u001b[0maxis\u001b[0m\u001b[0;34m,\u001b[0m \u001b[0mdtype\u001b[0m\u001b[0;34m,\u001b[0m \u001b[0mout\u001b[0m\u001b[0;34m,\u001b[0m \u001b[0mkeepdims\u001b[0m\u001b[0;34m)\u001b[0m\u001b[0;34m\u001b[0m\u001b[0m\n\u001b[0m\u001b[1;32m     33\u001b[0m \u001b[0;34m\u001b[0m\u001b[0m\n\u001b[1;32m     34\u001b[0m \u001b[0;32mdef\u001b[0m \u001b[0m_prod\u001b[0m\u001b[0;34m(\u001b[0m\u001b[0ma\u001b[0m\u001b[0;34m,\u001b[0m \u001b[0maxis\u001b[0m\u001b[0;34m=\u001b[0m\u001b[0mNone\u001b[0m\u001b[0;34m,\u001b[0m \u001b[0mdtype\u001b[0m\u001b[0;34m=\u001b[0m\u001b[0mNone\u001b[0m\u001b[0;34m,\u001b[0m \u001b[0mout\u001b[0m\u001b[0;34m=\u001b[0m\u001b[0mNone\u001b[0m\u001b[0;34m,\u001b[0m \u001b[0mkeepdims\u001b[0m\u001b[0;34m=\u001b[0m\u001b[0mFalse\u001b[0m\u001b[0;34m)\u001b[0m\u001b[0;34m:\u001b[0m\u001b[0;34m\u001b[0m\u001b[0m\n",
      "\u001b[0;31mTypeError\u001b[0m: cannot concatenate 'str' and 'int' objects"
     ]
    }
   ],
   "source": [
    "df['Runtime'].mean() # will output error because it can't calculate the mean of \"objects\""
   ]
  },
  {
   "cell_type": "code",
   "execution_count": 90,
   "metadata": {
    "collapsed": false
   },
   "outputs": [
    {
     "data": {
      "text/html": [
       "<div>\n",
       "<table border=\"1\" class=\"dataframe\">\n",
       "  <thead>\n",
       "    <tr style=\"text-align: right;\">\n",
       "      <th></th>\n",
       "      <th>Title</th>\n",
       "      <th>Runtime</th>\n",
       "    </tr>\n",
       "  </thead>\n",
       "  <tbody>\n",
       "    <tr>\n",
       "      <th>32</th>\n",
       "      <td>The Golden Compass</td>\n",
       "      <td>NaN</td>\n",
       "    </tr>\n",
       "    <tr>\n",
       "      <th>72</th>\n",
       "      <td>Valerian and the City of a Thousand Planets</td>\n",
       "      <td>NaN</td>\n",
       "    </tr>\n",
       "    <tr>\n",
       "      <th>87</th>\n",
       "      <td>Singularity</td>\n",
       "      <td>NaN</td>\n",
       "    </tr>\n",
       "    <tr>\n",
       "      <th>114</th>\n",
       "      <td>Poseidon</td>\n",
       "      <td>NaN</td>\n",
       "    </tr>\n",
       "    <tr>\n",
       "      <th>150</th>\n",
       "      <td>Beowulf</td>\n",
       "      <td>NaN</td>\n",
       "    </tr>\n",
       "    <tr>\n",
       "      <th>249</th>\n",
       "      <td>The Chronicles of Riddick</td>\n",
       "      <td>NaN</td>\n",
       "    </tr>\n",
       "    <tr>\n",
       "      <th>260</th>\n",
       "      <td>Dante's Peak</td>\n",
       "      <td>NaN</td>\n",
       "    </tr>\n",
       "    <tr>\n",
       "      <th>263</th>\n",
       "      <td>Astérix aux Jeux Olympiques</td>\n",
       "      <td>NaN</td>\n",
       "    </tr>\n",
       "    <tr>\n",
       "      <th>286</th>\n",
       "      <td>Home on the Range</td>\n",
       "      <td>NaN</td>\n",
       "    </tr>\n",
       "    <tr>\n",
       "      <th>287</th>\n",
       "      <td>Speed 2: Cruise Control</td>\n",
       "      <td>NaN</td>\n",
       "    </tr>\n",
       "    <tr>\n",
       "      <th>299</th>\n",
       "      <td>Town &amp; Country</td>\n",
       "      <td>NaN</td>\n",
       "    </tr>\n",
       "    <tr>\n",
       "      <th>307</th>\n",
       "      <td>King Arthur: Legend of the Sword</td>\n",
       "      <td>NaN</td>\n",
       "    </tr>\n",
       "    <tr>\n",
       "      <th>327</th>\n",
       "      <td>Eragon</td>\n",
       "      <td>NaN</td>\n",
       "    </tr>\n",
       "    <tr>\n",
       "      <th>330</th>\n",
       "      <td>End of Days</td>\n",
       "      <td>NaN</td>\n",
       "    </tr>\n",
       "    <tr>\n",
       "      <th>331</th>\n",
       "      <td>The Stepford Wives</td>\n",
       "      <td>NaN</td>\n",
       "    </tr>\n",
       "    <tr>\n",
       "      <th>332</th>\n",
       "      <td>Surf's Up</td>\n",
       "      <td>NaN</td>\n",
       "    </tr>\n",
       "    <tr>\n",
       "      <th>335</th>\n",
       "      <td>Starship Troopers</td>\n",
       "      <td>NaN</td>\n",
       "    </tr>\n",
       "    <tr>\n",
       "      <th>345</th>\n",
       "      <td>Son of the Mask</td>\n",
       "      <td>NaN</td>\n",
       "    </tr>\n",
       "    <tr>\n",
       "      <th>346</th>\n",
       "      <td>The Adventures of Pluto Nash</td>\n",
       "      <td>NaN</td>\n",
       "    </tr>\n",
       "    <tr>\n",
       "      <th>354</th>\n",
       "      <td>Sex and the City 2</td>\n",
       "      <td>NaN</td>\n",
       "    </tr>\n",
       "    <tr>\n",
       "      <th>373</th>\n",
       "      <td>The Alamo</td>\n",
       "      <td>NaN</td>\n",
       "    </tr>\n",
       "    <tr>\n",
       "      <th>374</th>\n",
       "      <td>Cutthroat Island</td>\n",
       "      <td>NaN</td>\n",
       "    </tr>\n",
       "    <tr>\n",
       "      <th>397</th>\n",
       "      <td>The Haunted Mansion</td>\n",
       "      <td>NaN</td>\n",
       "    </tr>\n",
       "    <tr>\n",
       "      <th>398</th>\n",
       "      <td>Hollow Man</td>\n",
       "      <td>NaN</td>\n",
       "    </tr>\n",
       "    <tr>\n",
       "      <th>404</th>\n",
       "      <td>The Saint</td>\n",
       "      <td>NaN</td>\n",
       "    </tr>\n",
       "    <tr>\n",
       "      <th>405</th>\n",
       "      <td>Mission to Mars</td>\n",
       "      <td>NaN</td>\n",
       "    </tr>\n",
       "    <tr>\n",
       "      <th>408</th>\n",
       "      <td>Volcano</td>\n",
       "      <td>NaN</td>\n",
       "    </tr>\n",
       "    <tr>\n",
       "      <th>439</th>\n",
       "      <td>The Fast and the Furious: Tokyo Drift</td>\n",
       "      <td>NaN</td>\n",
       "    </tr>\n",
       "    <tr>\n",
       "      <th>442</th>\n",
       "      <td>Last Action Hero</td>\n",
       "      <td>NaN</td>\n",
       "    </tr>\n",
       "    <tr>\n",
       "      <th>443</th>\n",
       "      <td>The Rundown</td>\n",
       "      <td>NaN</td>\n",
       "    </tr>\n",
       "    <tr>\n",
       "      <th>448</th>\n",
       "      <td>Collateral Damage</td>\n",
       "      <td>NaN</td>\n",
       "    </tr>\n",
       "    <tr>\n",
       "      <th>450</th>\n",
       "      <td>Judge Dredd</td>\n",
       "      <td>NaN</td>\n",
       "    </tr>\n",
       "    <tr>\n",
       "      <th>454</th>\n",
       "      <td>Father's Day</td>\n",
       "      <td>NaN</td>\n",
       "    </tr>\n",
       "    <tr>\n",
       "      <th>495</th>\n",
       "      <td>Space Jam</td>\n",
       "      <td>NaN</td>\n",
       "    </tr>\n",
       "    <tr>\n",
       "      <th>497</th>\n",
       "      <td>The Pink Panther</td>\n",
       "      <td>NaN</td>\n",
       "    </tr>\n",
       "  </tbody>\n",
       "</table>\n",
       "</div>"
      ],
      "text/plain": [
       "                                           Title Runtime\n",
       "32                            The Golden Compass     NaN\n",
       "72   Valerian and the City of a Thousand Planets     NaN\n",
       "87                                   Singularity     NaN\n",
       "114                                     Poseidon     NaN\n",
       "150                                      Beowulf     NaN\n",
       "249                    The Chronicles of Riddick     NaN\n",
       "260                                 Dante's Peak     NaN\n",
       "263                  Astérix aux Jeux Olympiques     NaN\n",
       "286                            Home on the Range     NaN\n",
       "287                      Speed 2: Cruise Control     NaN\n",
       "299                               Town & Country     NaN\n",
       "307             King Arthur: Legend of the Sword     NaN\n",
       "327                                       Eragon     NaN\n",
       "330                                  End of Days     NaN\n",
       "331                           The Stepford Wives     NaN\n",
       "332                                    Surf's Up     NaN\n",
       "335                            Starship Troopers     NaN\n",
       "345                              Son of the Mask     NaN\n",
       "346                 The Adventures of Pluto Nash     NaN\n",
       "354                           Sex and the City 2     NaN\n",
       "373                                    The Alamo     NaN\n",
       "374                             Cutthroat Island     NaN\n",
       "397                          The Haunted Mansion     NaN\n",
       "398                                   Hollow Man     NaN\n",
       "404                                    The Saint     NaN\n",
       "405                              Mission to Mars     NaN\n",
       "408                                      Volcano     NaN\n",
       "439        The Fast and the Furious: Tokyo Drift     NaN\n",
       "442                             Last Action Hero     NaN\n",
       "443                                  The Rundown     NaN\n",
       "448                            Collateral Damage     NaN\n",
       "450                                  Judge Dredd     NaN\n",
       "454                                 Father's Day     NaN\n",
       "495                                    Space Jam     NaN\n",
       "497                             The Pink Panther     NaN"
      ]
     },
     "execution_count": 90,
     "metadata": {},
     "output_type": "execute_result"
    }
   ],
   "source": [
    "# before imputing obviously there are Title's with null values for Runtime \n",
    "df.loc[df['Runtime'].isnull(),['Title','Runtime']]"
   ]
  },
  {
   "cell_type": "code",
   "execution_count": 91,
   "metadata": {
    "collapsed": false
   },
   "outputs": [
    {
     "data": {
      "text/plain": [
       "Int64Index([ 32,  72,  87, 114, 150, 249, 260, 263, 286, 287, 299, 307, 327,\n",
       "            330, 331, 332, 335, 345, 346, 354, 373, 374, 397, 398, 404, 405,\n",
       "            408, 439, 442, 443, 448, 450, 454, 495, 497],\n",
       "           dtype='int64')"
      ]
     },
     "execution_count": 91,
     "metadata": {},
     "output_type": "execute_result"
    }
   ],
   "source": [
    "df.loc[df['Runtime'].isnull(),['Title','Runtime']].index # we're going to preserve this to see if imputing worked"
   ]
  },
  {
   "cell_type": "code",
   "execution_count": 92,
   "metadata": {
    "collapsed": true
   },
   "outputs": [],
   "source": [
    "index_of_null_runtime = df.loc[df['Runtime'].isnull(),['Title','Runtime']].index"
   ]
  },
  {
   "cell_type": "code",
   "execution_count": 93,
   "metadata": {
    "collapsed": false
   },
   "outputs": [],
   "source": [
    "df['Runtime'] = df['Runtime'].astype('float64') # change the type of Runtime column into float64"
   ]
  },
  {
   "cell_type": "code",
   "execution_count": 94,
   "metadata": {
    "collapsed": false
   },
   "outputs": [
    {
     "data": {
      "text/plain": [
       "dtype('float64')"
      ]
     },
     "execution_count": 94,
     "metadata": {},
     "output_type": "execute_result"
    }
   ],
   "source": [
    "df['Runtime'].dtype"
   ]
  },
  {
   "cell_type": "code",
   "execution_count": 96,
   "metadata": {
    "collapsed": false
   },
   "outputs": [
    {
     "data": {
      "text/plain": [
       "119.46021505376343"
      ]
     },
     "execution_count": 96,
     "metadata": {},
     "output_type": "execute_result"
    }
   ],
   "source": [
    "# calculate the mean 'Runtime'\n",
    "df['Runtime'].mean()"
   ]
  },
  {
   "cell_type": "code",
   "execution_count": 118,
   "metadata": {
    "collapsed": true
   },
   "outputs": [],
   "source": [
    "runtime_mean = df['Runtime'].mean()\n",
    "df['Runtime'].fillna(runtime_mean, inplace=True) # fillna() will replace null entries with the argument (runtime_mean)"
   ]
  },
  {
   "cell_type": "markdown",
   "metadata": {},
   "source": [
    "inplace=True argument tells our DataFrame df that we'd like to make for fillna() to make a permanent change"
   ]
  },
  {
   "cell_type": "code",
   "execution_count": 25,
   "metadata": {
    "collapsed": false
   },
   "outputs": [
    {
     "data": {
      "text/html": [
       "<div>\n",
       "<table border=\"1\" class=\"dataframe\">\n",
       "  <thead>\n",
       "    <tr style=\"text-align: right;\">\n",
       "      <th></th>\n",
       "      <th>Title</th>\n",
       "      <th>Runtime</th>\n",
       "    </tr>\n",
       "  </thead>\n",
       "  <tbody>\n",
       "  </tbody>\n",
       "</table>\n",
       "</div>"
      ],
      "text/plain": [
       "Empty DataFrame\n",
       "Columns: [Title, Runtime]\n",
       "Index: []"
      ]
     },
     "execution_count": 25,
     "metadata": {},
     "output_type": "execute_result"
    }
   ],
   "source": [
    "df.loc[df['Runtime'].isnull(),['Title','Runtime']] # there are no null values in the Runtime column so"
   ]
  },
  {
   "cell_type": "code",
   "execution_count": 26,
   "metadata": {
    "collapsed": false
   },
   "outputs": [
    {
     "data": {
      "text/html": [
       "<div>\n",
       "<table border=\"1\" class=\"dataframe\">\n",
       "  <thead>\n",
       "    <tr style=\"text-align: right;\">\n",
       "      <th></th>\n",
       "      <th>Title</th>\n",
       "      <th>Runtime</th>\n",
       "    </tr>\n",
       "  </thead>\n",
       "  <tbody>\n",
       "    <tr>\n",
       "      <th>32</th>\n",
       "      <td>The Golden Compass</td>\n",
       "      <td>119.460215</td>\n",
       "    </tr>\n",
       "    <tr>\n",
       "      <th>72</th>\n",
       "      <td>Valerian and the City of a Thousand Planets</td>\n",
       "      <td>119.460215</td>\n",
       "    </tr>\n",
       "    <tr>\n",
       "      <th>87</th>\n",
       "      <td>Singularity</td>\n",
       "      <td>119.460215</td>\n",
       "    </tr>\n",
       "    <tr>\n",
       "      <th>114</th>\n",
       "      <td>Poseidon</td>\n",
       "      <td>119.460215</td>\n",
       "    </tr>\n",
       "    <tr>\n",
       "      <th>150</th>\n",
       "      <td>Beowulf</td>\n",
       "      <td>119.460215</td>\n",
       "    </tr>\n",
       "    <tr>\n",
       "      <th>249</th>\n",
       "      <td>The Chronicles of Riddick</td>\n",
       "      <td>119.460215</td>\n",
       "    </tr>\n",
       "    <tr>\n",
       "      <th>260</th>\n",
       "      <td>Dante's Peak</td>\n",
       "      <td>119.460215</td>\n",
       "    </tr>\n",
       "    <tr>\n",
       "      <th>263</th>\n",
       "      <td>Astérix aux Jeux Olympiques</td>\n",
       "      <td>119.460215</td>\n",
       "    </tr>\n",
       "    <tr>\n",
       "      <th>286</th>\n",
       "      <td>Home on the Range</td>\n",
       "      <td>119.460215</td>\n",
       "    </tr>\n",
       "    <tr>\n",
       "      <th>287</th>\n",
       "      <td>Speed 2: Cruise Control</td>\n",
       "      <td>119.460215</td>\n",
       "    </tr>\n",
       "    <tr>\n",
       "      <th>299</th>\n",
       "      <td>Town &amp; Country</td>\n",
       "      <td>119.460215</td>\n",
       "    </tr>\n",
       "    <tr>\n",
       "      <th>307</th>\n",
       "      <td>King Arthur: Legend of the Sword</td>\n",
       "      <td>119.460215</td>\n",
       "    </tr>\n",
       "    <tr>\n",
       "      <th>327</th>\n",
       "      <td>Eragon</td>\n",
       "      <td>119.460215</td>\n",
       "    </tr>\n",
       "    <tr>\n",
       "      <th>330</th>\n",
       "      <td>End of Days</td>\n",
       "      <td>119.460215</td>\n",
       "    </tr>\n",
       "    <tr>\n",
       "      <th>331</th>\n",
       "      <td>The Stepford Wives</td>\n",
       "      <td>119.460215</td>\n",
       "    </tr>\n",
       "    <tr>\n",
       "      <th>332</th>\n",
       "      <td>Surf's Up</td>\n",
       "      <td>119.460215</td>\n",
       "    </tr>\n",
       "    <tr>\n",
       "      <th>335</th>\n",
       "      <td>Starship Troopers</td>\n",
       "      <td>119.460215</td>\n",
       "    </tr>\n",
       "    <tr>\n",
       "      <th>345</th>\n",
       "      <td>Son of the Mask</td>\n",
       "      <td>119.460215</td>\n",
       "    </tr>\n",
       "    <tr>\n",
       "      <th>346</th>\n",
       "      <td>The Adventures of Pluto Nash</td>\n",
       "      <td>119.460215</td>\n",
       "    </tr>\n",
       "    <tr>\n",
       "      <th>354</th>\n",
       "      <td>Sex and the City 2</td>\n",
       "      <td>119.460215</td>\n",
       "    </tr>\n",
       "    <tr>\n",
       "      <th>373</th>\n",
       "      <td>The Alamo</td>\n",
       "      <td>119.460215</td>\n",
       "    </tr>\n",
       "    <tr>\n",
       "      <th>374</th>\n",
       "      <td>Cutthroat Island</td>\n",
       "      <td>119.460215</td>\n",
       "    </tr>\n",
       "    <tr>\n",
       "      <th>397</th>\n",
       "      <td>The Haunted Mansion</td>\n",
       "      <td>119.460215</td>\n",
       "    </tr>\n",
       "    <tr>\n",
       "      <th>398</th>\n",
       "      <td>Hollow Man</td>\n",
       "      <td>119.460215</td>\n",
       "    </tr>\n",
       "    <tr>\n",
       "      <th>404</th>\n",
       "      <td>The Saint</td>\n",
       "      <td>119.460215</td>\n",
       "    </tr>\n",
       "    <tr>\n",
       "      <th>405</th>\n",
       "      <td>Mission to Mars</td>\n",
       "      <td>119.460215</td>\n",
       "    </tr>\n",
       "    <tr>\n",
       "      <th>408</th>\n",
       "      <td>Volcano</td>\n",
       "      <td>119.460215</td>\n",
       "    </tr>\n",
       "    <tr>\n",
       "      <th>439</th>\n",
       "      <td>The Fast and the Furious: Tokyo Drift</td>\n",
       "      <td>119.460215</td>\n",
       "    </tr>\n",
       "    <tr>\n",
       "      <th>442</th>\n",
       "      <td>Last Action Hero</td>\n",
       "      <td>119.460215</td>\n",
       "    </tr>\n",
       "    <tr>\n",
       "      <th>443</th>\n",
       "      <td>The Rundown</td>\n",
       "      <td>119.460215</td>\n",
       "    </tr>\n",
       "    <tr>\n",
       "      <th>448</th>\n",
       "      <td>Collateral Damage</td>\n",
       "      <td>119.460215</td>\n",
       "    </tr>\n",
       "    <tr>\n",
       "      <th>450</th>\n",
       "      <td>Judge Dredd</td>\n",
       "      <td>119.460215</td>\n",
       "    </tr>\n",
       "    <tr>\n",
       "      <th>454</th>\n",
       "      <td>Father's Day</td>\n",
       "      <td>119.460215</td>\n",
       "    </tr>\n",
       "    <tr>\n",
       "      <th>495</th>\n",
       "      <td>Space Jam</td>\n",
       "      <td>119.460215</td>\n",
       "    </tr>\n",
       "    <tr>\n",
       "      <th>497</th>\n",
       "      <td>The Pink Panther</td>\n",
       "      <td>119.460215</td>\n",
       "    </tr>\n",
       "  </tbody>\n",
       "</table>\n",
       "</div>"
      ],
      "text/plain": [
       "                                           Title     Runtime\n",
       "32                            The Golden Compass  119.460215\n",
       "72   Valerian and the City of a Thousand Planets  119.460215\n",
       "87                                   Singularity  119.460215\n",
       "114                                     Poseidon  119.460215\n",
       "150                                      Beowulf  119.460215\n",
       "249                    The Chronicles of Riddick  119.460215\n",
       "260                                 Dante's Peak  119.460215\n",
       "263                  Astérix aux Jeux Olympiques  119.460215\n",
       "286                            Home on the Range  119.460215\n",
       "287                      Speed 2: Cruise Control  119.460215\n",
       "299                               Town & Country  119.460215\n",
       "307             King Arthur: Legend of the Sword  119.460215\n",
       "327                                       Eragon  119.460215\n",
       "330                                  End of Days  119.460215\n",
       "331                           The Stepford Wives  119.460215\n",
       "332                                    Surf's Up  119.460215\n",
       "335                            Starship Troopers  119.460215\n",
       "345                              Son of the Mask  119.460215\n",
       "346                 The Adventures of Pluto Nash  119.460215\n",
       "354                           Sex and the City 2  119.460215\n",
       "373                                    The Alamo  119.460215\n",
       "374                             Cutthroat Island  119.460215\n",
       "397                          The Haunted Mansion  119.460215\n",
       "398                                   Hollow Man  119.460215\n",
       "404                                    The Saint  119.460215\n",
       "405                              Mission to Mars  119.460215\n",
       "408                                      Volcano  119.460215\n",
       "439        The Fast and the Furious: Tokyo Drift  119.460215\n",
       "442                             Last Action Hero  119.460215\n",
       "443                                  The Rundown  119.460215\n",
       "448                            Collateral Damage  119.460215\n",
       "450                                  Judge Dredd  119.460215\n",
       "454                                 Father's Day  119.460215\n",
       "495                                    Space Jam  119.460215\n",
       "497                             The Pink Panther  119.460215"
      ]
     },
     "execution_count": 26,
     "metadata": {},
     "output_type": "execute_result"
    }
   ],
   "source": [
    "df.loc[index_of_null_runtime,['Title','Runtime']] # note that the Runtime for the movies with null values for Runtime is equal to the mean Runtime"
   ]
  },
  {
   "cell_type": "code",
   "execution_count": 27,
   "metadata": {
    "collapsed": false
   },
   "outputs": [
    {
     "data": {
      "text/plain": [
       "Production Companies    447\n",
       "Week 4 TG               492\n",
       "Wknd 4 GPT              492\n",
       "Wknd 4 # Theaters       492\n",
       "Wknd 4 %Change          492\n",
       "Wknd 4 Gross            492\n",
       "Wknd 3 GPT              495\n",
       "Wknd 4 Rank             495\n",
       "Wknd 3 %Change          495\n",
       "Wknd 3 Gross            495\n",
       "Wknd 3 # Theaters       495\n",
       "Week 3 TG               495\n",
       "Wknd 3 Rank             496\n",
       "Week 2 TG               496\n",
       "Wknd 2 GPT              496\n",
       "Wknd 2 # Theaters       496\n",
       "Wknd 2 %Change          496\n",
       "Wknd 2 Gross            496\n",
       "Wknd 2 Rank             497\n",
       "Week 1 TG               497\n",
       "Wknd 1 GPT              497\n",
       "Wknd 1 Gross            497\n",
       "Wknd 1 Rank             497\n",
       "MPAA                    497\n",
       "Wknd 1 # Theaters       497\n",
       "Release                 499\n",
       "Title                   500\n",
       "Runtime                 500\n",
       "Genre                   500\n",
       "Url                     500\n",
       "Worldwide Gross         500\n",
       "Domestic Gross          500\n",
       "Production Budget       500\n",
       "Critic Rate             500\n",
       "Audience Rate           500\n",
       "dtype: int64"
      ]
     },
     "execution_count": 27,
     "metadata": {},
     "output_type": "execute_result"
    }
   ],
   "source": [
    "df.count().sort_values() "
   ]
  },
  {
   "cell_type": "markdown",
   "metadata": {},
   "source": [
    "The next candidate for data imputing is Production Companies column which has 447 non-null object. This is where I would consider <b>manual sourcing</b>."
   ]
  },
  {
   "cell_type": "markdown",
   "metadata": {},
   "source": [
    "### Manual Sourcing"
   ]
  },
  {
   "cell_type": "markdown",
   "metadata": {},
   "source": [
    "It's certaintly tedious but not difficult to procure 53 production companies to fill our null values for that column. After all we have all of the movie titles! I don't think it's that much effort to Google search 53 movie titles and find their production companies."
   ]
  },
  {
   "cell_type": "code",
   "execution_count": 28,
   "metadata": {
    "collapsed": false
   },
   "outputs": [
    {
     "data": {
      "text/html": [
       "<div>\n",
       "<table border=\"1\" class=\"dataframe\">\n",
       "  <thead>\n",
       "    <tr style=\"text-align: right;\">\n",
       "      <th></th>\n",
       "      <th>Title</th>\n",
       "      <th>Production Companies</th>\n",
       "    </tr>\n",
       "  </thead>\n",
       "  <tbody>\n",
       "    <tr>\n",
       "      <th>18</th>\n",
       "      <td>Quantum of Solace</td>\n",
       "      <td>NaN</td>\n",
       "    </tr>\n",
       "    <tr>\n",
       "      <th>32</th>\n",
       "      <td>The Golden Compass</td>\n",
       "      <td>NaN</td>\n",
       "    </tr>\n",
       "    <tr>\n",
       "      <th>83</th>\n",
       "      <td>The Mummy: Tomb of the Dragon Emperor</td>\n",
       "      <td>NaN</td>\n",
       "    </tr>\n",
       "    <tr>\n",
       "      <th>94</th>\n",
       "      <td>Terminator 3: Rise of the Machines</td>\n",
       "      <td>NaN</td>\n",
       "    </tr>\n",
       "    <tr>\n",
       "      <th>107</th>\n",
       "      <td>Inception</td>\n",
       "      <td>NaN</td>\n",
       "    </tr>\n",
       "    <tr>\n",
       "      <th>114</th>\n",
       "      <td>Poseidon</td>\n",
       "      <td>NaN</td>\n",
       "    </tr>\n",
       "    <tr>\n",
       "      <th>164</th>\n",
       "      <td>Sahara</td>\n",
       "      <td>NaN</td>\n",
       "    </tr>\n",
       "    <tr>\n",
       "      <th>166</th>\n",
       "      <td>Die Another Day</td>\n",
       "      <td>NaN</td>\n",
       "    </tr>\n",
       "    <tr>\n",
       "      <th>172</th>\n",
       "      <td>Lethal Weapon 4</td>\n",
       "      <td>NaN</td>\n",
       "    </tr>\n",
       "    <tr>\n",
       "      <th>184</th>\n",
       "      <td>Final Fantasy: The Spirits Within</td>\n",
       "      <td>NaN</td>\n",
       "    </tr>\n",
       "    <tr>\n",
       "      <th>188</th>\n",
       "      <td>The World is Not Enough</td>\n",
       "      <td>NaN</td>\n",
       "    </tr>\n",
       "    <tr>\n",
       "      <th>199</th>\n",
       "      <td>The Bourne Ultimatum</td>\n",
       "      <td>NaN</td>\n",
       "    </tr>\n",
       "    <tr>\n",
       "      <th>232</th>\n",
       "      <td>Batman &amp; Robin</td>\n",
       "      <td>NaN</td>\n",
       "    </tr>\n",
       "    <tr>\n",
       "      <th>247</th>\n",
       "      <td>Stuart Little 2</td>\n",
       "      <td>NaN</td>\n",
       "    </tr>\n",
       "    <tr>\n",
       "      <th>249</th>\n",
       "      <td>The Chronicles of Riddick</td>\n",
       "      <td>NaN</td>\n",
       "    </tr>\n",
       "    <tr>\n",
       "      <th>260</th>\n",
       "      <td>Dante's Peak</td>\n",
       "      <td>NaN</td>\n",
       "    </tr>\n",
       "    <tr>\n",
       "      <th>263</th>\n",
       "      <td>Astérix aux Jeux Olympiques</td>\n",
       "      <td>NaN</td>\n",
       "    </tr>\n",
       "    <tr>\n",
       "      <th>273</th>\n",
       "      <td>Tomorrow Never Dies</td>\n",
       "      <td>NaN</td>\n",
       "    </tr>\n",
       "    <tr>\n",
       "      <th>286</th>\n",
       "      <td>Home on the Range</td>\n",
       "      <td>NaN</td>\n",
       "    </tr>\n",
       "    <tr>\n",
       "      <th>287</th>\n",
       "      <td>Speed 2: Cruise Control</td>\n",
       "      <td>NaN</td>\n",
       "    </tr>\n",
       "    <tr>\n",
       "      <th>290</th>\n",
       "      <td>The Lord of the Rings: The Fellowship of the Ring</td>\n",
       "      <td>NaN</td>\n",
       "    </tr>\n",
       "    <tr>\n",
       "      <th>296</th>\n",
       "      <td>The Princess and the Frog</td>\n",
       "      <td>NaN</td>\n",
       "    </tr>\n",
       "    <tr>\n",
       "      <th>299</th>\n",
       "      <td>Town &amp; Country</td>\n",
       "      <td>NaN</td>\n",
       "    </tr>\n",
       "    <tr>\n",
       "      <th>304</th>\n",
       "      <td>Casino Royale</td>\n",
       "      <td>NaN</td>\n",
       "    </tr>\n",
       "    <tr>\n",
       "      <th>323</th>\n",
       "      <td>The Hunchback of Notre Dame</td>\n",
       "      <td>NaN</td>\n",
       "    </tr>\n",
       "    <tr>\n",
       "      <th>330</th>\n",
       "      <td>End of Days</td>\n",
       "      <td>NaN</td>\n",
       "    </tr>\n",
       "    <tr>\n",
       "      <th>331</th>\n",
       "      <td>The Stepford Wives</td>\n",
       "      <td>NaN</td>\n",
       "    </tr>\n",
       "    <tr>\n",
       "      <th>332</th>\n",
       "      <td>Surf's Up</td>\n",
       "      <td>NaN</td>\n",
       "    </tr>\n",
       "    <tr>\n",
       "      <th>335</th>\n",
       "      <td>Starship Troopers</td>\n",
       "      <td>NaN</td>\n",
       "    </tr>\n",
       "    <tr>\n",
       "      <th>345</th>\n",
       "      <td>Son of the Mask</td>\n",
       "      <td>NaN</td>\n",
       "    </tr>\n",
       "    <tr>\n",
       "      <th>354</th>\n",
       "      <td>Sex and the City 2</td>\n",
       "      <td>NaN</td>\n",
       "    </tr>\n",
       "    <tr>\n",
       "      <th>368</th>\n",
       "      <td>Jurassic Park III</td>\n",
       "      <td>NaN</td>\n",
       "    </tr>\n",
       "    <tr>\n",
       "      <th>373</th>\n",
       "      <td>The Alamo</td>\n",
       "      <td>NaN</td>\n",
       "    </tr>\n",
       "    <tr>\n",
       "      <th>374</th>\n",
       "      <td>Cutthroat Island</td>\n",
       "      <td>NaN</td>\n",
       "    </tr>\n",
       "    <tr>\n",
       "      <th>376</th>\n",
       "      <td>Men in Black</td>\n",
       "      <td>NaN</td>\n",
       "    </tr>\n",
       "    <tr>\n",
       "      <th>378</th>\n",
       "      <td>Rush Hour 2</td>\n",
       "      <td>NaN</td>\n",
       "    </tr>\n",
       "    <tr>\n",
       "      <th>385</th>\n",
       "      <td>Mulan</td>\n",
       "      <td>NaN</td>\n",
       "    </tr>\n",
       "    <tr>\n",
       "      <th>397</th>\n",
       "      <td>The Haunted Mansion</td>\n",
       "      <td>NaN</td>\n",
       "    </tr>\n",
       "    <tr>\n",
       "      <th>398</th>\n",
       "      <td>Hollow Man</td>\n",
       "      <td>NaN</td>\n",
       "    </tr>\n",
       "    <tr>\n",
       "      <th>404</th>\n",
       "      <td>The Saint</td>\n",
       "      <td>NaN</td>\n",
       "    </tr>\n",
       "    <tr>\n",
       "      <th>405</th>\n",
       "      <td>Mission to Mars</td>\n",
       "      <td>NaN</td>\n",
       "    </tr>\n",
       "    <tr>\n",
       "      <th>408</th>\n",
       "      <td>Volcano</td>\n",
       "      <td>NaN</td>\n",
       "    </tr>\n",
       "    <tr>\n",
       "      <th>439</th>\n",
       "      <td>The Fast and the Furious: Tokyo Drift</td>\n",
       "      <td>NaN</td>\n",
       "    </tr>\n",
       "    <tr>\n",
       "      <th>442</th>\n",
       "      <td>Last Action Hero</td>\n",
       "      <td>NaN</td>\n",
       "    </tr>\n",
       "    <tr>\n",
       "      <th>443</th>\n",
       "      <td>The Rundown</td>\n",
       "      <td>NaN</td>\n",
       "    </tr>\n",
       "    <tr>\n",
       "      <th>448</th>\n",
       "      <td>Collateral Damage</td>\n",
       "      <td>NaN</td>\n",
       "    </tr>\n",
       "    <tr>\n",
       "      <th>450</th>\n",
       "      <td>Judge Dredd</td>\n",
       "      <td>NaN</td>\n",
       "    </tr>\n",
       "    <tr>\n",
       "      <th>456</th>\n",
       "      <td>Nutty Professor II: The Klumps</td>\n",
       "      <td>NaN</td>\n",
       "    </tr>\n",
       "    <tr>\n",
       "      <th>461</th>\n",
       "      <td>Hellboy II: The Golden Army</td>\n",
       "      <td>NaN</td>\n",
       "    </tr>\n",
       "    <tr>\n",
       "      <th>464</th>\n",
       "      <td>The 6th Day</td>\n",
       "      <td>NaN</td>\n",
       "    </tr>\n",
       "    <tr>\n",
       "      <th>470</th>\n",
       "      <td>Batman Returns</td>\n",
       "      <td>NaN</td>\n",
       "    </tr>\n",
       "    <tr>\n",
       "      <th>495</th>\n",
       "      <td>Space Jam</td>\n",
       "      <td>NaN</td>\n",
       "    </tr>\n",
       "    <tr>\n",
       "      <th>497</th>\n",
       "      <td>The Pink Panther</td>\n",
       "      <td>NaN</td>\n",
       "    </tr>\n",
       "  </tbody>\n",
       "</table>\n",
       "</div>"
      ],
      "text/plain": [
       "                                                 Title Production Companies\n",
       "18                                   Quantum of Solace                  NaN\n",
       "32                                  The Golden Compass                  NaN\n",
       "83               The Mummy: Tomb of the Dragon Emperor                  NaN\n",
       "94                  Terminator 3: Rise of the Machines                  NaN\n",
       "107                                          Inception                  NaN\n",
       "114                                           Poseidon                  NaN\n",
       "164                                             Sahara                  NaN\n",
       "166                                    Die Another Day                  NaN\n",
       "172                                    Lethal Weapon 4                  NaN\n",
       "184                  Final Fantasy: The Spirits Within                  NaN\n",
       "188                            The World is Not Enough                  NaN\n",
       "199                               The Bourne Ultimatum                  NaN\n",
       "232                                     Batman & Robin                  NaN\n",
       "247                                    Stuart Little 2                  NaN\n",
       "249                          The Chronicles of Riddick                  NaN\n",
       "260                                       Dante's Peak                  NaN\n",
       "263                        Astérix aux Jeux Olympiques                  NaN\n",
       "273                                Tomorrow Never Dies                  NaN\n",
       "286                                  Home on the Range                  NaN\n",
       "287                            Speed 2: Cruise Control                  NaN\n",
       "290  The Lord of the Rings: The Fellowship of the Ring                  NaN\n",
       "296                          The Princess and the Frog                  NaN\n",
       "299                                     Town & Country                  NaN\n",
       "304                                      Casino Royale                  NaN\n",
       "323                        The Hunchback of Notre Dame                  NaN\n",
       "330                                        End of Days                  NaN\n",
       "331                                 The Stepford Wives                  NaN\n",
       "332                                          Surf's Up                  NaN\n",
       "335                                  Starship Troopers                  NaN\n",
       "345                                    Son of the Mask                  NaN\n",
       "354                                 Sex and the City 2                  NaN\n",
       "368                                  Jurassic Park III                  NaN\n",
       "373                                          The Alamo                  NaN\n",
       "374                                   Cutthroat Island                  NaN\n",
       "376                                       Men in Black                  NaN\n",
       "378                                        Rush Hour 2                  NaN\n",
       "385                                              Mulan                  NaN\n",
       "397                                The Haunted Mansion                  NaN\n",
       "398                                         Hollow Man                  NaN\n",
       "404                                          The Saint                  NaN\n",
       "405                                    Mission to Mars                  NaN\n",
       "408                                            Volcano                  NaN\n",
       "439              The Fast and the Furious: Tokyo Drift                  NaN\n",
       "442                                   Last Action Hero                  NaN\n",
       "443                                        The Rundown                  NaN\n",
       "448                                  Collateral Damage                  NaN\n",
       "450                                        Judge Dredd                  NaN\n",
       "456                     Nutty Professor II: The Klumps                  NaN\n",
       "461                        Hellboy II: The Golden Army                  NaN\n",
       "464                                        The 6th Day                  NaN\n",
       "470                                     Batman Returns                  NaN\n",
       "495                                          Space Jam                  NaN\n",
       "497                                   The Pink Panther                  NaN"
      ]
     },
     "execution_count": 28,
     "metadata": {},
     "output_type": "execute_result"
    }
   ],
   "source": [
    "df.loc[df['Production Companies'].isnull(),['Title','Production Companies']]"
   ]
  },
  {
   "cell_type": "markdown",
   "metadata": {},
   "source": [
    "I know for a fact that Eon Productions produced Quantum of Solace, so I'll go ahead and add it."
   ]
  },
  {
   "cell_type": "code",
   "execution_count": null,
   "metadata": {
    "collapsed": true
   },
   "outputs": [],
   "source": [
    "# first find the index of the row that has the movie 'Quantum of Solace'\n",
    "# we can visually see that it's 18 from above"
   ]
  },
  {
   "cell_type": "code",
   "execution_count": 106,
   "metadata": {
    "collapsed": true
   },
   "outputs": [],
   "source": [
    "df.loc[18, 'Production Companies'] = 'Eon Productions'"
   ]
  },
  {
   "cell_type": "code",
   "execution_count": 111,
   "metadata": {
    "collapsed": false
   },
   "outputs": [
    {
     "data": {
      "text/plain": [
       "Title                                                Quantum of Solace\n",
       "Production Budget                                            230000000\n",
       "Domestic Gross                                               169368427\n",
       "Worldwide Gross                                              591692078\n",
       "Url                  http://www.the-numbers.com/movie/Quantum-of-So...\n",
       "Name: 18, dtype: object"
      ]
     },
     "execution_count": 111,
     "metadata": {},
     "output_type": "execute_result"
    }
   ],
   "source": [
    "df.loc[18, :].head()"
   ]
  },
  {
   "cell_type": "markdown",
   "metadata": {
    "collapsed": true
   },
   "source": [
    "It turns out that I am not going to fill in the rest of missing production companies via manual sourcing. Maybe you can!"
   ]
  },
  {
   "cell_type": "markdown",
   "metadata": {},
   "source": [
    "> The point is that sometimes manual sourcing is necessary, albeit inconvenient."
   ]
  },
  {
   "cell_type": "markdown",
   "metadata": {},
   "source": [
    "### Imputing From a Distribution "
   ]
  },
  {
   "cell_type": "markdown",
   "metadata": {},
   "source": [
    "The intuition is as follows. Suppose we have a data set of student weights measured during physical education class. Certain students weren't present in class to take measurements, so we have some missing values. Suppose that the distribution of weights are Gaussian (follow Bell curve). "
   ]
  },
  {
   "cell_type": "markdown",
   "metadata": {},
   "source": [
    "What we can to fill in the null values is then to take a random sample from that Gaussian distribution of student weights. This is a scenario when we are working with single column or feature data.  "
   ]
  },
  {
   "cell_type": "markdown",
   "metadata": {},
   "source": [
    "Often times we are working with many columns and they are going to be correlated which means that we're going to have to work with multi-dimensional probability distributions which are difficult and complex to get it right. "
   ]
  },
  {
   "cell_type": "markdown",
   "metadata": {},
   "source": [
    "> To put the complicated mathematics aside and move on, we'll defer this discussion to another module."
   ]
  },
  {
   "cell_type": "markdown",
   "metadata": {},
   "source": [
    "Wow that was a lot. Let's take a break and continue on with the rest in the next module.\n",
    "- Feature Scaling \n",
    "- Binarizing Categorical Variables\n",
    "- Normalizing\n"
   ]
  },
  {
   "cell_type": "markdown",
   "metadata": {
    "collapsed": true
   },
   "source": [
    "### Saving the Data"
   ]
  },
  {
   "cell_type": "markdown",
   "metadata": {},
   "source": [
    "Let's save our DataFrame in its own comma separated value data file and work on it in our next module."
   ]
  },
  {
   "cell_type": "code",
   "execution_count": 120,
   "metadata": {
    "collapsed": true
   },
   "outputs": [],
   "source": [
    "# saving this DataFrame into a CSV and naming it 5.1_csv located in our data_files directory\n",
    "df.to_csv('./data_files/5.1_csv')"
   ]
  },
  {
   "cell_type": "markdown",
   "metadata": {},
   "source": [
    "### All in all we learned: \n",
    "\n",
    "- Case by Case Data Preparation\n",
    "- Data Imputing"
   ]
  },
  {
   "cell_type": "markdown",
   "metadata": {},
   "source": [
    "### Additional Takeaways:\n",
    "\n",
    "Sometimes it's the case that the data is so messy that minimal data pre-processing should be the first step before conducting data exploration and visualization. \n",
    "\n",
    "However do note that had data exploration and visualization not been conducted, we might not have spotted the messiness of the data. Sometimes the messiness is obvious. Sometimes not so much. \n",
    "\n",
    "I always recommend basic data exploration and visualization before data pre-processing. Not only will they inspire us to understand our data better and frame good questions, they will also help us brainstorm different pre-processing techniques to clean our data in a desirable way."
   ]
  },
  {
   "cell_type": "markdown",
   "metadata": {},
   "source": [
    "> The more data science projects you work on the better intuition you obtain for what kind of pre-processing you have to do on certain types of data."
   ]
  },
  {
   "cell_type": "markdown",
   "metadata": {},
   "source": [
    "Admittedly, we still have null_values, and we'd like to remove all of them in our next module. "
   ]
  },
  {
   "cell_type": "markdown",
   "metadata": {},
   "source": [
    "# We're Done!"
   ]
  },
  {
   "cell_type": "markdown",
   "metadata": {},
   "source": [
    "This tutorial closely follows my Medium blog [@dhexonian](http://medium.com/@dhexonian).\n",
    "\n",
    "If you have any questions or requests please Tweet those to me, also [@dhexonian](https://twitter.com/dhexonian) "
   ]
  }
 ],
 "metadata": {
  "kernelspec": {
   "display_name": "Python 2",
   "language": "python",
   "name": "python2"
  },
  "language_info": {
   "codemirror_mode": {
    "name": "ipython",
    "version": 2
   },
   "file_extension": ".py",
   "mimetype": "text/x-python",
   "name": "python",
   "nbconvert_exporter": "python",
   "pygments_lexer": "ipython2",
   "version": "2.7.10"
  }
 },
 "nbformat": 4,
 "nbformat_minor": 0
}
