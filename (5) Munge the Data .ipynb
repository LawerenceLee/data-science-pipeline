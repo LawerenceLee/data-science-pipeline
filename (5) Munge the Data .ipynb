{
 "cells": [
  {
   "cell_type": "markdown",
   "metadata": {},
   "source": [
    "# Data Pre-Processing"
   ]
  },
  {
   "cell_type": "markdown",
   "metadata": {},
   "source": [
    "This is a really difficult part in data science because it's open ended which means there isn't really a strict benchmark or way to pre-process data. There are certain rule of thumbs I will point out for data pre-processing and intuition that guides the discussion. Many times it's the case that your data science goals drive how you pre-process the data. Sometimes certain types or levels of pre-processing are obvious such as when we have empty entries or rows and columns of data alltogether.\n",
    "\n",
    "We'll move swiftly through the pipeline to grab an intuition at data pre-processing and defer detailed discussions to another module."
   ]
  },
  {
   "cell_type": "markdown",
   "metadata": {},
   "source": [
    "> There are 6 different data pre-processing recipes for machine learning that you will frequent \n",
    "- Case by Case Data Preparation\n",
    "- Data Imputing\n",
    "- Feature Scaling \n",
    "- Binarizing Categorical Variables\n",
    "- Normalizing"
   ]
  },
  {
   "cell_type": "markdown",
   "metadata": {},
   "source": [
    "We mentioned in the previous module that we are ditching the Facebook dataset and opting for a new one just for freshness. We're also going to start from scratch and go through the entire pipeline that was outlined up to this module for review purposes."
   ]
  },
  {
   "cell_type": "markdown",
   "metadata": {},
   "source": [
    "## Introducing the new dataset"
   ]
  },
  {
   "cell_type": "markdown",
   "metadata": {},
   "source": [
    "The dataset is called \"the_numbers_raw.csv\", and it's named after a movie information website called \"The Numbers.\" I'm actually really familiar with this dataset because I procured a small sample of the website. You can probably procure tens of thousands of movies, but I opted for 500 movies just for instructional purposes."
   ]
  },
  {
   "cell_type": "markdown",
   "metadata": {},
   "source": [
    "\"[The Numbers](http://www.the-numbers.com/) was officially launched on October 17th, 1997 as a free resource for industry professionals, the investment community, and movie fans to track business information on movies. Since its humble early beginnings, with just 300 tracked movies, the site has grown to become the largest freely available database of movie industry information on the web.\" - From Their Website"
   ]
  },
  {
   "cell_type": "markdown",
   "metadata": {
    "collapsed": true
   },
   "source": [
    "If you are curious as to how I procured the data, please see the optional file \"the numbers web scraper.ipynb\"."
   ]
  },
  {
   "cell_type": "code",
   "execution_count": 111,
   "metadata": {
    "collapsed": true
   },
   "outputs": [],
   "source": [
    "web_scraper_file_path = './optional/the numbers web scraper.ipynb'"
   ]
  },
  {
   "cell_type": "markdown",
   "metadata": {},
   "source": [
    "### Noting the Path, Size and Structure of the File"
   ]
  },
  {
   "cell_type": "code",
   "execution_count": 112,
   "metadata": {
    "collapsed": true
   },
   "outputs": [],
   "source": [
    "file_path = './data_files/the_numbers_raw.csv'"
   ]
  },
  {
   "cell_type": "code",
   "execution_count": 113,
   "metadata": {
    "collapsed": false
   },
   "outputs": [
    {
     "name": "stdout",
     "output_type": "stream",
     "text": [
      "-rw-r--r--  1 dhexonian  staff  313580 Feb 25 04:05 ./data_files/the_numbers_raw.csv\r\n"
     ]
    }
   ],
   "source": [
    "!ls -l $file_path # it's 56.5 kilobytes so we're good to read in the file "
   ]
  },
  {
   "cell_type": "code",
   "execution_count": 114,
   "metadata": {
    "collapsed": false
   },
   "outputs": [
    {
     "name": "stdout",
     "output_type": "stream",
     "text": [
      "Release Date,Title,Production Budget,Domestic Gross,Worldwide Gross,Url,Genre,Runtime,MPAA,Production Companies,Release,Domestic DVD Sales,Domestic Blu-ray Sales,Total Domestic Video Sales,Critic Rating,Wknd 1 Rank,Wknd 1 Gross,Wknd 1 %Change,Wknd 1 # Theaters,Wknd 1 GPT,Week 1 TG,Wknd 2 Rank,Wknd 2 Gross,Wknd 2 %Change,Wknd 2 # Theaters,Wknd 2 GPT,Week 2 TG,Wknd 3 Rank,Wknd 3 Gross,Wknd 3 %Change,Wknd 3 # Theaters,Wknd 3 GPT,Week 3 TG,Wknd 4 Rank,Wknd 4 Gross,Wknd 4 %Change,Wknd 4 # Theaters,Wknd 4 GPT,Week 4 TG\r\n",
      "12/18/2009,Avatar,\"$425,000,000\",\"$760,507,625\",\"$2,783,918,982\",http://www.the-numbers.com/movie/Avatar#tab=summary,Action,162 minutes,\"PG-13 for intense epic battle sequences and warfare, sensuality, language and some smoking.(Rating bulletin 2133, 8/11/2010)\",\"Dune Entertainment, 20th Century Fox, Ingenious Film Partners\",\"December 18th, 2009 (Wide) by 20th Century FoxDecember 18th, 2009 (IMAX) by 20th Century FoxAugust 27th, 2010 (IMAX) by 20th Century Fox, released as Avatar Special Edition: An IMAX 3D Experience\",\"$232,620,406\",\"$161,906,125\",\"$394,526,531\",\"[Critics\r\n"
     ]
    }
   ],
   "source": [
    "!head -2 $file_path # read the first few lines of the file "
   ]
  },
  {
   "cell_type": "markdown",
   "metadata": {},
   "source": [
    "### Initial Impressions\n",
    "\n",
    "- It looks like this file's first row consists of column names and the data starts from the second row.\n",
    "- The data looks to be comma delimited unlike our previous semi-colon delimited Facebook data \n",
    "- The data looks clean. There doesn't seem to be any supporting comments written in the data that we have to remove. \n",
    "- Seems like there's some data munging to be done. Note the $ and % signs that are going to be undesirable when doing data analysis."
   ]
  },
  {
   "cell_type": "markdown",
   "metadata": {},
   "source": [
    "### Importing the necessary packages"
   ]
  },
  {
   "cell_type": "code",
   "execution_count": 115,
   "metadata": {
    "collapsed": true
   },
   "outputs": [],
   "source": [
    "import pandas as pd \n",
    "import numpy as np \n",
    "from pandas import Series, DataFrame\n",
    "import matplotlib.pyplot as plt       \n",
    "from dateutil.parser import parse \n",
    "import re \n",
    "%matplotlib inline                    "
   ]
  },
  {
   "cell_type": "markdown",
   "metadata": {},
   "source": [
    "### Reading and Understand Your Data"
   ]
  },
  {
   "cell_type": "code",
   "execution_count": 116,
   "metadata": {
    "collapsed": false
   },
   "outputs": [],
   "source": [
    "file_path = './data_files/the_numbers_raw.csv'\n",
    "df = pd.read_csv(file_path)"
   ]
  },
  {
   "cell_type": "code",
   "execution_count": 117,
   "metadata": {
    "collapsed": false
   },
   "outputs": [
    {
     "data": {
      "text/plain": [
       "Index([u'Release Date', u'Title', u'Production Budget', u'Domestic Gross',\n",
       "       u'Worldwide Gross', u'Url', u'Genre', u'Runtime', u'MPAA',\n",
       "       u'Production Companies', u'Release', u'Domestic DVD Sales',\n",
       "       u'Domestic Blu-ray Sales', u'Total Domestic Video Sales',\n",
       "       u'Critic Rating', u'Wknd 1 Rank', u'Wknd 1 Gross', u'Wknd 1 %Change',\n",
       "       u'Wknd 1 # Theaters', u'Wknd 1 GPT', u'Week 1 TG', u'Wknd 2 Rank',\n",
       "       u'Wknd 2 Gross', u'Wknd 2 %Change', u'Wknd 2 # Theaters', u'Wknd 2 GPT',\n",
       "       u'Week 2 TG', u'Wknd 3 Rank', u'Wknd 3 Gross', u'Wknd 3 %Change',\n",
       "       u'Wknd 3 # Theaters', u'Wknd 3 GPT', u'Week 3 TG', u'Wknd 4 Rank',\n",
       "       u'Wknd 4 Gross', u'Wknd 4 %Change', u'Wknd 4 # Theaters', u'Wknd 4 GPT',\n",
       "       u'Week 4 TG'],\n",
       "      dtype='object')"
      ]
     },
     "execution_count": 117,
     "metadata": {},
     "output_type": "execute_result"
    }
   ],
   "source": [
    "df.columns # note what kind of columns we have "
   ]
  },
  {
   "cell_type": "markdown",
   "metadata": {},
   "source": [
    "Just for clarity in terms of understand our columns, TG stands for Total Gross and GPT stands for Gross Per Theater. GPT is simply TG / # Theaters."
   ]
  },
  {
   "cell_type": "code",
   "execution_count": 118,
   "metadata": {
    "collapsed": false
   },
   "outputs": [
    {
     "data": {
      "text/plain": [
       "39"
      ]
     },
     "execution_count": 118,
     "metadata": {},
     "output_type": "execute_result"
    }
   ],
   "source": [
    "len(df.columns) # use len to understand just how many columns there are "
   ]
  },
  {
   "cell_type": "code",
   "execution_count": 119,
   "metadata": {
    "collapsed": false
   },
   "outputs": [
    {
     "data": {
      "text/plain": [
       "RangeIndex(start=0, stop=500, step=1)"
      ]
     },
     "execution_count": 119,
     "metadata": {},
     "output_type": "execute_result"
    }
   ],
   "source": [
    "df.index # use index to view our index "
   ]
  },
  {
   "cell_type": "code",
   "execution_count": 120,
   "metadata": {
    "collapsed": false
   },
   "outputs": [
    {
     "data": {
      "text/plain": [
       "500"
      ]
     },
     "execution_count": 120,
     "metadata": {},
     "output_type": "execute_result"
    }
   ],
   "source": [
    "len(df.index) # confirm we have 2183 rows of data"
   ]
  },
  {
   "cell_type": "markdown",
   "metadata": {},
   "source": [
    "With the shape method we can figure out the dimensions of our entire DataFrame alltogether"
   ]
  },
  {
   "cell_type": "code",
   "execution_count": 121,
   "metadata": {
    "collapsed": false
   },
   "outputs": [
    {
     "data": {
      "text/plain": [
       "(500, 39)"
      ]
     },
     "execution_count": 121,
     "metadata": {},
     "output_type": "execute_result"
    }
   ],
   "source": [
    "df.shape"
   ]
  },
  {
   "cell_type": "code",
   "execution_count": 122,
   "metadata": {
    "collapsed": false
   },
   "outputs": [
    {
     "data": {
      "text/html": [
       "<div>\n",
       "<table border=\"1\" class=\"dataframe\">\n",
       "  <thead>\n",
       "    <tr style=\"text-align: right;\">\n",
       "      <th></th>\n",
       "      <th>Release Date</th>\n",
       "      <th>Title</th>\n",
       "      <th>Production Budget</th>\n",
       "      <th>Domestic Gross</th>\n",
       "      <th>Worldwide Gross</th>\n",
       "      <th>Url</th>\n",
       "      <th>Genre</th>\n",
       "      <th>Runtime</th>\n",
       "      <th>MPAA</th>\n",
       "      <th>Production Companies</th>\n",
       "      <th>...</th>\n",
       "      <th>Wknd 3 %Change</th>\n",
       "      <th>Wknd 3 # Theaters</th>\n",
       "      <th>Wknd 3 GPT</th>\n",
       "      <th>Week 3 TG</th>\n",
       "      <th>Wknd 4 Rank</th>\n",
       "      <th>Wknd 4 Gross</th>\n",
       "      <th>Wknd 4 %Change</th>\n",
       "      <th>Wknd 4 # Theaters</th>\n",
       "      <th>Wknd 4 GPT</th>\n",
       "      <th>Week 4 TG</th>\n",
       "    </tr>\n",
       "  </thead>\n",
       "  <tbody>\n",
       "    <tr>\n",
       "      <th>0</th>\n",
       "      <td>12/18/2009</td>\n",
       "      <td>Avatar</td>\n",
       "      <td>$425,000,000</td>\n",
       "      <td>$760,507,625</td>\n",
       "      <td>$2,783,918,982</td>\n",
       "      <td>http://www.the-numbers.com/movie/Avatar#tab=su...</td>\n",
       "      <td>Action</td>\n",
       "      <td>162 minutes</td>\n",
       "      <td>PG-13 for intense epic battle sequences and wa...</td>\n",
       "      <td>Dune Entertainment, 20th Century Fox, Ingeniou...</td>\n",
       "      <td>...</td>\n",
       "      <td>-9%</td>\n",
       "      <td>3,461</td>\n",
       "      <td>$19,789</td>\n",
       "      <td>$352,114,898</td>\n",
       "      <td>17.0</td>\n",
       "      <td>$50,306,217</td>\n",
       "      <td>-27%</td>\n",
       "      <td>3,422</td>\n",
       "      <td>$14,701</td>\n",
       "      <td>$430,846,514</td>\n",
       "    </tr>\n",
       "    <tr>\n",
       "      <th>1</th>\n",
       "      <td>12/18/2015</td>\n",
       "      <td>Star Wars Ep. VII: The Force Awakens</td>\n",
       "      <td>$306,000,000</td>\n",
       "      <td>$936,662,225</td>\n",
       "      <td>$2,058,662,225</td>\n",
       "      <td>http://www.the-numbers.com/movie/Star-Wars-Ep-...</td>\n",
       "      <td>Adventure</td>\n",
       "      <td>136 minutes</td>\n",
       "      <td>PG-13 for sci-fi action violence.(Rating bulle...</td>\n",
       "      <td>Lucasfilm, Bad Robot</td>\n",
       "      <td>...</td>\n",
       "      <td>-40%</td>\n",
       "      <td>4,134</td>\n",
       "      <td>$21,829</td>\n",
       "      <td>$742,208,942</td>\n",
       "      <td>17.0</td>\n",
       "      <td>$42,353,785</td>\n",
       "      <td>-53%</td>\n",
       "      <td>4,134</td>\n",
       "      <td>$10,245</td>\n",
       "      <td>$812,734,828</td>\n",
       "    </tr>\n",
       "    <tr>\n",
       "      <th>2</th>\n",
       "      <td>5/24/2007</td>\n",
       "      <td>Pirates of the Caribbean: At World’s End</td>\n",
       "      <td>$300,000,000</td>\n",
       "      <td>$309,420,425</td>\n",
       "      <td>$963,420,425</td>\n",
       "      <td>http://www.the-numbers.com/movie/Pirates-of-th...</td>\n",
       "      <td>Adventure</td>\n",
       "      <td>167 minutes</td>\n",
       "      <td>PG-13 for intense sequences of action/adventur...</td>\n",
       "      <td>Walt Disney Pictures, Jerry Bruckheimer</td>\n",
       "      <td>...</td>\n",
       "      <td>-52%</td>\n",
       "      <td>4,002</td>\n",
       "      <td>$5,283</td>\n",
       "      <td>$253,441,723</td>\n",
       "      <td>17.0</td>\n",
       "      <td>$12,411,786</td>\n",
       "      <td>-41%</td>\n",
       "      <td>3,329</td>\n",
       "      <td>$3,728</td>\n",
       "      <td>$274,145,510</td>\n",
       "    </tr>\n",
       "  </tbody>\n",
       "</table>\n",
       "<p>3 rows × 39 columns</p>\n",
       "</div>"
      ],
      "text/plain": [
       "  Release Date                                     Title Production Budget  \\\n",
       "0   12/18/2009                                    Avatar      $425,000,000   \n",
       "1   12/18/2015      Star Wars Ep. VII: The Force Awakens      $306,000,000   \n",
       "2    5/24/2007  Pirates of the Caribbean: At World’s End      $300,000,000   \n",
       "\n",
       "  Domestic Gross Worldwide Gross  \\\n",
       "0   $760,507,625  $2,783,918,982   \n",
       "1   $936,662,225  $2,058,662,225   \n",
       "2   $309,420,425    $963,420,425   \n",
       "\n",
       "                                                 Url      Genre      Runtime  \\\n",
       "0  http://www.the-numbers.com/movie/Avatar#tab=su...     Action  162 minutes   \n",
       "1  http://www.the-numbers.com/movie/Star-Wars-Ep-...  Adventure  136 minutes   \n",
       "2  http://www.the-numbers.com/movie/Pirates-of-th...  Adventure  167 minutes   \n",
       "\n",
       "                                                MPAA  \\\n",
       "0  PG-13 for intense epic battle sequences and wa...   \n",
       "1  PG-13 for sci-fi action violence.(Rating bulle...   \n",
       "2  PG-13 for intense sequences of action/adventur...   \n",
       "\n",
       "                                Production Companies      ...       \\\n",
       "0  Dune Entertainment, 20th Century Fox, Ingeniou...      ...        \n",
       "1                               Lucasfilm, Bad Robot      ...        \n",
       "2            Walt Disney Pictures, Jerry Bruckheimer      ...        \n",
       "\n",
       "  Wknd 3 %Change Wknd 3 # Theaters Wknd 3 GPT     Week 3 TG Wknd 4 Rank  \\\n",
       "0            -9%             3,461    $19,789  $352,114,898        17.0   \n",
       "1           -40%             4,134    $21,829  $742,208,942        17.0   \n",
       "2           -52%             4,002     $5,283  $253,441,723        17.0   \n",
       "\n",
       "  Wknd 4 Gross Wknd 4 %Change Wknd 4 # Theaters Wknd 4 GPT     Week 4 TG  \n",
       "0  $50,306,217           -27%             3,422    $14,701  $430,846,514  \n",
       "1  $42,353,785           -53%             4,134    $10,245  $812,734,828  \n",
       "2  $12,411,786           -41%             3,329     $3,728  $274,145,510  \n",
       "\n",
       "[3 rows x 39 columns]"
      ]
     },
     "execution_count": 122,
     "metadata": {},
     "output_type": "execute_result"
    }
   ],
   "source": [
    "df.head(3) # we can use either head, tail or sample to get a preview of the DataFrame "
   ]
  },
  {
   "cell_type": "markdown",
   "metadata": {},
   "source": [
    "Note that because the DataFrame is so wide (39 columns wide to be exact) Jupyter Notebook provides a horizontal scrollbar for us to look at columns of data which don't fit on our window."
   ]
  },
  {
   "cell_type": "code",
   "execution_count": 123,
   "metadata": {
    "collapsed": false
   },
   "outputs": [
    {
     "name": "stdout",
     "output_type": "stream",
     "text": [
      "<class 'pandas.core.frame.DataFrame'>\n",
      "RangeIndex: 500 entries, 0 to 499\n",
      "Data columns (total 39 columns):\n",
      "Release Date                  500 non-null object\n",
      "Title                         500 non-null object\n",
      "Production Budget             500 non-null object\n",
      "Domestic Gross                500 non-null object\n",
      "Worldwide Gross               500 non-null object\n",
      "Url                           500 non-null object\n",
      "Genre                         500 non-null object\n",
      "Runtime                       465 non-null object\n",
      "MPAA                          497 non-null object\n",
      "Production Companies          447 non-null object\n",
      "Release                       499 non-null object\n",
      "Domestic DVD Sales            318 non-null object\n",
      "Domestic Blu-ray Sales        270 non-null object\n",
      "Total Domestic Video Sales    318 non-null object\n",
      "Critic Rating                 334 non-null object\n",
      "Wknd 1 Rank                   497 non-null object\n",
      "Wknd 1 Gross                  497 non-null object\n",
      "Wknd 1 %Change                497 non-null object\n",
      "Wknd 1 # Theaters             497 non-null object\n",
      "Wknd 1 GPT                    497 non-null object\n",
      "Week 1 TG                     497 non-null object\n",
      "Wknd 2 Rank                   497 non-null float64\n",
      "Wknd 2 Gross                  496 non-null object\n",
      "Wknd 2 %Change                496 non-null object\n",
      "Wknd 2 # Theaters             496 non-null object\n",
      "Wknd 2 GPT                    496 non-null object\n",
      "Week 2 TG                     496 non-null object\n",
      "Wknd 3 Rank                   496 non-null float64\n",
      "Wknd 3 Gross                  495 non-null object\n",
      "Wknd 3 %Change                495 non-null object\n",
      "Wknd 3 # Theaters             495 non-null object\n",
      "Wknd 3 GPT                    495 non-null object\n",
      "Week 3 TG                     495 non-null object\n",
      "Wknd 4 Rank                   495 non-null float64\n",
      "Wknd 4 Gross                  492 non-null object\n",
      "Wknd 4 %Change                492 non-null object\n",
      "Wknd 4 # Theaters             492 non-null object\n",
      "Wknd 4 GPT                    492 non-null object\n",
      "Week 4 TG                     492 non-null object\n",
      "dtypes: float64(3), object(36)\n",
      "memory usage: 152.4+ KB\n"
     ]
    }
   ],
   "source": [
    "df.info() # return number of non-null values and data type of each column via info() method"
   ]
  },
  {
   "cell_type": "markdown",
   "metadata": {},
   "source": [
    "> Note that each column has varying numbers of non-null objects. "
   ]
  },
  {
   "cell_type": "markdown",
   "metadata": {},
   "source": [
    "We have missing values. Note that we have all 500 release dates for our 500 movies but we only have 270 Domestic Blu-ray Sales. We can hypothesize that this is probably because some movies weren't popular enough to warrant a Blu-Ray release. Or it could be the case that some movies were not of the time that Blu-Rays were a thing. We will revisit what to do with missing values in a bit. "
   ]
  },
  {
   "cell_type": "code",
   "execution_count": 124,
   "metadata": {
    "collapsed": false
   },
   "outputs": [
    {
     "data": {
      "text/html": [
       "<div>\n",
       "<table border=\"1\" class=\"dataframe\">\n",
       "  <thead>\n",
       "    <tr style=\"text-align: right;\">\n",
       "      <th></th>\n",
       "      <th>Wknd 2 Rank</th>\n",
       "      <th>Wknd 3 Rank</th>\n",
       "      <th>Wknd 4 Rank</th>\n",
       "    </tr>\n",
       "  </thead>\n",
       "  <tbody>\n",
       "    <tr>\n",
       "      <th>count</th>\n",
       "      <td>497.000000</td>\n",
       "      <td>496.000000</td>\n",
       "      <td>495.000000</td>\n",
       "    </tr>\n",
       "    <tr>\n",
       "      <th>mean</th>\n",
       "      <td>3.730382</td>\n",
       "      <td>10.731855</td>\n",
       "      <td>17.733333</td>\n",
       "    </tr>\n",
       "    <tr>\n",
       "      <th>std</th>\n",
       "      <td>7.649303</td>\n",
       "      <td>7.656955</td>\n",
       "      <td>7.664630</td>\n",
       "    </tr>\n",
       "    <tr>\n",
       "      <th>min</th>\n",
       "      <td>3.000000</td>\n",
       "      <td>10.000000</td>\n",
       "      <td>17.000000</td>\n",
       "    </tr>\n",
       "    <tr>\n",
       "      <th>25%</th>\n",
       "      <td>3.000000</td>\n",
       "      <td>10.000000</td>\n",
       "      <td>17.000000</td>\n",
       "    </tr>\n",
       "    <tr>\n",
       "      <th>50%</th>\n",
       "      <td>3.000000</td>\n",
       "      <td>10.000000</td>\n",
       "      <td>17.000000</td>\n",
       "    </tr>\n",
       "    <tr>\n",
       "      <th>75%</th>\n",
       "      <td>3.000000</td>\n",
       "      <td>10.000000</td>\n",
       "      <td>17.000000</td>\n",
       "    </tr>\n",
       "    <tr>\n",
       "      <th>max</th>\n",
       "      <td>173.000000</td>\n",
       "      <td>180.000000</td>\n",
       "      <td>187.000000</td>\n",
       "    </tr>\n",
       "  </tbody>\n",
       "</table>\n",
       "</div>"
      ],
      "text/plain": [
       "       Wknd 2 Rank  Wknd 3 Rank  Wknd 4 Rank\n",
       "count   497.000000   496.000000   495.000000\n",
       "mean      3.730382    10.731855    17.733333\n",
       "std       7.649303     7.656955     7.664630\n",
       "min       3.000000    10.000000    17.000000\n",
       "25%       3.000000    10.000000    17.000000\n",
       "50%       3.000000    10.000000    17.000000\n",
       "75%       3.000000    10.000000    17.000000\n",
       "max     173.000000   180.000000   187.000000"
      ]
     },
     "execution_count": 124,
     "metadata": {},
     "output_type": "execute_result"
    }
   ],
   "source": [
    "df.describe() # return aggregate statistics via describe() method"
   ]
  },
  {
   "cell_type": "markdown",
   "metadata": {},
   "source": [
    "> Uh oh..."
   ]
  },
  {
   "cell_type": "markdown",
   "metadata": {},
   "source": [
    "We'd like for our describe() method to return aggregate statistics for each of our columns. However we are given aggregate statistics for only three columns: \"Wknd 2 Rank, WKnd 3 Rank and Wknd 4 Rank.\" This is because the describe method() is unfamiliar with handling columns with data type: \"non-null object\". The intuition is that describe() cannot calculate statistics such as percentiles, averages and standard deviations for non-integer and non-float (numeric) data types. It's impossible to calculate the standard deviation of MPAA ratings, so describe() won't pretend to do it.\n",
    "\n",
    "The three columsn \"Wknd 2 Rank, WKnd 3 Rank and Wknd 4 Rank\" are non-null float64 which is recognizable and calculatable. \n",
    "\n",
    "We need to do some data pre-processing. Thankfully we did some preliminary data exploration!"
   ]
  },
  {
   "cell_type": "code",
   "execution_count": 130,
   "metadata": {
    "collapsed": false
   },
   "outputs": [
    {
     "data": {
      "text/plain": [
       "dtype('float64')"
      ]
     },
     "execution_count": 130,
     "metadata": {},
     "output_type": "execute_result"
    }
   ],
   "source": [
    "# to confirm the data type of a single DataFrame column / also known as Series use dtype method\n",
    "df['Wknd 2 Rank'].dtype "
   ]
  },
  {
   "cell_type": "code",
   "execution_count": 129,
   "metadata": {
    "collapsed": false
   },
   "outputs": [
    {
     "data": {
      "text/plain": [
       "dtype('O')"
      ]
     },
     "execution_count": 129,
     "metadata": {},
     "output_type": "execute_result"
    }
   ],
   "source": [
    "# non-null object \"O\"\n",
    "df['Wknd 2 Gross'].dtype "
   ]
  },
  {
   "cell_type": "markdown",
   "metadata": {},
   "source": [
    "### Visualizing the Data"
   ]
  },
  {
   "cell_type": "markdown",
   "metadata": {
    "collapsed": true
   },
   "source": [
    "We can visualize the data right now, but note that one could argue that through data exploration we have an intuition that it could be wise to draft a plan of action for tackling null values and the data types of each column before data visualization."
   ]
  },
  {
   "cell_type": "markdown",
   "metadata": {},
   "source": [
    "Let's just do brute force data visualization and see where we get."
   ]
  },
  {
   "cell_type": "code",
   "execution_count": 30,
   "metadata": {
    "collapsed": false
   },
   "outputs": [
    {
     "data": {
      "image/png": "[encoded data removed]",
      "text/plain": [
       "<matplotlib.figure.Figure at 0x108b4d110>"
      ]
     },
     "metadata": {},
     "output_type": "display_data"
    }
   ],
   "source": [
    "# let's create a histogram of each column \n",
    "df.hist(figsize=(15,40),layout=(20,2),sharex=False, sharey=False) # use the hist method to create a histogram of each feature\n",
    "plt.show()"
   ]
  },
  {
   "cell_type": "markdown",
   "metadata": {},
   "source": [
    "> Not again... So it's becoming pretty clear that we need to do some pre-processing before undergoing any serious data exploration and visualization."
   ]
  },
  {
   "cell_type": "markdown",
   "metadata": {},
   "source": [
    "The fact that we can't properly visualize our data without data pre-processing is pretty much an invincible argument for undergoing data pre-processing right after reading in the data. "
   ]
  },
  {
   "cell_type": "markdown",
   "metadata": {},
   "source": [
    "### Referring back to Data Pre-Processing"
   ]
  },
  {
   "cell_type": "markdown",
   "metadata": {},
   "source": [
    "- Case by Case Problems w/ Messy Data \n",
    "- Data Imputing\n",
    "- Feature Scaling \n",
    "- Binarizing Categorical Variables\n",
    "- Normalizing"
   ]
  },
  {
   "cell_type": "markdown",
   "metadata": {},
   "source": [
    "We will try to go in top to bottom order and start tackling the problem of handling messy data."
   ]
  },
  {
   "cell_type": "code",
   "execution_count": 131,
   "metadata": {
    "collapsed": false
   },
   "outputs": [
    {
     "data": {
      "text/plain": [
       "Release Date                                                         12/18/2009\n",
       "Title                                                                    Avatar\n",
       "Production Budget                                                  $425,000,000\n",
       "Domestic Gross                                                     $760,507,625\n",
       "Worldwide Gross                                                  $2,783,918,982\n",
       "Url                           http://www.the-numbers.com/movie/Avatar#tab=su...\n",
       "Genre                                                                    Action\n",
       "Runtime                                                             162 minutes\n",
       "MPAA                          PG-13 for intense epic battle sequences and wa...\n",
       "Production Companies          Dune Entertainment, 20th Century Fox, Ingeniou...\n",
       "Release                       December 18th, 2009 (Wide) by 20th Century Fox...\n",
       "Domestic DVD Sales                                                 $232,620,406\n",
       "Domestic Blu-ray Sales                                             $161,906,125\n",
       "Total Domestic Video Sales                                         $394,526,531\n",
       "Critic Rating                 [Critics\\n83% - Certified Fresh, Audience\\n82%...\n",
       "Wknd 1 Rank                                                          2009/12/18\n",
       "Wknd 1 Gross                                                        $77,025,481\n",
       "Wknd 1 %Change                                                             None\n",
       "Wknd 1 # Theaters                                                         3,452\n",
       "Wknd 1 GPT                                                              $22,313\n",
       "Week 1 TG                                                           $77,025,481\n",
       "Wknd 2 Rank                                                                   3\n",
       "Wknd 2 Gross                                                        $75,617,133\n",
       "Wknd 2 %Change                                                              -2%\n",
       "Wknd 2 # Theaters                                                         3,456\n",
       "Wknd 2 GPT                                                              $21,880\n",
       "Week 2 TG                                                          $212,711,184\n",
       "Wknd 3 Rank                                                                  10\n",
       "Wknd 3 Gross                                                        $68,490,688\n",
       "Wknd 3 %Change                                                              -9%\n",
       "Wknd 3 # Theaters                                                         3,461\n",
       "Wknd 3 GPT                                                              $19,789\n",
       "Week 3 TG                                                          $352,114,898\n",
       "Wknd 4 Rank                                                                  17\n",
       "Wknd 4 Gross                                                        $50,306,217\n",
       "Wknd 4 %Change                                                             -27%\n",
       "Wknd 4 # Theaters                                                         3,422\n",
       "Wknd 4 GPT                                                              $14,701\n",
       "Week 4 TG                                                          $430,846,514\n",
       "Name: 0, dtype: object"
      ]
     },
     "execution_count": 131,
     "metadata": {},
     "output_type": "execute_result"
    }
   ],
   "source": [
    "df.ix[0] # view first row of our data via ix"
   ]
  },
  {
   "cell_type": "markdown",
   "metadata": {},
   "source": [
    "From looking at our data, we want to be mindful of doing the following.\n",
    "\n",
    "1. Remove $ sign for columns related to revenue/sales and change numeric numeric data into float64 objects \n",
    "2. Ensure that the release date data is in the appropriate datetime format \n",
    "3. Remove \"minutes\" for the Runtime data\n",
    "4. Get only the MPAA Rating without the additional commentary \n",
    "5. There are two critic ratings: audience and critic rating. Remove the text and procure just the two numbers as two separate columns.\n",
    "6. Remove any columns as needed depending on your data science problem     "
   ]
  },
  {
   "cell_type": "markdown",
   "metadata": {},
   "source": [
    "### Cleaning"
   ]
  },
  {
   "cell_type": "code",
   "execution_count": 270,
   "metadata": {
    "collapsed": false
   },
   "outputs": [],
   "source": [
    "# we will defer detailed discussion of data munging to a later pandas and numpy module\n",
    "\n",
    "def scrubber(file):\n",
    "    \n",
    "    df = pd.read_csv(file)\n",
    "    \n",
    "    columns_to_scrub = ['Production Budget','Domestic Gross','Worldwide Gross','Domestic DVD Sales','Domestic Blu-ray Sales','Total Domestic Video Sales','Wknd 1 Rank','Wknd 1 Gross','Wknd 1 # Theaters','Wknd 1 GPT','Week 1 TG', 'Wknd 2 Rank','Wknd 2 Gross','Wknd 2 %Change','Wknd 2 # Theaters','Wknd 2 GPT','Week 2 TG','Wknd 3 Rank','Wknd 3 Gross','Wknd 3 %Change','Wknd 3 # Theaters','Wknd 3 GPT','Week 3 TG','Wknd 4 Rank','Wknd 4 Gross','Wknd 4 %Change','Wknd 4 # Theaters','Wknd 4 GPT','Week 4 TG']\n",
    "    \n",
    "    for column in columns_to_scrub:\n",
    "        df[column] = df[column].map(lambda x: (re.sub('[$|,|%]','',str(x)))) \n",
    "            \n",
    "    df['Runtime'] = df['Runtime'].astype(str).map(lambda x: x.split()[0])\n",
    "\n",
    "    df['MPAA'] = df['MPAA'].astype(str).map(lambda x: x.split()[0])  \n",
    "    \n",
    "    df['Critic Rating'] = df['Critic Rating'].astype(str).map(lambda x: x.strip())        \n",
    "    df['Release Date'] = df['Release Date'].apply(lambda x: parse(x))\n",
    "    \n",
    "    return df \n",
    "\n",
    "def split_critic(df):\n",
    "    \n",
    "    list_of_rating = df['Critic Rating'].tolist()\n",
    "\n",
    "    total_rating = [] \n",
    "    \n",
    "    for rating_string in list_of_rating:\n",
    "        \n",
    "        if rating_string == 'nan' or len(rating_string)==0 or re.findall('\\d+%',rating_string)==[]: \n",
    "            total_rating.append([0,0])\n",
    "        elif len(re.findall('\\d+%',rating_string))==1:\n",
    "            total_rating.append([re.findall('\\d+%',rating_string)[0],re.findall('\\d+%',rating_string)[0]])\n",
    "        else:\n",
    "            list_pair = re.findall('\\d+%',rating_string)\n",
    "            total_rating.append(list_pair)\n",
    "\n",
    "    critic_rate, audience_rate = zip(*total_rating)\n",
    "    \n",
    "    df['Critic Rate'] = map(lambda x: re.sub('[$|,|%]','',str(x)),critic_rate)\n",
    "    df['Audience Rate'] = map(lambda x: re.sub('[$|,|%]','',str(x)),audience_rate)\n",
    "    df.drop(['Critic Rating','Wknd 1 %Change','Release Date'],axis=1, inplace=True)\n",
    "    df = df.replace('nan',np.nan)\n",
    "    return df \n",
    "\n",
    "df = scrubber('./data_files/the_numbers_raw.csv')\n",
    "df = split_critic(df)"
   ]
  },
  {
   "cell_type": "code",
   "execution_count": 271,
   "metadata": {
    "collapsed": false
   },
   "outputs": [
    {
     "data": {
      "text/plain": [
       "Title                                                                    Avatar\n",
       "Production Budget                                                     425000000\n",
       "Domestic Gross                                                        760507625\n",
       "Worldwide Gross                                                      2783918982\n",
       "Url                           http://www.the-numbers.com/movie/Avatar#tab=su...\n",
       "Genre                                                                    Action\n",
       "Runtime                                                                     162\n",
       "MPAA                                                                      PG-13\n",
       "Production Companies          Dune Entertainment, 20th Century Fox, Ingeniou...\n",
       "Release                       December 18th, 2009 (Wide) by 20th Century Fox...\n",
       "Domestic DVD Sales                                                    232620406\n",
       "Domestic Blu-ray Sales                                                161906125\n",
       "Total Domestic Video Sales                                            394526531\n",
       "Wknd 1 Rank                                                          2009/12/18\n",
       "Wknd 1 Gross                                                           77025481\n",
       "Wknd 1 # Theaters                                                          3452\n",
       "Wknd 1 GPT                                                                22313\n",
       "Week 1 TG                                                              77025481\n",
       "Wknd 2 Rank                                                                 3.0\n",
       "Wknd 2 Gross                                                           75617133\n",
       "Wknd 2 %Change                                                               -2\n",
       "Wknd 2 # Theaters                                                          3456\n",
       "Wknd 2 GPT                                                                21880\n",
       "Week 2 TG                                                             212711184\n",
       "Wknd 3 Rank                                                                10.0\n",
       "Wknd 3 Gross                                                           68490688\n",
       "Wknd 3 %Change                                                               -9\n",
       "Wknd 3 # Theaters                                                          3461\n",
       "Wknd 3 GPT                                                                19789\n",
       "Week 3 TG                                                             352114898\n",
       "Wknd 4 Rank                                                                17.0\n",
       "Wknd 4 Gross                                                           50306217\n",
       "Wknd 4 %Change                                                              -27\n",
       "Wknd 4 # Theaters                                                          3422\n",
       "Wknd 4 GPT                                                                14701\n",
       "Week 4 TG                                                             430846514\n",
       "Critic Rate                                                                  83\n",
       "Audience Rate                                                                82\n",
       "Name: 0, dtype: object"
      ]
     },
     "execution_count": 271,
     "metadata": {},
     "output_type": "execute_result"
    }
   ],
   "source": [
    "df.ix[0] "
   ]
  },
  {
   "cell_type": "markdown",
   "metadata": {},
   "source": [
    "### Data Imputing "
   ]
  },
  {
   "cell_type": "markdown",
   "metadata": {},
   "source": [
    "We've noted that some entries are going to be null or missing. This means that we have to make an executive decision as to whether or not we want to drop rows of data that have missing data or figure out a way to make an educated guess and fill those null values. Finding a way to make sound estimates to replace null values is called data imputing."
   ]
  },
  {
   "cell_type": "markdown",
   "metadata": {},
   "source": [
    "> 7 Frequented Options"
   ]
  },
  {
   "cell_type": "markdown",
   "metadata": {},
   "source": [
    "1. Imputate by the median or mean of the entire column for continuous features and the mode for categorical features.\n",
    "2. Plot a distribution (histogram if binning or particular density distribution) of the column and take a random sample from that distribution. \n",
    "3. Record the rows with null values. Model data on rows of complete data. Then make use the model to make probabilistic assessments of which value in place of the null value will maximize the likelihood of the data given the non-null values that exist in the same row. \n",
    "4. Remove rows that have null values alltogether. Can't risk bad guesses. \n",
    "5. Remove columns that have a lot of null values. Some columns weren't that meaningful anyways. \n",
    "6. Manual sourcing.\n",
    "7. Something else.\n",
    "    "
   ]
  },
  {
   "cell_type": "markdown",
   "metadata": {},
   "source": [
    "### If we opt to remove rows with null values"
   ]
  },
  {
   "cell_type": "code",
   "execution_count": 272,
   "metadata": {
    "collapsed": false
   },
   "outputs": [
    {
     "name": "stdout",
     "output_type": "stream",
     "text": [
      "<class 'pandas.core.frame.DataFrame'>\n",
      "RangeIndex: 500 entries, 0 to 499\n",
      "Data columns (total 38 columns):\n",
      "Title                         500 non-null object\n",
      "Production Budget             500 non-null object\n",
      "Domestic Gross                500 non-null object\n",
      "Worldwide Gross               500 non-null object\n",
      "Url                           500 non-null object\n",
      "Genre                         500 non-null object\n",
      "Runtime                       465 non-null object\n",
      "MPAA                          497 non-null object\n",
      "Production Companies          447 non-null object\n",
      "Release                       499 non-null object\n",
      "Domestic DVD Sales            318 non-null object\n",
      "Domestic Blu-ray Sales        270 non-null object\n",
      "Total Domestic Video Sales    318 non-null object\n",
      "Wknd 1 Rank                   497 non-null object\n",
      "Wknd 1 Gross                  497 non-null object\n",
      "Wknd 1 # Theaters             497 non-null object\n",
      "Wknd 1 GPT                    497 non-null object\n",
      "Week 1 TG                     497 non-null object\n",
      "Wknd 2 Rank                   497 non-null object\n",
      "Wknd 2 Gross                  496 non-null object\n",
      "Wknd 2 %Change                496 non-null object\n",
      "Wknd 2 # Theaters             496 non-null object\n",
      "Wknd 2 GPT                    496 non-null object\n",
      "Week 2 TG                     496 non-null object\n",
      "Wknd 3 Rank                   496 non-null object\n",
      "Wknd 3 Gross                  495 non-null object\n",
      "Wknd 3 %Change                495 non-null object\n",
      "Wknd 3 # Theaters             495 non-null object\n",
      "Wknd 3 GPT                    495 non-null object\n",
      "Week 3 TG                     495 non-null object\n",
      "Wknd 4 Rank                   495 non-null object\n",
      "Wknd 4 Gross                  492 non-null object\n",
      "Wknd 4 %Change                492 non-null object\n",
      "Wknd 4 # Theaters             492 non-null object\n",
      "Wknd 4 GPT                    492 non-null object\n",
      "Week 4 TG                     492 non-null object\n",
      "Critic Rate                   500 non-null object\n",
      "Audience Rate                 500 non-null object\n",
      "dtypes: object(38)\n",
      "memory usage: 148.5+ KB\n"
     ]
    }
   ],
   "source": [
    "df.info() # note the number of non-null in each column before dropping rows with null values"
   ]
  },
  {
   "cell_type": "code",
   "execution_count": 273,
   "metadata": {
    "collapsed": false
   },
   "outputs": [
    {
     "name": "stdout",
     "output_type": "stream",
     "text": [
      "<class 'pandas.core.frame.DataFrame'>\n",
      "Int64Index: 262 entries, 0 to 498\n",
      "Data columns (total 38 columns):\n",
      "Title                         262 non-null object\n",
      "Production Budget             262 non-null object\n",
      "Domestic Gross                262 non-null object\n",
      "Worldwide Gross               262 non-null object\n",
      "Url                           262 non-null object\n",
      "Genre                         262 non-null object\n",
      "Runtime                       262 non-null object\n",
      "MPAA                          262 non-null object\n",
      "Production Companies          262 non-null object\n",
      "Release                       262 non-null object\n",
      "Domestic DVD Sales            262 non-null object\n",
      "Domestic Blu-ray Sales        262 non-null object\n",
      "Total Domestic Video Sales    262 non-null object\n",
      "Wknd 1 Rank                   262 non-null object\n",
      "Wknd 1 Gross                  262 non-null object\n",
      "Wknd 1 # Theaters             262 non-null object\n",
      "Wknd 1 GPT                    262 non-null object\n",
      "Week 1 TG                     262 non-null object\n",
      "Wknd 2 Rank                   262 non-null object\n",
      "Wknd 2 Gross                  262 non-null object\n",
      "Wknd 2 %Change                262 non-null object\n",
      "Wknd 2 # Theaters             262 non-null object\n",
      "Wknd 2 GPT                    262 non-null object\n",
      "Week 2 TG                     262 non-null object\n",
      "Wknd 3 Rank                   262 non-null object\n",
      "Wknd 3 Gross                  262 non-null object\n",
      "Wknd 3 %Change                262 non-null object\n",
      "Wknd 3 # Theaters             262 non-null object\n",
      "Wknd 3 GPT                    262 non-null object\n",
      "Week 3 TG                     262 non-null object\n",
      "Wknd 4 Rank                   262 non-null object\n",
      "Wknd 4 Gross                  262 non-null object\n",
      "Wknd 4 %Change                262 non-null object\n",
      "Wknd 4 # Theaters             262 non-null object\n",
      "Wknd 4 GPT                    262 non-null object\n",
      "Week 4 TG                     262 non-null object\n",
      "Critic Rate                   262 non-null object\n",
      "Audience Rate                 262 non-null object\n",
      "dtypes: object(38)\n",
      "memory usage: 79.8+ KB\n"
     ]
    }
   ],
   "source": [
    "df_dropna = df.dropna() # dropna() method does the trick \n",
    "df_dropna.info()"
   ]
  },
  {
   "cell_type": "markdown",
   "metadata": {
    "collapsed": true
   },
   "source": [
    "Because Domstic Blu-ray Sales has 270 non-null objects what we expect at the most optimal condition is for 270 rows to remain in our DataFrame. This is an idealistic situation."
   ]
  },
  {
   "cell_type": "markdown",
   "metadata": {},
   "source": [
    "We see that we are left with 262 rows of data which is far from ideal because we've wiped away half of our data. Let's consider removing columns which have many null values. I feel like the Blu-ray, Video and DVD Sales columns are dragging us down. "
   ]
  },
  {
   "cell_type": "markdown",
   "metadata": {},
   "source": [
    "### Removing Columns Which Have Many Null Values "
   ]
  },
  {
   "cell_type": "code",
   "execution_count": 274,
   "metadata": {
    "collapsed": false
   },
   "outputs": [
    {
     "data": {
      "text/plain": [
       "Title                         500\n",
       "Production Budget             500\n",
       "Domestic Gross                500\n",
       "Worldwide Gross               500\n",
       "Url                           500\n",
       "Genre                         500\n",
       "Runtime                       465\n",
       "MPAA                          497\n",
       "Production Companies          447\n",
       "Release                       499\n",
       "Domestic DVD Sales            318\n",
       "Domestic Blu-ray Sales        270\n",
       "Total Domestic Video Sales    318\n",
       "Wknd 1 Rank                   497\n",
       "Wknd 1 Gross                  497\n",
       "Wknd 1 # Theaters             497\n",
       "Wknd 1 GPT                    497\n",
       "Week 1 TG                     497\n",
       "Wknd 2 Rank                   497\n",
       "Wknd 2 Gross                  496\n",
       "Wknd 2 %Change                496\n",
       "Wknd 2 # Theaters             496\n",
       "Wknd 2 GPT                    496\n",
       "Week 2 TG                     496\n",
       "Wknd 3 Rank                   496\n",
       "Wknd 3 Gross                  495\n",
       "Wknd 3 %Change                495\n",
       "Wknd 3 # Theaters             495\n",
       "Wknd 3 GPT                    495\n",
       "Week 3 TG                     495\n",
       "Wknd 4 Rank                   495\n",
       "Wknd 4 Gross                  492\n",
       "Wknd 4 %Change                492\n",
       "Wknd 4 # Theaters             492\n",
       "Wknd 4 GPT                    492\n",
       "Week 4 TG                     492\n",
       "Critic Rate                   500\n",
       "Audience Rate                 500\n",
       "dtype: int64"
      ]
     },
     "execution_count": 274,
     "metadata": {},
     "output_type": "execute_result"
    }
   ],
   "source": [
    "# unlike info count returns a Series (single column DataFrame) that has the number of non-null objects as values column names as index\n",
    "df.count() "
   ]
  },
  {
   "cell_type": "code",
   "execution_count": 275,
   "metadata": {
    "collapsed": false
   },
   "outputs": [
    {
     "data": {
      "text/plain": [
       "Domestic Blu-ray Sales        270\n",
       "Domestic DVD Sales            318\n",
       "Total Domestic Video Sales    318\n",
       "Production Companies          447\n",
       "Runtime                       465\n",
       "Week 4 TG                     492\n",
       "Wknd 4 GPT                    492\n",
       "Wknd 4 # Theaters             492\n",
       "Wknd 4 %Change                492\n",
       "Wknd 4 Gross                  492\n",
       "Wknd 4 Rank                   495\n",
       "Wknd 3 GPT                    495\n",
       "Wknd 3 Gross                  495\n",
       "Week 3 TG                     495\n",
       "Wknd 3 %Change                495\n",
       "Wknd 3 # Theaters             495\n",
       "Wknd 3 Rank                   496\n",
       "Week 2 TG                     496\n",
       "Wknd 2 GPT                    496\n",
       "Wknd 2 Gross                  496\n",
       "Wknd 2 %Change                496\n",
       "Wknd 2 # Theaters             496\n",
       "Wknd 2 Rank                   497\n",
       "Wknd 1 GPT                    497\n",
       "Wknd 1 # Theaters             497\n",
       "Wknd 1 Rank                   497\n",
       "MPAA                          497\n",
       "Week 1 TG                     497\n",
       "Wknd 1 Gross                  497\n",
       "Release                       499\n",
       "Title                         500\n",
       "Genre                         500\n",
       "Url                           500\n",
       "Worldwide Gross               500\n",
       "Domestic Gross                500\n",
       "Production Budget             500\n",
       "Critic Rate                   500\n",
       "Audience Rate                 500\n",
       "dtype: int64"
      ]
     },
     "execution_count": 275,
     "metadata": {},
     "output_type": "execute_result"
    }
   ],
   "source": [
    "df.count().sort_values() # use sort_values() to order the Series from least to greatest "
   ]
  },
  {
   "cell_type": "markdown",
   "metadata": {},
   "source": [
    "We can make a strong argument for dropping the three columns with the most null values\n",
    "1. Domestic Blu-ray Sales        \n",
    "2. Total Domestic Video Sales    \n",
    "3. Domestic DVD Sales            "
   ]
  },
  {
   "cell_type": "markdown",
   "metadata": {},
   "source": [
    "Note that because there are so many null values in these three columns, imputing via a statistical metric such as mean would be unwise. Half the data in those columns just can't be generalized to a mean."
   ]
  },
  {
   "cell_type": "code",
   "execution_count": 277,
   "metadata": {
    "collapsed": false
   },
   "outputs": [],
   "source": [
    "cols = [col for col in df.columns if col not in ['Domestic DVD Sales','Domestic Blu-ray Sales', 'Total Domestic Video Sales']]\n",
    "df = df[cols]"
   ]
  },
  {
   "cell_type": "code",
   "execution_count": 297,
   "metadata": {
    "collapsed": false
   },
   "outputs": [
    {
     "data": {
      "text/plain": [
       "Production Companies    448\n",
       "Week 4 TG               492\n",
       "Wknd 4 GPT              492\n",
       "Wknd 4 # Theaters       492\n",
       "Wknd 4 %Change          492\n",
       "Wknd 4 Gross            492\n",
       "Wknd 3 GPT              495\n",
       "Wknd 4 Rank             495\n",
       "Wknd 3 %Change          495\n",
       "Wknd 3 Gross            495\n",
       "Wknd 3 # Theaters       495\n",
       "Week 3 TG               495\n",
       "Wknd 3 Rank             496\n",
       "Week 2 TG               496\n",
       "Wknd 2 GPT              496\n",
       "Wknd 2 # Theaters       496\n",
       "Wknd 2 %Change          496\n",
       "Wknd 2 Gross            496\n",
       "Wknd 2 Rank             497\n",
       "Week 1 TG               497\n",
       "Wknd 1 GPT              497\n",
       "Wknd 1 Gross            497\n",
       "Wknd 1 Rank             497\n",
       "MPAA                    497\n",
       "Wknd 1 # Theaters       497\n",
       "Release                 499\n",
       "Title                   500\n",
       "Runtime                 500\n",
       "Genre                   500\n",
       "Url                     500\n",
       "Worldwide Gross         500\n",
       "Domestic Gross          500\n",
       "Production Budget       500\n",
       "Critic Rate             500\n",
       "Audience Rate           500\n",
       "dtype: int64"
      ]
     },
     "execution_count": 297,
     "metadata": {},
     "output_type": "execute_result"
    }
   ],
   "source": [
    "df.count().sort_values() # Voila much better!"
   ]
  },
  {
   "cell_type": "markdown",
   "metadata": {},
   "source": [
    "We still have null values. Let's keep working."
   ]
  },
  {
   "cell_type": "markdown",
   "metadata": {},
   "source": [
    "### Imputing by the Mean, Median or Mode"
   ]
  },
  {
   "cell_type": "markdown",
   "metadata": {},
   "source": [
    "First consider which columns make sense to compute the mean, median or mode for data imputing. While categorical variables can be imputed via the mode, the mean and median don't make sense. For continuous variables like revenue, it does make sense to calculate the mean and median.  "
   ]
  },
  {
   "cell_type": "markdown",
   "metadata": {},
   "source": [
    "For us to even calculate the mean, median or mode of a column we have to consider the data type of each column. They have to be integer or floats for the mean(), median() and mode() method to work.\n"
   ]
  },
  {
   "cell_type": "code",
   "execution_count": 279,
   "metadata": {
    "collapsed": false
   },
   "outputs": [],
   "source": [
    "df['Runtime'] = df['Runtime'].astype('float64')"
   ]
  },
  {
   "cell_type": "code",
   "execution_count": 280,
   "metadata": {
    "collapsed": false
   },
   "outputs": [
    {
     "data": {
      "text/plain": [
       "dtype('float64')"
      ]
     },
     "execution_count": 280,
     "metadata": {},
     "output_type": "execute_result"
    }
   ],
   "source": [
    "df['Runtime'].dtype"
   ]
  },
  {
   "cell_type": "code",
   "execution_count": 281,
   "metadata": {
    "collapsed": false
   },
   "outputs": [
    {
     "data": {
      "text/plain": [
       "119.46021505376343"
      ]
     },
     "execution_count": 281,
     "metadata": {},
     "output_type": "execute_result"
    }
   ],
   "source": [
    "df['Runtime'].mean()"
   ]
  },
  {
   "cell_type": "code",
   "execution_count": 282,
   "metadata": {
    "collapsed": true
   },
   "outputs": [],
   "source": [
    "runtime_mean = df['Runtime'].mean()\n",
    "df['Runtime'].fillna(runtime_mean, inplace=True)"
   ]
  },
  {
   "cell_type": "code",
   "execution_count": 298,
   "metadata": {
    "collapsed": false
   },
   "outputs": [
    {
     "data": {
      "text/plain": [
       "Production Companies    448\n",
       "Week 4 TG               492\n",
       "Wknd 4 GPT              492\n",
       "Wknd 4 # Theaters       492\n",
       "Wknd 4 %Change          492\n",
       "Wknd 4 Gross            492\n",
       "Wknd 3 GPT              495\n",
       "Wknd 4 Rank             495\n",
       "Wknd 3 %Change          495\n",
       "Wknd 3 Gross            495\n",
       "Wknd 3 # Theaters       495\n",
       "Week 3 TG               495\n",
       "Wknd 3 Rank             496\n",
       "Week 2 TG               496\n",
       "Wknd 2 GPT              496\n",
       "Wknd 2 # Theaters       496\n",
       "Wknd 2 %Change          496\n",
       "Wknd 2 Gross            496\n",
       "Wknd 2 Rank             497\n",
       "Week 1 TG               497\n",
       "Wknd 1 GPT              497\n",
       "Wknd 1 Gross            497\n",
       "Wknd 1 Rank             497\n",
       "MPAA                    497\n",
       "Wknd 1 # Theaters       497\n",
       "Release                 499\n",
       "Title                   500\n",
       "Runtime                 500\n",
       "Genre                   500\n",
       "Url                     500\n",
       "Worldwide Gross         500\n",
       "Domestic Gross          500\n",
       "Production Budget       500\n",
       "Critic Rate             500\n",
       "Audience Rate           500\n",
       "dtype: int64"
      ]
     },
     "execution_count": 298,
     "metadata": {},
     "output_type": "execute_result"
    }
   ],
   "source": [
    "df.count().sort_values() "
   ]
  },
  {
   "cell_type": "markdown",
   "metadata": {},
   "source": [
    "The next candidate for data imputing is Production Companies column which has 447 non-null object. This is where I would consider <b>manual sourcing</b>."
   ]
  },
  {
   "cell_type": "markdown",
   "metadata": {},
   "source": [
    "### Manual Sourcing"
   ]
  },
  {
   "cell_type": "markdown",
   "metadata": {},
   "source": [
    "It's certaintly tedious but not difficult to procure 53 production companies to fill our null values for that column. After all we have all of the movie titles! It "
   ]
  },
  {
   "cell_type": "code",
   "execution_count": 291,
   "metadata": {
    "collapsed": false
   },
   "outputs": [
    {
     "data": {
      "text/html": [
       "<div>\n",
       "<table border=\"1\" class=\"dataframe\">\n",
       "  <thead>\n",
       "    <tr style=\"text-align: right;\">\n",
       "      <th></th>\n",
       "      <th>Title</th>\n",
       "      <th>Production Companies</th>\n",
       "    </tr>\n",
       "  </thead>\n",
       "  <tbody>\n",
       "    <tr>\n",
       "      <th>32</th>\n",
       "      <td>The Golden Compass</td>\n",
       "      <td>NaN</td>\n",
       "    </tr>\n",
       "    <tr>\n",
       "      <th>83</th>\n",
       "      <td>The Mummy: Tomb of the Dragon Emperor</td>\n",
       "      <td>NaN</td>\n",
       "    </tr>\n",
       "    <tr>\n",
       "      <th>94</th>\n",
       "      <td>Terminator 3: Rise of the Machines</td>\n",
       "      <td>NaN</td>\n",
       "    </tr>\n",
       "    <tr>\n",
       "      <th>107</th>\n",
       "      <td>Inception</td>\n",
       "      <td>NaN</td>\n",
       "    </tr>\n",
       "    <tr>\n",
       "      <th>114</th>\n",
       "      <td>Poseidon</td>\n",
       "      <td>NaN</td>\n",
       "    </tr>\n",
       "    <tr>\n",
       "      <th>164</th>\n",
       "      <td>Sahara</td>\n",
       "      <td>NaN</td>\n",
       "    </tr>\n",
       "    <tr>\n",
       "      <th>166</th>\n",
       "      <td>Die Another Day</td>\n",
       "      <td>NaN</td>\n",
       "    </tr>\n",
       "    <tr>\n",
       "      <th>172</th>\n",
       "      <td>Lethal Weapon 4</td>\n",
       "      <td>NaN</td>\n",
       "    </tr>\n",
       "    <tr>\n",
       "      <th>184</th>\n",
       "      <td>Final Fantasy: The Spirits Within</td>\n",
       "      <td>NaN</td>\n",
       "    </tr>\n",
       "    <tr>\n",
       "      <th>188</th>\n",
       "      <td>The World is Not Enough</td>\n",
       "      <td>NaN</td>\n",
       "    </tr>\n",
       "    <tr>\n",
       "      <th>199</th>\n",
       "      <td>The Bourne Ultimatum</td>\n",
       "      <td>NaN</td>\n",
       "    </tr>\n",
       "    <tr>\n",
       "      <th>232</th>\n",
       "      <td>Batman &amp; Robin</td>\n",
       "      <td>NaN</td>\n",
       "    </tr>\n",
       "    <tr>\n",
       "      <th>247</th>\n",
       "      <td>Stuart Little 2</td>\n",
       "      <td>NaN</td>\n",
       "    </tr>\n",
       "    <tr>\n",
       "      <th>249</th>\n",
       "      <td>The Chronicles of Riddick</td>\n",
       "      <td>NaN</td>\n",
       "    </tr>\n",
       "    <tr>\n",
       "      <th>260</th>\n",
       "      <td>Dante's Peak</td>\n",
       "      <td>NaN</td>\n",
       "    </tr>\n",
       "    <tr>\n",
       "      <th>263</th>\n",
       "      <td>Astérix aux Jeux Olympiques</td>\n",
       "      <td>NaN</td>\n",
       "    </tr>\n",
       "    <tr>\n",
       "      <th>273</th>\n",
       "      <td>Tomorrow Never Dies</td>\n",
       "      <td>NaN</td>\n",
       "    </tr>\n",
       "    <tr>\n",
       "      <th>286</th>\n",
       "      <td>Home on the Range</td>\n",
       "      <td>NaN</td>\n",
       "    </tr>\n",
       "    <tr>\n",
       "      <th>287</th>\n",
       "      <td>Speed 2: Cruise Control</td>\n",
       "      <td>NaN</td>\n",
       "    </tr>\n",
       "    <tr>\n",
       "      <th>290</th>\n",
       "      <td>The Lord of the Rings: The Fellowship of the Ring</td>\n",
       "      <td>NaN</td>\n",
       "    </tr>\n",
       "    <tr>\n",
       "      <th>296</th>\n",
       "      <td>The Princess and the Frog</td>\n",
       "      <td>NaN</td>\n",
       "    </tr>\n",
       "    <tr>\n",
       "      <th>299</th>\n",
       "      <td>Town &amp; Country</td>\n",
       "      <td>NaN</td>\n",
       "    </tr>\n",
       "    <tr>\n",
       "      <th>304</th>\n",
       "      <td>Casino Royale</td>\n",
       "      <td>NaN</td>\n",
       "    </tr>\n",
       "    <tr>\n",
       "      <th>323</th>\n",
       "      <td>The Hunchback of Notre Dame</td>\n",
       "      <td>NaN</td>\n",
       "    </tr>\n",
       "    <tr>\n",
       "      <th>330</th>\n",
       "      <td>End of Days</td>\n",
       "      <td>NaN</td>\n",
       "    </tr>\n",
       "    <tr>\n",
       "      <th>331</th>\n",
       "      <td>The Stepford Wives</td>\n",
       "      <td>NaN</td>\n",
       "    </tr>\n",
       "    <tr>\n",
       "      <th>332</th>\n",
       "      <td>Surf's Up</td>\n",
       "      <td>NaN</td>\n",
       "    </tr>\n",
       "    <tr>\n",
       "      <th>335</th>\n",
       "      <td>Starship Troopers</td>\n",
       "      <td>NaN</td>\n",
       "    </tr>\n",
       "    <tr>\n",
       "      <th>345</th>\n",
       "      <td>Son of the Mask</td>\n",
       "      <td>NaN</td>\n",
       "    </tr>\n",
       "    <tr>\n",
       "      <th>354</th>\n",
       "      <td>Sex and the City 2</td>\n",
       "      <td>NaN</td>\n",
       "    </tr>\n",
       "    <tr>\n",
       "      <th>368</th>\n",
       "      <td>Jurassic Park III</td>\n",
       "      <td>NaN</td>\n",
       "    </tr>\n",
       "    <tr>\n",
       "      <th>373</th>\n",
       "      <td>The Alamo</td>\n",
       "      <td>NaN</td>\n",
       "    </tr>\n",
       "    <tr>\n",
       "      <th>374</th>\n",
       "      <td>Cutthroat Island</td>\n",
       "      <td>NaN</td>\n",
       "    </tr>\n",
       "    <tr>\n",
       "      <th>376</th>\n",
       "      <td>Men in Black</td>\n",
       "      <td>NaN</td>\n",
       "    </tr>\n",
       "    <tr>\n",
       "      <th>378</th>\n",
       "      <td>Rush Hour 2</td>\n",
       "      <td>NaN</td>\n",
       "    </tr>\n",
       "    <tr>\n",
       "      <th>385</th>\n",
       "      <td>Mulan</td>\n",
       "      <td>NaN</td>\n",
       "    </tr>\n",
       "    <tr>\n",
       "      <th>397</th>\n",
       "      <td>The Haunted Mansion</td>\n",
       "      <td>NaN</td>\n",
       "    </tr>\n",
       "    <tr>\n",
       "      <th>398</th>\n",
       "      <td>Hollow Man</td>\n",
       "      <td>NaN</td>\n",
       "    </tr>\n",
       "    <tr>\n",
       "      <th>404</th>\n",
       "      <td>The Saint</td>\n",
       "      <td>NaN</td>\n",
       "    </tr>\n",
       "    <tr>\n",
       "      <th>405</th>\n",
       "      <td>Mission to Mars</td>\n",
       "      <td>NaN</td>\n",
       "    </tr>\n",
       "    <tr>\n",
       "      <th>408</th>\n",
       "      <td>Volcano</td>\n",
       "      <td>NaN</td>\n",
       "    </tr>\n",
       "    <tr>\n",
       "      <th>439</th>\n",
       "      <td>The Fast and the Furious: Tokyo Drift</td>\n",
       "      <td>NaN</td>\n",
       "    </tr>\n",
       "    <tr>\n",
       "      <th>442</th>\n",
       "      <td>Last Action Hero</td>\n",
       "      <td>NaN</td>\n",
       "    </tr>\n",
       "    <tr>\n",
       "      <th>443</th>\n",
       "      <td>The Rundown</td>\n",
       "      <td>NaN</td>\n",
       "    </tr>\n",
       "    <tr>\n",
       "      <th>448</th>\n",
       "      <td>Collateral Damage</td>\n",
       "      <td>NaN</td>\n",
       "    </tr>\n",
       "    <tr>\n",
       "      <th>450</th>\n",
       "      <td>Judge Dredd</td>\n",
       "      <td>NaN</td>\n",
       "    </tr>\n",
       "    <tr>\n",
       "      <th>456</th>\n",
       "      <td>Nutty Professor II: The Klumps</td>\n",
       "      <td>NaN</td>\n",
       "    </tr>\n",
       "    <tr>\n",
       "      <th>461</th>\n",
       "      <td>Hellboy II: The Golden Army</td>\n",
       "      <td>NaN</td>\n",
       "    </tr>\n",
       "    <tr>\n",
       "      <th>464</th>\n",
       "      <td>The 6th Day</td>\n",
       "      <td>NaN</td>\n",
       "    </tr>\n",
       "    <tr>\n",
       "      <th>470</th>\n",
       "      <td>Batman Returns</td>\n",
       "      <td>NaN</td>\n",
       "    </tr>\n",
       "    <tr>\n",
       "      <th>495</th>\n",
       "      <td>Space Jam</td>\n",
       "      <td>NaN</td>\n",
       "    </tr>\n",
       "    <tr>\n",
       "      <th>497</th>\n",
       "      <td>The Pink Panther</td>\n",
       "      <td>NaN</td>\n",
       "    </tr>\n",
       "  </tbody>\n",
       "</table>\n",
       "</div>"
      ],
      "text/plain": [
       "                                                 Title Production Companies\n",
       "32                                  The Golden Compass                  NaN\n",
       "83               The Mummy: Tomb of the Dragon Emperor                  NaN\n",
       "94                  Terminator 3: Rise of the Machines                  NaN\n",
       "107                                          Inception                  NaN\n",
       "114                                           Poseidon                  NaN\n",
       "164                                             Sahara                  NaN\n",
       "166                                    Die Another Day                  NaN\n",
       "172                                    Lethal Weapon 4                  NaN\n",
       "184                  Final Fantasy: The Spirits Within                  NaN\n",
       "188                            The World is Not Enough                  NaN\n",
       "199                               The Bourne Ultimatum                  NaN\n",
       "232                                     Batman & Robin                  NaN\n",
       "247                                    Stuart Little 2                  NaN\n",
       "249                          The Chronicles of Riddick                  NaN\n",
       "260                                       Dante's Peak                  NaN\n",
       "263                        Astérix aux Jeux Olympiques                  NaN\n",
       "273                                Tomorrow Never Dies                  NaN\n",
       "286                                  Home on the Range                  NaN\n",
       "287                            Speed 2: Cruise Control                  NaN\n",
       "290  The Lord of the Rings: The Fellowship of the Ring                  NaN\n",
       "296                          The Princess and the Frog                  NaN\n",
       "299                                     Town & Country                  NaN\n",
       "304                                      Casino Royale                  NaN\n",
       "323                        The Hunchback of Notre Dame                  NaN\n",
       "330                                        End of Days                  NaN\n",
       "331                                 The Stepford Wives                  NaN\n",
       "332                                          Surf's Up                  NaN\n",
       "335                                  Starship Troopers                  NaN\n",
       "345                                    Son of the Mask                  NaN\n",
       "354                                 Sex and the City 2                  NaN\n",
       "368                                  Jurassic Park III                  NaN\n",
       "373                                          The Alamo                  NaN\n",
       "374                                   Cutthroat Island                  NaN\n",
       "376                                       Men in Black                  NaN\n",
       "378                                        Rush Hour 2                  NaN\n",
       "385                                              Mulan                  NaN\n",
       "397                                The Haunted Mansion                  NaN\n",
       "398                                         Hollow Man                  NaN\n",
       "404                                          The Saint                  NaN\n",
       "405                                    Mission to Mars                  NaN\n",
       "408                                            Volcano                  NaN\n",
       "439              The Fast and the Furious: Tokyo Drift                  NaN\n",
       "442                                   Last Action Hero                  NaN\n",
       "443                                        The Rundown                  NaN\n",
       "448                                  Collateral Damage                  NaN\n",
       "450                                        Judge Dredd                  NaN\n",
       "456                     Nutty Professor II: The Klumps                  NaN\n",
       "461                        Hellboy II: The Golden Army                  NaN\n",
       "464                                        The 6th Day                  NaN\n",
       "470                                     Batman Returns                  NaN\n",
       "495                                          Space Jam                  NaN\n",
       "497                                   The Pink Panther                  NaN"
      ]
     },
     "execution_count": 291,
     "metadata": {},
     "output_type": "execute_result"
    }
   ],
   "source": [
    "df.loc[df['Production Companies'].isnull(),['Title','Production Companies']]"
   ]
  },
  {
   "cell_type": "markdown",
   "metadata": {},
   "source": [
    "I know for a fact that Eon Productions produced Quantum of Solace, so I'll go ahead and add it."
   ]
  },
  {
   "cell_type": "code",
   "execution_count": 285,
   "metadata": {
    "collapsed": false
   },
   "outputs": [],
   "source": [
    "df.loc[np.where(df['Title'] == 'Quantum of Solace')[0][0], 'Production Companies'] = 'Eon Productions'"
   ]
  },
  {
   "cell_type": "code",
   "execution_count": 288,
   "metadata": {
    "collapsed": false
   },
   "outputs": [
    {
     "data": {
      "text/plain": [
       "Title                                                   Quantum of Solace\n",
       "Production Budget                                               230000000\n",
       "Domestic Gross                                                  169368427\n",
       "Worldwide Gross                                                 591692078\n",
       "Url                     http://www.the-numbers.com/movie/Quantum-of-So...\n",
       "Genre                                                              Action\n",
       "Runtime                                                               106\n",
       "MPAA                                                                PG-13\n",
       "Production Companies                                      Eon Productions\n",
       "Release                       November 14th, 2008 (Wide) by Sony Pictures\n",
       "Wknd 1 Rank                                                    2008/11/14\n",
       "Wknd 1 Gross                                                     67528882\n",
       "Wknd 1 # Theaters                                                    3451\n",
       "Wknd 1 GPT                                                          19568\n",
       "Week 1 TG                                                        67528882\n",
       "Wknd 2 Rank                                                           3.0\n",
       "Wknd 2 Gross                                                     26707945\n",
       "Wknd 2 %Change                                                        -60\n",
       "Wknd 2 # Theaters                                                    3458\n",
       "Wknd 2 GPT                                                           7724\n",
       "Week 2 TG                                                       108790786\n",
       "Wknd 3 Rank                                                          10.0\n",
       "Wknd 3 Gross                                                     18833552\n",
       "Wknd 3 %Change                                                        -29\n",
       "Wknd 3 # Theaters                                                    3501\n",
       "Wknd 3 GPT                                                           5379\n",
       "Week 3 TG                                                       141418534\n",
       "Wknd 4 Rank                                                          17.0\n",
       "Wknd 4 Gross                                                      6752390\n",
       "Wknd 4 %Change                                                        -64\n",
       "Wknd 4 # Theaters                                                    3423\n",
       "Wknd 4 GPT                                                           1973\n",
       "Week 4 TG                                                       151620134\n",
       "Critic Rate                                                            65\n",
       "Audience Rate                                                          58\n",
       "Name: 18, dtype: object"
      ]
     },
     "execution_count": 288,
     "metadata": {},
     "output_type": "execute_result"
    }
   ],
   "source": [
    "df.loc[np.where(df['Title'] == 'Quantum of Solace')[0][0]] # we see Eon Productions"
   ]
  },
  {
   "cell_type": "code",
   "execution_count": null,
   "metadata": {
    "collapsed": true
   },
   "outputs": [],
   "source": []
  },
  {
   "cell_type": "markdown",
   "metadata": {
    "collapsed": true
   },
   "source": [
    "### Data Visualization Again"
   ]
  },
  {
   "cell_type": "markdown",
   "metadata": {},
   "source": [
    "Since everything is in line, we can do pretty impressive visualizations such as below. "
   ]
  },
  {
   "cell_type": "code",
   "execution_count": null,
   "metadata": {
    "collapsed": true
   },
   "outputs": [],
   "source": []
  },
  {
   "cell_type": "code",
   "execution_count": null,
   "metadata": {
    "collapsed": true
   },
   "outputs": [],
   "source": []
  },
  {
   "cell_type": "code",
   "execution_count": null,
   "metadata": {
    "collapsed": true
   },
   "outputs": [],
   "source": []
  },
  {
   "cell_type": "markdown",
   "metadata": {},
   "source": [
    "Wow that was a lot. Let's take a break and continue on with the rest in the next lesson.\n",
    "- Feature Scaling \n",
    "- Binarizing Categorical Variables\n",
    "- Normalizing\n"
   ]
  },
  {
   "cell_type": "code",
   "execution_count": null,
   "metadata": {
    "collapsed": true
   },
   "outputs": [],
   "source": []
  },
  {
   "cell_type": "code",
   "execution_count": null,
   "metadata": {
    "collapsed": true
   },
   "outputs": [],
   "source": []
  },
  {
   "cell_type": "markdown",
   "metadata": {},
   "source": [
    "Separate input and output"
   ]
  },
  {
   "cell_type": "markdown",
   "metadata": {},
   "source": [
    "We want to predict the class column given the rest of the columns"
   ]
  },
  {
   "cell_type": "code",
   "execution_count": 18,
   "metadata": {
    "collapsed": false
   },
   "outputs": [
    {
     "data": {
      "text/plain": [
       "array([[   6.   ,  148.   ,   72.   , ...,    0.627,   50.   ,    1.   ],\n",
       "       [   1.   ,   85.   ,   66.   , ...,    0.351,   31.   ,    0.   ],\n",
       "       [   8.   ,  183.   ,   64.   , ...,    0.672,   32.   ,    1.   ],\n",
       "       ..., \n",
       "       [   5.   ,  121.   ,   72.   , ...,    0.245,   30.   ,    0.   ],\n",
       "       [   1.   ,  126.   ,   60.   , ...,    0.349,   47.   ,    1.   ],\n",
       "       [   1.   ,   93.   ,   70.   , ...,    0.315,   23.   ,    0.   ]])"
      ]
     },
     "execution_count": 18,
     "metadata": {},
     "output_type": "execute_result"
    }
   ],
   "source": [
    "value_list = df.values # each list is a row so...\n",
    "df.values"
   ]
  },
  {
   "cell_type": "code",
   "execution_count": 19,
   "metadata": {
    "collapsed": false
   },
   "outputs": [],
   "source": [
    "X = value_list[:,0:8]  # 0th to 7th column is preg to age\n",
    "Y = value_list[:,8]    # this is the class column we want to predict "
   ]
  },
  {
   "cell_type": "markdown",
   "metadata": {},
   "source": [
    "### Keeping a copy in working memory "
   ]
  },
  {
   "cell_type": "markdown",
   "metadata": {},
   "source": [
    "I recommend keeping a copy of the raw data before undergoing data pre-processing, just for safety measures."
   ]
  },
  {
   "cell_type": "code",
   "execution_count": null,
   "metadata": {
    "collapsed": true
   },
   "outputs": [],
   "source": []
  },
  {
   "cell_type": "code",
   "execution_count": 10,
   "metadata": {
    "collapsed": true
   },
   "outputs": [],
   "source": [
    "import scipy \n",
    "from sklearn.preprocessing import MinMaxScaler"
   ]
  },
  {
   "cell_type": "markdown",
   "metadata": {},
   "source": [
    "### MinMax Scaler"
   ]
  },
  {
   "cell_type": "markdown",
   "metadata": {},
   "source": [
    "**MinMaxScaler** is just one technique to rescale/normalize the data. "
   ]
  },
  {
   "cell_type": "code",
   "execution_count": 49,
   "metadata": {
    "collapsed": false
   },
   "outputs": [
    {
     "data": {
      "text/plain": [
       "array([ 0.35294,  0.74372,  0.59016,  0.35354,  0.     ,  0.50075,\n",
       "        0.23442,  0.48333])"
      ]
     },
     "execution_count": 49,
     "metadata": {},
     "output_type": "execute_result"
    }
   ],
   "source": [
    "# specify we want the features to range in value between 0 and 1 \n",
    "scaler = MinMaxScaler(feature_range=(0, 1))\n",
    "rescaledx = scaler.fit_transform(X)\n",
    "rescaledx[0,:]"
   ]
  },
  {
   "cell_type": "markdown",
   "metadata": {},
   "source": [
    "Note that fit_transform is doing two things. The fit part is molding our data into a format that can be transformed into fully scaled data and the transform part does the actual transformation. We can actually separate the process as below."
   ]
  },
  {
   "cell_type": "code",
   "execution_count": 52,
   "metadata": {
    "collapsed": false
   },
   "outputs": [
    {
     "data": {
      "text/plain": [
       "array([ 0.35294,  0.74372,  0.59016,  0.35354,  0.     ,  0.50075,\n",
       "        0.23442,  0.48333])"
      ]
     },
     "execution_count": 52,
     "metadata": {},
     "output_type": "execute_result"
    }
   ],
   "source": [
    "scaler = MinMaxScaler(feature_range=(0, 1)).fit(X) # fit here \n",
    "rescaledx = scaler.transform(X) # transform here\n",
    "rescaledx[0,:]"
   ]
  },
  {
   "cell_type": "markdown",
   "metadata": {},
   "source": [
    "### Standardize Data"
   ]
  },
  {
   "cell_type": "markdown",
   "metadata": {},
   "source": [
    "Standardization is a useful technique to transform attributes with a Gaussian distribution to a standard Gaussian distribution with a mean of 0 and a standard deviation of 1. You can standardize data using scikit-learn\n",
    "with **StandardScaler**."
   ]
  },
  {
   "cell_type": "code",
   "execution_count": 47,
   "metadata": {
    "collapsed": false
   },
   "outputs": [
    {
     "data": {
      "text/plain": [
       "array([ 0.63995,  0.84832,  0.14964,  0.90727, -0.69289,  0.20401,\n",
       "        0.46849,  1.426  ])"
      ]
     },
     "execution_count": 47,
     "metadata": {},
     "output_type": "execute_result"
    }
   ],
   "source": [
    "from sklearn.preprocessing import StandardScaler\n",
    "\n",
    "scaler = StandardScaler().fit(X)\n",
    "rescaledX = scaler.transform(X)\n",
    "rescaledX[0,:]"
   ]
  },
  {
   "cell_type": "markdown",
   "metadata": {},
   "source": [
    "### Normal Scaler"
   ]
  },
  {
   "cell_type": "markdown",
   "metadata": {},
   "source": [
    "Normalizing in scikit-learn refers to rescaling each observation (row) to have a length of 1 (called\n",
    "a unit norm or a vector with the length of 1 in linear algebra). You can normalize data in Python with scikit-learn\n",
    "using **Normalizer**."
   ]
  },
  {
   "cell_type": "code",
   "execution_count": 44,
   "metadata": {
    "collapsed": false
   },
   "outputs": [
    {
     "data": {
      "text/plain": [
       "array([ 0.03355,  0.82763,  0.40263,  0.19572,  0.     ,  0.18789,\n",
       "        0.00351,  0.2796 ])"
      ]
     },
     "execution_count": 44,
     "metadata": {},
     "output_type": "execute_result"
    }
   ],
   "source": [
    "from sklearn.preprocessing import Normalizer\n",
    "\n",
    "scaler = Normalizer().fit(X)\n",
    "rescaledX = scaler.transform(X)\n",
    "rescaledX[0,:]"
   ]
  },
  {
   "cell_type": "markdown",
   "metadata": {},
   "source": [
    "### Binarize Data"
   ]
  },
  {
   "cell_type": "markdown",
   "metadata": {},
   "source": [
    "All values above the threshold are\n",
    "marked 1 and all equal to or below are marked as 0. This is called binarizing your data or\n",
    "thresholding your data. It can be useful when you have probabilities that you want to make crisp\n",
    "values. It is also useful when feature engineering and you want to add new features that indicate\n",
    "something meaningful. You can create new binary attributes in Python using scikit-learn with\n",
    "the Binarizer class."
   ]
  },
  {
   "cell_type": "code",
   "execution_count": 56,
   "metadata": {
    "collapsed": false
   },
   "outputs": [
    {
     "data": {
      "text/plain": [
       "array([[ 1.,  1.,  1.,  1.,  0.,  1.,  1.,  1.],\n",
       "       [ 1.,  1.,  1.,  1.,  0.,  1.,  1.,  1.],\n",
       "       [ 1.,  1.,  1.,  0.,  0.,  1.,  1.,  1.],\n",
       "       [ 1.,  1.,  1.,  1.,  1.,  1.,  1.,  1.]])"
      ]
     },
     "execution_count": 56,
     "metadata": {},
     "output_type": "execute_result"
    }
   ],
   "source": [
    "from sklearn.preprocessing import Binarizer\n",
    "\n",
    "scaler = Binarizer(threshold=0.0).fit(X) # you can specify the threshold to be whatever you like \n",
    "rescaledX = scaler.transform(X)\n",
    "rescaledX[0:4,:]"
   ]
  },
  {
   "cell_type": "markdown",
   "metadata": {},
   "source": [
    "> With the default threshold of 0, only values greater than 0 map to 1. "
   ]
  },
  {
   "cell_type": "code",
   "execution_count": 33,
   "metadata": {
    "collapsed": false
   },
   "outputs": [
    {
     "data": {
      "text/html": [
       "<div>\n",
       "<table border=\"1\" class=\"dataframe\">\n",
       "  <thead>\n",
       "    <tr style=\"text-align: right;\">\n",
       "      <th></th>\n",
       "      <th>preg</th>\n",
       "      <th>plas</th>\n",
       "      <th>pres</th>\n",
       "      <th>skin</th>\n",
       "      <th>test</th>\n",
       "      <th>mass</th>\n",
       "      <th>pedi</th>\n",
       "      <th>age</th>\n",
       "      <th>class</th>\n",
       "    </tr>\n",
       "  </thead>\n",
       "  <tbody>\n",
       "    <tr>\n",
       "      <th>0</th>\n",
       "      <td>6</td>\n",
       "      <td>148</td>\n",
       "      <td>72</td>\n",
       "      <td>35</td>\n",
       "      <td>0</td>\n",
       "      <td>33.6</td>\n",
       "      <td>0.627</td>\n",
       "      <td>50</td>\n",
       "      <td>1</td>\n",
       "    </tr>\n",
       "    <tr>\n",
       "      <th>1</th>\n",
       "      <td>1</td>\n",
       "      <td>85</td>\n",
       "      <td>66</td>\n",
       "      <td>29</td>\n",
       "      <td>0</td>\n",
       "      <td>26.6</td>\n",
       "      <td>0.351</td>\n",
       "      <td>31</td>\n",
       "      <td>0</td>\n",
       "    </tr>\n",
       "    <tr>\n",
       "      <th>2</th>\n",
       "      <td>8</td>\n",
       "      <td>183</td>\n",
       "      <td>64</td>\n",
       "      <td>0</td>\n",
       "      <td>0</td>\n",
       "      <td>23.3</td>\n",
       "      <td>0.672</td>\n",
       "      <td>32</td>\n",
       "      <td>1</td>\n",
       "    </tr>\n",
       "    <tr>\n",
       "      <th>3</th>\n",
       "      <td>1</td>\n",
       "      <td>89</td>\n",
       "      <td>66</td>\n",
       "      <td>23</td>\n",
       "      <td>94</td>\n",
       "      <td>28.1</td>\n",
       "      <td>0.167</td>\n",
       "      <td>21</td>\n",
       "      <td>0</td>\n",
       "    </tr>\n",
       "  </tbody>\n",
       "</table>\n",
       "</div>"
      ],
      "text/plain": [
       "   preg  plas  pres  skin  test  mass   pedi  age  class\n",
       "0     6   148    72    35     0  33.6  0.627   50      1\n",
       "1     1    85    66    29     0  26.6  0.351   31      0\n",
       "2     8   183    64     0     0  23.3  0.672   32      1\n",
       "3     1    89    66    23    94  28.1  0.167   21      0"
      ]
     },
     "execution_count": 33,
     "metadata": {},
     "output_type": "execute_result"
    }
   ],
   "source": [
    "df.head(4) # you can confirm that it worked"
   ]
  },
  {
   "cell_type": "markdown",
   "metadata": {},
   "source": [
    "### All in all we learned: \n",
    "\n",
    "- Case by Case Data Preparation\n",
    "- Data Imputing\n",
    "- Feature Scaling \n",
    "- Binarizing Categorical Variables\n",
    "- Normalizing"
   ]
  },
  {
   "cell_type": "markdown",
   "metadata": {},
   "source": [
    "<b> Key Points:</b>\n",
    "\n",
    "Sometimes it's the case that the data is so messy that minimal data pre-processing should be the first step before conducting data exploration and visualization. However do note that had data exploration and visualization not been conducted, we might not have spotted the messiness of the data. \n",
    "\n",
    "Sometimes the messiness is obvious. Sometimes not so much. \n",
    "\n",
    "I always recommend basic data exploration and visualization before data pre-processing. Not only will they inspire us to understand our data better and frame good questions, they will also help us brainstorm different pre-processing techniques to clean our data in a desirable way."
   ]
  },
  {
   "cell_type": "markdown",
   "metadata": {},
   "source": [
    "Note that you can go back and do more data visualization. Now that the data has been pre-processed, we're confident that visualizations rendered from this cleaner data will provide us additional insights.  "
   ]
  },
  {
   "cell_type": "markdown",
   "metadata": {},
   "source": [
    "I usually like do data visualization on raw data first to gain inspirations"
   ]
  },
  {
   "cell_type": "markdown",
   "metadata": {},
   "source": [
    "You would then try out different algorithms on these different views of your data. Eventually you get an intuition for what kind of pre-processing you have to do as you practice data science. "
   ]
  },
  {
   "cell_type": "markdown",
   "metadata": {},
   "source": [
    "# We're Done!"
   ]
  },
  {
   "cell_type": "markdown",
   "metadata": {},
   "source": [
    "This tutorial closely follows my Medium blog [@dhexonian](http://medium.com/@dhexonian).\n",
    "\n",
    "If you have any questions or requests please Tweet those to me, also [@dhexonian](https://twitter.com/dhexonian) "
   ]
  }
 ],
 "metadata": {
  "kernelspec": {
   "display_name": "Python 2",
   "language": "python",
   "name": "python2"
  },
  "language_info": {
   "codemirror_mode": {
    "name": "ipython",
    "version": 2
   },
   "file_extension": ".py",
   "mimetype": "text/x-python",
   "name": "python",
   "nbconvert_exporter": "python",
   "pygments_lexer": "ipython2",
   "version": "2.7.10"
  }
 },
 "nbformat": 4,
 "nbformat_minor": 0
}
